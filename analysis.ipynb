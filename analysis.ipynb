{
 "cells": [
  {
   "cell_type": "markdown",
   "metadata": {
    "id": "Zz5Q3e8PpGiX"
   },
   "source": [
    "## **Spotify Wrapped: Detailed Overview.**\n",
    "\n",
    "\n",
    "---\n",
    "\n"
   ]
  },
  {
   "cell_type": "markdown",
   "metadata": {
    "id": "6726gvm6M67x"
   },
   "source": [
    "**Import the required libraries and modules.**"
   ]
  },
  {
   "cell_type": "code",
   "execution_count": 125,
   "metadata": {
    "id": "jflprvjgp4q_"
   },
   "outputs": [],
   "source": [
    "import pandas as pd\n",
    "import matplotlib.pyplot as plt\n",
    "import seaborn as snsv\n",
    "\n",
    "import textwrap\n",
    "from itertools import product"
   ]
  },
  {
   "cell_type": "markdown",
   "metadata": {
    "id": "TuALv_TeOHxu"
   },
   "source": [
    "#### **Load the files.**\n",
    "\n",
    "The data must be placed in the ```/spotify_data``` in order to be loaded."
   ]
  },
  {
   "cell_type": "code",
   "execution_count": 126,
   "metadata": {
    "id": "ftaT-THvFXN7"
   },
   "outputs": [],
   "source": [
    "import os\n",
    "\n",
    "# Example assuming the folder is in the same directory as your notebook:\n",
    "json_directory = \"spotify_data\" \n",
    "\n",
    "# Get a list of all JSON files in the directory that start with \"Streaming_History_Audio_2025_\"\n",
    "json_files = [os.path.join(json_directory, f) \n",
    "              for f in os.listdir(json_directory) \n",
    "              if f.startswith(\"Streaming_History_Audio_2025_\") and f.endswith(\".json\")]\n",
    "\n",
    "# Read each JSON file into a DataFrame and concatenate them\n",
    "df = pd.concat((pd.read_json(f) for f in json_files), ignore_index=True)"
   ]
  },
  {
   "cell_type": "markdown",
   "metadata": {
    "id": "nh3OKjN3PdNH"
   },
   "source": [
    "#### **Read the data.**"
   ]
  },
  {
   "cell_type": "code",
   "execution_count": 127,
   "metadata": {
    "colab": {
     "base_uri": "https://localhost:8080/",
     "height": 327
    },
    "id": "Lu1yprwEKl5r",
    "outputId": "e09eea79-568e-4d1a-8ee8-34f354d1371f"
   },
   "outputs": [
    {
     "name": "stdout",
     "output_type": "stream",
     "text": [
      "\n",
      "#### First 5 rows of the DataFrame: ####\n",
      "\n"
     ]
    },
    {
     "data": {
      "text/html": [
       "<div>\n",
       "<style scoped>\n",
       "    .dataframe tbody tr th:only-of-type {\n",
       "        vertical-align: middle;\n",
       "    }\n",
       "\n",
       "    .dataframe tbody tr th {\n",
       "        vertical-align: top;\n",
       "    }\n",
       "\n",
       "    .dataframe thead th {\n",
       "        text-align: right;\n",
       "    }\n",
       "</style>\n",
       "<table border=\"1\" class=\"dataframe\">\n",
       "  <thead>\n",
       "    <tr style=\"text-align: right;\">\n",
       "      <th></th>\n",
       "      <th>ts</th>\n",
       "      <th>platform</th>\n",
       "      <th>ms_played</th>\n",
       "      <th>conn_country</th>\n",
       "      <th>ip_addr</th>\n",
       "      <th>master_metadata_track_name</th>\n",
       "      <th>master_metadata_album_artist_name</th>\n",
       "      <th>master_metadata_album_album_name</th>\n",
       "      <th>spotify_track_uri</th>\n",
       "      <th>episode_name</th>\n",
       "      <th>...</th>\n",
       "      <th>audiobook_uri</th>\n",
       "      <th>audiobook_chapter_uri</th>\n",
       "      <th>audiobook_chapter_title</th>\n",
       "      <th>reason_start</th>\n",
       "      <th>reason_end</th>\n",
       "      <th>shuffle</th>\n",
       "      <th>skipped</th>\n",
       "      <th>offline</th>\n",
       "      <th>offline_timestamp</th>\n",
       "      <th>incognito_mode</th>\n",
       "    </tr>\n",
       "  </thead>\n",
       "  <tbody>\n",
       "    <tr>\n",
       "      <td>0</td>\n",
       "      <td>2025-01-06T23:56:34Z</td>\n",
       "      <td>android</td>\n",
       "      <td>4996</td>\n",
       "      <td>AR</td>\n",
       "      <td>2802:8012:536c:5100:8c54:5f92:a320:6b24</td>\n",
       "      <td>Luv (sic) 12\" Remix</td>\n",
       "      <td>Nujabes</td>\n",
       "      <td>Luv(sic) Hexalogy</td>\n",
       "      <td>spotify:track:7GgxAb6nyVReB3FFxtQWkV</td>\n",
       "      <td>NaN</td>\n",
       "      <td>...</td>\n",
       "      <td>NaN</td>\n",
       "      <td>NaN</td>\n",
       "      <td>NaN</td>\n",
       "      <td>clickrow</td>\n",
       "      <td>endplay</td>\n",
       "      <td>True</td>\n",
       "      <td>True</td>\n",
       "      <td>False</td>\n",
       "      <td>1736207789</td>\n",
       "      <td>False</td>\n",
       "    </tr>\n",
       "    <tr>\n",
       "      <td>1</td>\n",
       "      <td>2025-01-06T23:56:44Z</td>\n",
       "      <td>android</td>\n",
       "      <td>9073</td>\n",
       "      <td>AR</td>\n",
       "      <td>2802:8012:536c:5100:8c54:5f92:a320:6b24</td>\n",
       "      <td>Luv (sic) pt6 Uyama Hiroto Remix Instrumentals</td>\n",
       "      <td>Nujabes</td>\n",
       "      <td>Luv(sic) Hexalogy</td>\n",
       "      <td>spotify:track:6bjYPIzpMjFhlYbgPhi8AP</td>\n",
       "      <td>NaN</td>\n",
       "      <td>...</td>\n",
       "      <td>NaN</td>\n",
       "      <td>NaN</td>\n",
       "      <td>NaN</td>\n",
       "      <td>clickrow</td>\n",
       "      <td>endplay</td>\n",
       "      <td>True</td>\n",
       "      <td>True</td>\n",
       "      <td>False</td>\n",
       "      <td>1736207794</td>\n",
       "      <td>False</td>\n",
       "    </tr>\n",
       "    <tr>\n",
       "      <td>2</td>\n",
       "      <td>2025-01-06T23:57:25Z</td>\n",
       "      <td>android</td>\n",
       "      <td>40913</td>\n",
       "      <td>AR</td>\n",
       "      <td>2802:8012:536c:5100:8c54:5f92:a320:6b24</td>\n",
       "      <td>Luv (sic) pt6 Uyama Hiroto Remix</td>\n",
       "      <td>Nujabes</td>\n",
       "      <td>Luv(sic) Hexalogy</td>\n",
       "      <td>spotify:track:16wGHOPaWoat5rkAZkixxk</td>\n",
       "      <td>NaN</td>\n",
       "      <td>...</td>\n",
       "      <td>NaN</td>\n",
       "      <td>NaN</td>\n",
       "      <td>NaN</td>\n",
       "      <td>clickrow</td>\n",
       "      <td>endplay</td>\n",
       "      <td>True</td>\n",
       "      <td>True</td>\n",
       "      <td>False</td>\n",
       "      <td>1736207804</td>\n",
       "      <td>False</td>\n",
       "    </tr>\n",
       "    <tr>\n",
       "      <td>3</td>\n",
       "      <td>2025-01-06T23:57:26Z</td>\n",
       "      <td>android</td>\n",
       "      <td>1029</td>\n",
       "      <td>AR</td>\n",
       "      <td>2802:8012:536c:5100:8c54:5f92:a320:6b24</td>\n",
       "      <td>Jazz presso</td>\n",
       "      <td>re:plus</td>\n",
       "      <td>Prayer</td>\n",
       "      <td>spotify:track:1HrS8TQFRwpo0Y7Xg5JqFv</td>\n",
       "      <td>NaN</td>\n",
       "      <td>...</td>\n",
       "      <td>NaN</td>\n",
       "      <td>NaN</td>\n",
       "      <td>NaN</td>\n",
       "      <td>clickrow</td>\n",
       "      <td>endplay</td>\n",
       "      <td>False</td>\n",
       "      <td>True</td>\n",
       "      <td>False</td>\n",
       "      <td>1736207845</td>\n",
       "      <td>False</td>\n",
       "    </tr>\n",
       "    <tr>\n",
       "      <td>4</td>\n",
       "      <td>2025-01-06T23:57:41Z</td>\n",
       "      <td>android</td>\n",
       "      <td>14673</td>\n",
       "      <td>AR</td>\n",
       "      <td>2802:8012:536c:5100:8c54:5f92:a320:6b24</td>\n",
       "      <td>Migratory birds</td>\n",
       "      <td>re:plus</td>\n",
       "      <td>Prayer</td>\n",
       "      <td>spotify:track:0X58uodvlbESqAMKLnV2A7</td>\n",
       "      <td>NaN</td>\n",
       "      <td>...</td>\n",
       "      <td>NaN</td>\n",
       "      <td>NaN</td>\n",
       "      <td>NaN</td>\n",
       "      <td>clickrow</td>\n",
       "      <td>endplay</td>\n",
       "      <td>False</td>\n",
       "      <td>True</td>\n",
       "      <td>False</td>\n",
       "      <td>1736207846</td>\n",
       "      <td>False</td>\n",
       "    </tr>\n",
       "  </tbody>\n",
       "</table>\n",
       "<p>5 rows × 23 columns</p>\n",
       "</div>"
      ],
      "text/plain": [
       "                     ts platform  ms_played conn_country  \\\n",
       "0  2025-01-06T23:56:34Z  android       4996           AR   \n",
       "1  2025-01-06T23:56:44Z  android       9073           AR   \n",
       "2  2025-01-06T23:57:25Z  android      40913           AR   \n",
       "3  2025-01-06T23:57:26Z  android       1029           AR   \n",
       "4  2025-01-06T23:57:41Z  android      14673           AR   \n",
       "\n",
       "                                   ip_addr  \\\n",
       "0  2802:8012:536c:5100:8c54:5f92:a320:6b24   \n",
       "1  2802:8012:536c:5100:8c54:5f92:a320:6b24   \n",
       "2  2802:8012:536c:5100:8c54:5f92:a320:6b24   \n",
       "3  2802:8012:536c:5100:8c54:5f92:a320:6b24   \n",
       "4  2802:8012:536c:5100:8c54:5f92:a320:6b24   \n",
       "\n",
       "                       master_metadata_track_name  \\\n",
       "0                             Luv (sic) 12\" Remix   \n",
       "1  Luv (sic) pt6 Uyama Hiroto Remix Instrumentals   \n",
       "2                Luv (sic) pt6 Uyama Hiroto Remix   \n",
       "3                                     Jazz presso   \n",
       "4                                 Migratory birds   \n",
       "\n",
       "  master_metadata_album_artist_name master_metadata_album_album_name  \\\n",
       "0                           Nujabes                Luv(sic) Hexalogy   \n",
       "1                           Nujabes                Luv(sic) Hexalogy   \n",
       "2                           Nujabes                Luv(sic) Hexalogy   \n",
       "3                           re:plus                           Prayer   \n",
       "4                           re:plus                           Prayer   \n",
       "\n",
       "                      spotify_track_uri episode_name  ... audiobook_uri  \\\n",
       "0  spotify:track:7GgxAb6nyVReB3FFxtQWkV          NaN  ...           NaN   \n",
       "1  spotify:track:6bjYPIzpMjFhlYbgPhi8AP          NaN  ...           NaN   \n",
       "2  spotify:track:16wGHOPaWoat5rkAZkixxk          NaN  ...           NaN   \n",
       "3  spotify:track:1HrS8TQFRwpo0Y7Xg5JqFv          NaN  ...           NaN   \n",
       "4  spotify:track:0X58uodvlbESqAMKLnV2A7          NaN  ...           NaN   \n",
       "\n",
       "  audiobook_chapter_uri  audiobook_chapter_title  reason_start  reason_end  \\\n",
       "0                   NaN                      NaN      clickrow     endplay   \n",
       "1                   NaN                      NaN      clickrow     endplay   \n",
       "2                   NaN                      NaN      clickrow     endplay   \n",
       "3                   NaN                      NaN      clickrow     endplay   \n",
       "4                   NaN                      NaN      clickrow     endplay   \n",
       "\n",
       "   shuffle skipped offline  offline_timestamp  incognito_mode  \n",
       "0     True    True   False         1736207789           False  \n",
       "1     True    True   False         1736207794           False  \n",
       "2     True    True   False         1736207804           False  \n",
       "3    False    True   False         1736207845           False  \n",
       "4    False    True   False         1736207846           False  \n",
       "\n",
       "[5 rows x 23 columns]"
      ]
     },
     "metadata": {},
     "output_type": "display_data"
    }
   ],
   "source": [
    "print(\"\\n#### First 5 rows of the DataFrame: ####\\n\")\n",
    "display(df.head())"
   ]
  },
  {
   "cell_type": "markdown",
   "metadata": {
    "id": "Zws9DoPawq3P"
   },
   "source": [
    "The following table explains the technical fields required for this analysis:\n",
    "\n",
    "| Technical field | Contains |\n",
    "| :--- | :--- |\n",
    "| **ts** | This field is a timestamp indicating when the track stopped playing in UTC (Coordinated Universal Time). Te order is year, month and day followed by a timestamp in military time |\n",
    "| **ms_played** | This field is the number of milliseconds the stream was played. |\n",
    "| **master_metadata_track_name** | This field is the name of the track. |\n",
    "| **master_metadata_album_artist_name** | This field is the name of the artist, band or podcast. |\n",
    "| **master_metadata_album_album_name** | This field is the name of the album of the track. |"
   ]
  },
  {
   "cell_type": "markdown",
   "metadata": {
    "id": "W8VXR_o2NYhT"
   },
   "source": [
    "####  **Select And Rename The Columns Required For This Analysis.**"
   ]
  },
  {
   "cell_type": "code",
   "execution_count": 128,
   "metadata": {
    "colab": {
     "base_uri": "https://localhost:8080/",
     "height": 260
    },
    "id": "y8sJPybWgu5u",
    "outputId": "a77ea1e2-d64a-4c3b-c009-aaa2e8ac21ae"
   },
   "outputs": [
    {
     "name": "stdout",
     "output_type": "stream",
     "text": [
      "\n",
      "#### Columns required for this analysis: ####\n",
      "\n"
     ]
    },
    {
     "data": {
      "text/html": [
       "<div>\n",
       "<style scoped>\n",
       "    .dataframe tbody tr th:only-of-type {\n",
       "        vertical-align: middle;\n",
       "    }\n",
       "\n",
       "    .dataframe tbody tr th {\n",
       "        vertical-align: top;\n",
       "    }\n",
       "\n",
       "    .dataframe thead th {\n",
       "        text-align: right;\n",
       "    }\n",
       "</style>\n",
       "<table border=\"1\" class=\"dataframe\">\n",
       "  <thead>\n",
       "    <tr style=\"text-align: right;\">\n",
       "      <th></th>\n",
       "      <th>endTime</th>\n",
       "      <th>msPlayed</th>\n",
       "      <th>trackName</th>\n",
       "      <th>artistName</th>\n",
       "      <th>albumName</th>\n",
       "    </tr>\n",
       "  </thead>\n",
       "  <tbody>\n",
       "    <tr>\n",
       "      <td>0</td>\n",
       "      <td>2025-01-06T23:56:34Z</td>\n",
       "      <td>4996</td>\n",
       "      <td>Luv (sic) 12\" Remix</td>\n",
       "      <td>Nujabes</td>\n",
       "      <td>Luv(sic) Hexalogy</td>\n",
       "    </tr>\n",
       "    <tr>\n",
       "      <td>1</td>\n",
       "      <td>2025-01-06T23:56:44Z</td>\n",
       "      <td>9073</td>\n",
       "      <td>Luv (sic) pt6 Uyama Hiroto Remix Instrumentals</td>\n",
       "      <td>Nujabes</td>\n",
       "      <td>Luv(sic) Hexalogy</td>\n",
       "    </tr>\n",
       "    <tr>\n",
       "      <td>2</td>\n",
       "      <td>2025-01-06T23:57:25Z</td>\n",
       "      <td>40913</td>\n",
       "      <td>Luv (sic) pt6 Uyama Hiroto Remix</td>\n",
       "      <td>Nujabes</td>\n",
       "      <td>Luv(sic) Hexalogy</td>\n",
       "    </tr>\n",
       "    <tr>\n",
       "      <td>3</td>\n",
       "      <td>2025-01-06T23:57:26Z</td>\n",
       "      <td>1029</td>\n",
       "      <td>Jazz presso</td>\n",
       "      <td>re:plus</td>\n",
       "      <td>Prayer</td>\n",
       "    </tr>\n",
       "    <tr>\n",
       "      <td>4</td>\n",
       "      <td>2025-01-06T23:57:41Z</td>\n",
       "      <td>14673</td>\n",
       "      <td>Migratory birds</td>\n",
       "      <td>re:plus</td>\n",
       "      <td>Prayer</td>\n",
       "    </tr>\n",
       "  </tbody>\n",
       "</table>\n",
       "</div>"
      ],
      "text/plain": [
       "                endTime  msPlayed  \\\n",
       "0  2025-01-06T23:56:34Z      4996   \n",
       "1  2025-01-06T23:56:44Z      9073   \n",
       "2  2025-01-06T23:57:25Z     40913   \n",
       "3  2025-01-06T23:57:26Z      1029   \n",
       "4  2025-01-06T23:57:41Z     14673   \n",
       "\n",
       "                                        trackName artistName  \\\n",
       "0                             Luv (sic) 12\" Remix    Nujabes   \n",
       "1  Luv (sic) pt6 Uyama Hiroto Remix Instrumentals    Nujabes   \n",
       "2                Luv (sic) pt6 Uyama Hiroto Remix    Nujabes   \n",
       "3                                     Jazz presso    re:plus   \n",
       "4                                 Migratory birds    re:plus   \n",
       "\n",
       "           albumName  \n",
       "0  Luv(sic) Hexalogy  \n",
       "1  Luv(sic) Hexalogy  \n",
       "2  Luv(sic) Hexalogy  \n",
       "3             Prayer  \n",
       "4             Prayer  "
      ]
     },
     "metadata": {},
     "output_type": "display_data"
    }
   ],
   "source": [
    "df = df[[\"ts\",\"ms_played\", \"master_metadata_track_name\", \"master_metadata_album_artist_name\", \"master_metadata_album_album_name\"]]\n",
    "df.rename(columns={\n",
    "    \"ts\": \"endTime\",\n",
    "    \"ms_played\": \"msPlayed\",\n",
    "    \"master_metadata_track_name\": \"trackName\",\n",
    "    \"master_metadata_album_artist_name\": \"artistName\",\n",
    "    \"master_metadata_album_album_name\": \"albumName\"\n",
    "    }, inplace=True)\n",
    "\n",
    "\n",
    "print(\"\\n#### Columns required for this analysis: ####\\n\")\n",
    "display(df.head())"
   ]
  },
  {
   "cell_type": "markdown",
   "metadata": {
    "id": "Uccj3SN2TT8w"
   },
   "source": [
    "#### **Check The Data Types Off The Columns.**"
   ]
  },
  {
   "cell_type": "code",
   "execution_count": 129,
   "metadata": {
    "colab": {
     "base_uri": "https://localhost:8080/",
     "height": 241
    },
    "id": "vpOBH0uwTSTV",
    "outputId": "410a1863-a519-4482-a7ca-32dfa472f446"
   },
   "outputs": [
    {
     "data": {
      "text/plain": [
       "endTime       object\n",
       "msPlayed       int64\n",
       "trackName     object\n",
       "artistName    object\n",
       "albumName     object\n",
       "dtype: object"
      ]
     },
     "metadata": {},
     "output_type": "display_data"
    }
   ],
   "source": [
    "display(df.dtypes)"
   ]
  },
  {
   "cell_type": "markdown",
   "metadata": {
    "id": "ZtHiJfTsTz_4"
   },
   "source": [
    "#### **Convert The `endTime` To a Datetime Format And Add Two New Columns: `month` and `week`.**"
   ]
  },
  {
   "cell_type": "code",
   "execution_count": 130,
   "metadata": {
    "colab": {
     "base_uri": "https://localhost:8080/",
     "height": 296
    },
    "id": "7UhsGwesS4Hf",
    "outputId": "3e17df2a-a41d-45c1-c64e-9ad542bb917b"
   },
   "outputs": [
    {
     "name": "stdout",
     "output_type": "stream",
     "text": [
      "\n",
      "#### Final DataFrame:####\n",
      "\n"
     ]
    },
    {
     "data": {
      "text/html": [
       "<div>\n",
       "<style scoped>\n",
       "    .dataframe tbody tr th:only-of-type {\n",
       "        vertical-align: middle;\n",
       "    }\n",
       "\n",
       "    .dataframe tbody tr th {\n",
       "        vertical-align: top;\n",
       "    }\n",
       "\n",
       "    .dataframe thead th {\n",
       "        text-align: right;\n",
       "    }\n",
       "</style>\n",
       "<table border=\"1\" class=\"dataframe\">\n",
       "  <thead>\n",
       "    <tr style=\"text-align: right;\">\n",
       "      <th></th>\n",
       "      <th>endTime</th>\n",
       "      <th>msPlayed</th>\n",
       "      <th>trackName</th>\n",
       "      <th>artistName</th>\n",
       "      <th>albumName</th>\n",
       "      <th>month</th>\n",
       "      <th>week</th>\n",
       "    </tr>\n",
       "  </thead>\n",
       "  <tbody>\n",
       "    <tr>\n",
       "      <td>0</td>\n",
       "      <td>2025-01-06 23:56:34+00:00</td>\n",
       "      <td>4996</td>\n",
       "      <td>Luv (sic) 12\" Remix</td>\n",
       "      <td>Nujabes</td>\n",
       "      <td>Luv(sic) Hexalogy</td>\n",
       "      <td>1</td>\n",
       "      <td>2025-01-06/2025-01-12</td>\n",
       "    </tr>\n",
       "    <tr>\n",
       "      <td>1</td>\n",
       "      <td>2025-01-06 23:56:44+00:00</td>\n",
       "      <td>9073</td>\n",
       "      <td>Luv (sic) pt6 Uyama Hiroto Remix Instrumentals</td>\n",
       "      <td>Nujabes</td>\n",
       "      <td>Luv(sic) Hexalogy</td>\n",
       "      <td>1</td>\n",
       "      <td>2025-01-06/2025-01-12</td>\n",
       "    </tr>\n",
       "    <tr>\n",
       "      <td>2</td>\n",
       "      <td>2025-01-06 23:57:25+00:00</td>\n",
       "      <td>40913</td>\n",
       "      <td>Luv (sic) pt6 Uyama Hiroto Remix</td>\n",
       "      <td>Nujabes</td>\n",
       "      <td>Luv(sic) Hexalogy</td>\n",
       "      <td>1</td>\n",
       "      <td>2025-01-06/2025-01-12</td>\n",
       "    </tr>\n",
       "    <tr>\n",
       "      <td>3</td>\n",
       "      <td>2025-01-06 23:57:26+00:00</td>\n",
       "      <td>1029</td>\n",
       "      <td>Jazz presso</td>\n",
       "      <td>re:plus</td>\n",
       "      <td>Prayer</td>\n",
       "      <td>1</td>\n",
       "      <td>2025-01-06/2025-01-12</td>\n",
       "    </tr>\n",
       "    <tr>\n",
       "      <td>4</td>\n",
       "      <td>2025-01-06 23:57:41+00:00</td>\n",
       "      <td>14673</td>\n",
       "      <td>Migratory birds</td>\n",
       "      <td>re:plus</td>\n",
       "      <td>Prayer</td>\n",
       "      <td>1</td>\n",
       "      <td>2025-01-06/2025-01-12</td>\n",
       "    </tr>\n",
       "  </tbody>\n",
       "</table>\n",
       "</div>"
      ],
      "text/plain": [
       "                    endTime  msPlayed  \\\n",
       "0 2025-01-06 23:56:34+00:00      4996   \n",
       "1 2025-01-06 23:56:44+00:00      9073   \n",
       "2 2025-01-06 23:57:25+00:00     40913   \n",
       "3 2025-01-06 23:57:26+00:00      1029   \n",
       "4 2025-01-06 23:57:41+00:00     14673   \n",
       "\n",
       "                                        trackName artistName  \\\n",
       "0                             Luv (sic) 12\" Remix    Nujabes   \n",
       "1  Luv (sic) pt6 Uyama Hiroto Remix Instrumentals    Nujabes   \n",
       "2                Luv (sic) pt6 Uyama Hiroto Remix    Nujabes   \n",
       "3                                     Jazz presso    re:plus   \n",
       "4                                 Migratory birds    re:plus   \n",
       "\n",
       "           albumName  month                   week  \n",
       "0  Luv(sic) Hexalogy      1  2025-01-06/2025-01-12  \n",
       "1  Luv(sic) Hexalogy      1  2025-01-06/2025-01-12  \n",
       "2  Luv(sic) Hexalogy      1  2025-01-06/2025-01-12  \n",
       "3             Prayer      1  2025-01-06/2025-01-12  \n",
       "4             Prayer      1  2025-01-06/2025-01-12  "
      ]
     },
     "metadata": {},
     "output_type": "display_data"
    }
   ],
   "source": [
    "df['endTime'] = pd.to_datetime(df['endTime'])\n",
    "df['month'] = df['endTime'].dt.month\n",
    "df['week'] = df['endTime'].dt.to_period('W')\n",
    "\n",
    "print(\"\\n#### Final DataFrame:####\\n\")\n",
    "display(df.head())"
   ]
  },
  {
   "cell_type": "markdown",
   "metadata": {
    "id": "XplY87veXLgV"
   },
   "source": [
    "#### **What Time Frame Does The Information Collected From Spotify Refer To?**"
   ]
  },
  {
   "cell_type": "code",
   "execution_count": 131,
   "metadata": {
    "colab": {
     "base_uri": "https://localhost:8080/"
    },
    "id": "UidIxUqaXNue",
    "outputId": "986037c1-64f0-4105-927d-9d9f1dfea56f"
   },
   "outputs": [
    {
     "name": "stdout",
     "output_type": "stream",
     "text": [
      "The information obtained from Spotify pertains to the period from 2025-01-06, to 2025-09-20.\n"
     ]
    }
   ],
   "source": [
    "first_date = df['endTime'].dt.date.iloc[0]\n",
    "last_date = df['endTime'].dt.date.iloc[-1]\n",
    "print(f\"The information obtained from Spotify pertains to the period from {first_date}, to {last_date}.\")"
   ]
  },
  {
   "cell_type": "markdown",
   "metadata": {
    "id": "shZgfzNrbBNB"
   },
   "source": [
    "#### **How Much Data Does Spotify Collect Every Month?**"
   ]
  },
  {
   "cell_type": "code",
   "execution_count": 132,
   "metadata": {
    "colab": {
     "base_uri": "https://localhost:8080/",
     "height": 363
    },
    "id": "qwfeeO6MbGlu",
    "outputId": "60a9f1ed-26c7-465e-ecd6-29d582d09556"
   },
   "outputs": [
    {
     "data": {
      "text/html": [
       "<div>\n",
       "<style scoped>\n",
       "    .dataframe tbody tr th:only-of-type {\n",
       "        vertical-align: middle;\n",
       "    }\n",
       "\n",
       "    .dataframe tbody tr th {\n",
       "        vertical-align: top;\n",
       "    }\n",
       "\n",
       "    .dataframe thead th {\n",
       "        text-align: right;\n",
       "    }\n",
       "</style>\n",
       "<table border=\"1\" class=\"dataframe\">\n",
       "  <thead>\n",
       "    <tr style=\"text-align: right;\">\n",
       "      <th></th>\n",
       "      <th>artistName</th>\n",
       "      <th>trackName</th>\n",
       "    </tr>\n",
       "    <tr>\n",
       "      <th>month</th>\n",
       "      <th></th>\n",
       "      <th></th>\n",
       "    </tr>\n",
       "  </thead>\n",
       "  <tbody>\n",
       "    <tr>\n",
       "      <td>1</td>\n",
       "      <td>860</td>\n",
       "      <td>2714</td>\n",
       "    </tr>\n",
       "    <tr>\n",
       "      <td>2</td>\n",
       "      <td>916</td>\n",
       "      <td>2515</td>\n",
       "    </tr>\n",
       "    <tr>\n",
       "      <td>3</td>\n",
       "      <td>1410</td>\n",
       "      <td>4098</td>\n",
       "    </tr>\n",
       "    <tr>\n",
       "      <td>4</td>\n",
       "      <td>864</td>\n",
       "      <td>2435</td>\n",
       "    </tr>\n",
       "    <tr>\n",
       "      <td>5</td>\n",
       "      <td>1556</td>\n",
       "      <td>3683</td>\n",
       "    </tr>\n",
       "    <tr>\n",
       "      <td>6</td>\n",
       "      <td>1553</td>\n",
       "      <td>3425</td>\n",
       "    </tr>\n",
       "    <tr>\n",
       "      <td>7</td>\n",
       "      <td>2147</td>\n",
       "      <td>4692</td>\n",
       "    </tr>\n",
       "    <tr>\n",
       "      <td>8</td>\n",
       "      <td>1211</td>\n",
       "      <td>2631</td>\n",
       "    </tr>\n",
       "    <tr>\n",
       "      <td>9</td>\n",
       "      <td>366</td>\n",
       "      <td>815</td>\n",
       "    </tr>\n",
       "  </tbody>\n",
       "</table>\n",
       "</div>"
      ],
      "text/plain": [
       "       artistName  trackName\n",
       "month                       \n",
       "1             860       2714\n",
       "2             916       2515\n",
       "3            1410       4098\n",
       "4             864       2435\n",
       "5            1556       3683\n",
       "6            1553       3425\n",
       "7            2147       4692\n",
       "8            1211       2631\n",
       "9             366        815"
      ]
     },
     "metadata": {},
     "output_type": "display_data"
    }
   ],
   "source": [
    "df_agg = df.groupby(\"month\")\n",
    "agg_artist_monthly = df_agg[['artistName','trackName']].nunique()\n",
    "\n",
    "display(agg_artist_monthly)"
   ]
  },
  {
   "cell_type": "markdown",
   "metadata": {
    "id": "XfEZmStyTHty"
   },
   "source": [
    "Understanding the time period covered and the amount of data collected by Spotify, we can proceed with the analysis.\n"
   ]
  },
  {
   "cell_type": "markdown",
   "metadata": {
    "id": "lbFuESshThlN"
   },
   "source": [
    "#### **The Most Listened-to Artists Overall (measured in msPlayed).**"
   ]
  },
  {
   "cell_type": "code",
   "execution_count": 133,
   "metadata": {
    "colab": {
     "base_uri": "https://localhost:8080/",
     "height": 260
    },
    "id": "FOBhw1XcTe3m",
    "outputId": "627b5eff-7e50-4e8d-ecff-9b2ee4f84369"
   },
   "outputs": [
    {
     "name": "stdout",
     "output_type": "stream",
     "text": [
      "\n",
      "#### Top most-listened artists overall: ####\n",
      "\n"
     ]
    },
    {
     "data": {
      "text/html": [
       "<div>\n",
       "<style scoped>\n",
       "    .dataframe tbody tr th:only-of-type {\n",
       "        vertical-align: middle;\n",
       "    }\n",
       "\n",
       "    .dataframe tbody tr th {\n",
       "        vertical-align: top;\n",
       "    }\n",
       "\n",
       "    .dataframe thead th {\n",
       "        text-align: right;\n",
       "    }\n",
       "</style>\n",
       "<table border=\"1\" class=\"dataframe\">\n",
       "  <thead>\n",
       "    <tr style=\"text-align: right;\">\n",
       "      <th></th>\n",
       "      <th>artistName</th>\n",
       "      <th>msPlayed</th>\n",
       "    </tr>\n",
       "  </thead>\n",
       "  <tbody>\n",
       "    <tr>\n",
       "      <td>0</td>\n",
       "      <td>The Beatles</td>\n",
       "      <td>328495363</td>\n",
       "    </tr>\n",
       "    <tr>\n",
       "      <td>1</td>\n",
       "      <td>Thee Michelle Gun Elephant</td>\n",
       "      <td>91063035</td>\n",
       "    </tr>\n",
       "    <tr>\n",
       "      <td>2</td>\n",
       "      <td>Patricio Rey y sus Redonditos de Ricota</td>\n",
       "      <td>83118557</td>\n",
       "    </tr>\n",
       "    <tr>\n",
       "      <td>3</td>\n",
       "      <td>Radiohead</td>\n",
       "      <td>56969054</td>\n",
       "    </tr>\n",
       "    <tr>\n",
       "      <td>4</td>\n",
       "      <td>The Smiths</td>\n",
       "      <td>55725821</td>\n",
       "    </tr>\n",
       "  </tbody>\n",
       "</table>\n",
       "</div>"
      ],
      "text/plain": [
       "                                artistName   msPlayed\n",
       "0                              The Beatles  328495363\n",
       "1               Thee Michelle Gun Elephant   91063035\n",
       "2  Patricio Rey y sus Redonditos de Ricota   83118557\n",
       "3                                Radiohead   56969054\n",
       "4                               The Smiths   55725821"
      ]
     },
     "metadata": {},
     "output_type": "display_data"
    }
   ],
   "source": [
    "top_artists = df.groupby(['artistName']).agg(msPlayed=('msPlayed', 'sum')).reset_index()\n",
    "\n",
    "print(\"\\n#### Top most-listened artists overall: ####\\n\")\n",
    "top_artists = top_artists.sort_values(ascending=False, by=\"msPlayed\").reset_index(drop=True).head(5)\n",
    "display(top_artists)"
   ]
  },
  {
   "cell_type": "markdown",
   "metadata": {
    "id": "jJWGlmk3uZXo"
   },
   "source": [
    "#### **📈 Visualization: Most-Listened Artists Overall**"
   ]
  },
  {
   "cell_type": "code",
   "execution_count": 134,
   "metadata": {
    "colab": {
     "base_uri": "https://localhost:8080/",
     "height": 407
    },
    "id": "u5K0jTrxuRcT",
    "outputId": "b892fdb6-bb43-4200-bbbb-165b3fdfa896"
   },
   "outputs": [
    {
     "data": {
      "image/png": "[encoded data removed]",
      "text/plain": [
       "<Figure size 720x288 with 1 Axes>"
      ]
     },
     "metadata": {
      "needs_background": "light"
     },
     "output_type": "display_data"
    }
   ],
   "source": [
    "## Graph of the Most-Listened Artists ##\n",
    "plt.figure(figsize=(10, 4))\n",
    "ax = snsv.barplot(x='msPlayed', y='artistName', data=top_artists)\n",
    "plt.title('Top Most-Listened Artists Overall')\n",
    "plt.xlabel('Total Play Time (ms)')\n",
    "plt.ylabel('Artist Name')\n",
    "\n",
    "# Wrap the y-axis labels\n",
    "wrapped_labels = [textwrap.fill(label.get_text(), width=20) for label in ax.get_yticklabels()]\n",
    "ax.set_yticks(ax.get_yticks()) # Set the ticks first\n",
    "ax.set_yticklabels(wrapped_labels)\n",
    "\n",
    "plt.tight_layout()\n",
    "plt.show()"
   ]
  },
  {
   "cell_type": "markdown",
   "metadata": {
    "id": "GZpx6-yyLZVI"
   },
   "source": [
    "#### **Percentage Of Time Spent Listening To The Top Artists**"
   ]
  },
  {
   "cell_type": "code",
   "execution_count": 135,
   "metadata": {
    "colab": {
     "base_uri": "https://localhost:8080/",
     "height": 260
    },
    "id": "l_xOVR6uD0Ag",
    "outputId": "c721eecf-45e8-4169-8394-2f9c17f9eab1"
   },
   "outputs": [
    {
     "name": "stdout",
     "output_type": "stream",
     "text": [
      "\n",
      "#### Percentage of time spent listening to the top artists: ####\n",
      "\n"
     ]
    },
    {
     "data": {
      "text/html": [
       "<div>\n",
       "<style scoped>\n",
       "    .dataframe tbody tr th:only-of-type {\n",
       "        vertical-align: middle;\n",
       "    }\n",
       "\n",
       "    .dataframe tbody tr th {\n",
       "        vertical-align: top;\n",
       "    }\n",
       "\n",
       "    .dataframe thead th {\n",
       "        text-align: right;\n",
       "    }\n",
       "</style>\n",
       "<table border=\"1\" class=\"dataframe\">\n",
       "  <thead>\n",
       "    <tr style=\"text-align: right;\">\n",
       "      <th></th>\n",
       "      <th>artistName</th>\n",
       "      <th>msPlayed</th>\n",
       "      <th>percentage_of_time_listening</th>\n",
       "    </tr>\n",
       "  </thead>\n",
       "  <tbody>\n",
       "    <tr>\n",
       "      <td>0</td>\n",
       "      <td>The Beatles</td>\n",
       "      <td>328495363</td>\n",
       "      <td>13.29</td>\n",
       "    </tr>\n",
       "    <tr>\n",
       "      <td>1</td>\n",
       "      <td>Thee Michelle Gun Elephant</td>\n",
       "      <td>91063035</td>\n",
       "      <td>3.68</td>\n",
       "    </tr>\n",
       "    <tr>\n",
       "      <td>2</td>\n",
       "      <td>Patricio Rey y sus Redonditos de Ricota</td>\n",
       "      <td>83118557</td>\n",
       "      <td>3.36</td>\n",
       "    </tr>\n",
       "    <tr>\n",
       "      <td>3</td>\n",
       "      <td>Radiohead</td>\n",
       "      <td>56969054</td>\n",
       "      <td>2.30</td>\n",
       "    </tr>\n",
       "    <tr>\n",
       "      <td>4</td>\n",
       "      <td>The Smiths</td>\n",
       "      <td>55725821</td>\n",
       "      <td>2.25</td>\n",
       "    </tr>\n",
       "  </tbody>\n",
       "</table>\n",
       "</div>"
      ],
      "text/plain": [
       "                                artistName   msPlayed  \\\n",
       "0                              The Beatles  328495363   \n",
       "1               Thee Michelle Gun Elephant   91063035   \n",
       "2  Patricio Rey y sus Redonditos de Ricota   83118557   \n",
       "3                                Radiohead   56969054   \n",
       "4                               The Smiths   55725821   \n",
       "\n",
       "   percentage_of_time_listening  \n",
       "0                         13.29  \n",
       "1                          3.68  \n",
       "2                          3.36  \n",
       "3                          2.30  \n",
       "4                          2.25  "
      ]
     },
     "metadata": {},
     "output_type": "display_data"
    }
   ],
   "source": [
    "total_msPlayed = df['msPlayed'].sum()\n",
    "\n",
    "pct_time_top_artists = top_artists\n",
    "\n",
    "pct_time_top_artists['percentage_of_time_listening'] = round((top_artists[\"msPlayed\"] / total_msPlayed) * 100, 2)\n",
    "\n",
    "print(\"\\n#### Percentage of time spent listening to the top artists: ####\\n\")\n",
    "display(pct_time_top_artists)"
   ]
  },
  {
   "cell_type": "markdown",
   "metadata": {
    "id": "myxs707azAas"
   },
   "source": [
    "#### **The Most Listened-to Tracks Overall (measured in msPlayed).**"
   ]
  },
  {
   "cell_type": "code",
   "execution_count": 136,
   "metadata": {
    "colab": {
     "base_uri": "https://localhost:8080/",
     "height": 260
    },
    "id": "_Hvga50Py3oG",
    "outputId": "38783163-6294-45cd-9506-976675800466"
   },
   "outputs": [
    {
     "name": "stdout",
     "output_type": "stream",
     "text": [
      "\n",
      "#### Top most-listened tracks overall: ####\n",
      "\n"
     ]
    },
    {
     "data": {
      "text/html": [
       "<div>\n",
       "<style scoped>\n",
       "    .dataframe tbody tr th:only-of-type {\n",
       "        vertical-align: middle;\n",
       "    }\n",
       "\n",
       "    .dataframe tbody tr th {\n",
       "        vertical-align: top;\n",
       "    }\n",
       "\n",
       "    .dataframe thead th {\n",
       "        text-align: right;\n",
       "    }\n",
       "</style>\n",
       "<table border=\"1\" class=\"dataframe\">\n",
       "  <thead>\n",
       "    <tr style=\"text-align: right;\">\n",
       "      <th></th>\n",
       "      <th>artistName</th>\n",
       "      <th>trackName</th>\n",
       "      <th>msPlayed</th>\n",
       "    </tr>\n",
       "  </thead>\n",
       "  <tbody>\n",
       "    <tr>\n",
       "      <td>0</td>\n",
       "      <td>The Smiths</td>\n",
       "      <td>This Charming Man - 2011 Remaster</td>\n",
       "      <td>11196482</td>\n",
       "    </tr>\n",
       "    <tr>\n",
       "      <td>1</td>\n",
       "      <td>Soda Stereo</td>\n",
       "      <td>Sueles Dejarme Solo - Remasterizado 2007</td>\n",
       "      <td>9782937</td>\n",
       "    </tr>\n",
       "    <tr>\n",
       "      <td>2</td>\n",
       "      <td>Oasis</td>\n",
       "      <td>Supersonic - Remastered</td>\n",
       "      <td>9764319</td>\n",
       "    </tr>\n",
       "    <tr>\n",
       "      <td>3</td>\n",
       "      <td>Los Fundamentalistas del Aire Acondicionado</td>\n",
       "      <td>Mi Genio Amor - En Vivo</td>\n",
       "      <td>9449722</td>\n",
       "    </tr>\n",
       "    <tr>\n",
       "      <td>4</td>\n",
       "      <td>The Beatles</td>\n",
       "      <td>Hey Jude - Remastered 2015</td>\n",
       "      <td>8385826</td>\n",
       "    </tr>\n",
       "  </tbody>\n",
       "</table>\n",
       "</div>"
      ],
      "text/plain": [
       "                                    artistName  \\\n",
       "0                                   The Smiths   \n",
       "1                                  Soda Stereo   \n",
       "2                                        Oasis   \n",
       "3  Los Fundamentalistas del Aire Acondicionado   \n",
       "4                                  The Beatles   \n",
       "\n",
       "                                  trackName  msPlayed  \n",
       "0         This Charming Man - 2011 Remaster  11196482  \n",
       "1  Sueles Dejarme Solo - Remasterizado 2007   9782937  \n",
       "2                   Supersonic - Remastered   9764319  \n",
       "3                   Mi Genio Amor - En Vivo   9449722  \n",
       "4                Hey Jude - Remastered 2015   8385826  "
      ]
     },
     "metadata": {},
     "output_type": "display_data"
    }
   ],
   "source": [
    "top_tracks = df.groupby(['artistName',\"trackName\"]).agg(msPlayed=('msPlayed', 'sum')).reset_index()\n",
    "top_tracks = top_tracks.sort_values(ascending=False, by=\"msPlayed\").reset_index(drop=True).head(5)\n",
    "\n",
    "print(\"\\n#### Top most-listened tracks overall: ####\\n\")\n",
    "display(top_tracks)"
   ]
  },
  {
   "cell_type": "markdown",
   "metadata": {
    "id": "zYTWJPoTzSbN"
   },
   "source": [
    "#### **📈 Visualization: Most-Listened Tracks Overall**"
   ]
  },
  {
   "cell_type": "code",
   "execution_count": 137,
   "metadata": {
    "colab": {
     "base_uri": "https://localhost:8080/",
     "height": 407
    },
    "id": "rS3L7gHTzTJY",
    "outputId": "e9a77782-bfa3-4ade-c0ee-2280a740d64d"
   },
   "outputs": [
    {
     "data": {
      "image/png": "[encoded data removed]",
      "text/plain": [
       "<Figure size 720x288 with 1 Axes>"
      ]
     },
     "metadata": {
      "needs_background": "light"
     },
     "output_type": "display_data"
    }
   ],
   "source": [
    "plt.figure(figsize=(10, 4))\n",
    "ax = snsv.barplot(x='msPlayed', y='trackName', data=top_tracks)\n",
    "plt.title('Top Most-Listened Tracks')\n",
    "plt.xlabel('Total Play Time (ms)')\n",
    "plt.ylabel('Track Name')\n",
    "\n",
    "# Wrap the y-axis labels\n",
    "wrapped_labels = [textwrap.fill(label.get_text(), width=20) for label in ax.get_yticklabels()]\n",
    "ax.set_yticks(ax.get_yticks()) # Set the ticks first\n",
    "ax.set_yticklabels(wrapped_labels)\n",
    "\n",
    "plt.tight_layout()\n",
    "plt.show()"
   ]
  },
  {
   "cell_type": "markdown",
   "metadata": {
    "id": "8kTOdQDPUxUT"
   },
   "source": [
    "#### **Percentage Of Time Spent Listening To The Top Tracks**"
   ]
  },
  {
   "cell_type": "code",
   "execution_count": 138,
   "metadata": {
    "colab": {
     "base_uri": "https://localhost:8080/",
     "height": 260
    },
    "id": "wmABGQhCRX2i",
    "outputId": "c846a0ae-4f7a-4df5-a1e4-7dfadad06856"
   },
   "outputs": [
    {
     "name": "stdout",
     "output_type": "stream",
     "text": [
      "\n",
      "#### Percentage of time spent listening to the top tracks: ####\n",
      "\n"
     ]
    },
    {
     "data": {
      "text/html": [
       "<div>\n",
       "<style scoped>\n",
       "    .dataframe tbody tr th:only-of-type {\n",
       "        vertical-align: middle;\n",
       "    }\n",
       "\n",
       "    .dataframe tbody tr th {\n",
       "        vertical-align: top;\n",
       "    }\n",
       "\n",
       "    .dataframe thead th {\n",
       "        text-align: right;\n",
       "    }\n",
       "</style>\n",
       "<table border=\"1\" class=\"dataframe\">\n",
       "  <thead>\n",
       "    <tr style=\"text-align: right;\">\n",
       "      <th></th>\n",
       "      <th>artistName</th>\n",
       "      <th>trackName</th>\n",
       "      <th>msPlayed</th>\n",
       "      <th>percentage_of_time_listening</th>\n",
       "    </tr>\n",
       "  </thead>\n",
       "  <tbody>\n",
       "    <tr>\n",
       "      <td>0</td>\n",
       "      <td>The Smiths</td>\n",
       "      <td>This Charming Man - 2011 Remaster</td>\n",
       "      <td>11196482</td>\n",
       "      <td>0.45</td>\n",
       "    </tr>\n",
       "    <tr>\n",
       "      <td>1</td>\n",
       "      <td>Soda Stereo</td>\n",
       "      <td>Sueles Dejarme Solo - Remasterizado 2007</td>\n",
       "      <td>9782937</td>\n",
       "      <td>0.40</td>\n",
       "    </tr>\n",
       "    <tr>\n",
       "      <td>2</td>\n",
       "      <td>Oasis</td>\n",
       "      <td>Supersonic - Remastered</td>\n",
       "      <td>9764319</td>\n",
       "      <td>0.40</td>\n",
       "    </tr>\n",
       "    <tr>\n",
       "      <td>3</td>\n",
       "      <td>Los Fundamentalistas del Aire Acondicionado</td>\n",
       "      <td>Mi Genio Amor - En Vivo</td>\n",
       "      <td>9449722</td>\n",
       "      <td>0.38</td>\n",
       "    </tr>\n",
       "    <tr>\n",
       "      <td>4</td>\n",
       "      <td>The Beatles</td>\n",
       "      <td>Hey Jude - Remastered 2015</td>\n",
       "      <td>8385826</td>\n",
       "      <td>0.34</td>\n",
       "    </tr>\n",
       "  </tbody>\n",
       "</table>\n",
       "</div>"
      ],
      "text/plain": [
       "                                    artistName  \\\n",
       "0                                   The Smiths   \n",
       "1                                  Soda Stereo   \n",
       "2                                        Oasis   \n",
       "3  Los Fundamentalistas del Aire Acondicionado   \n",
       "4                                  The Beatles   \n",
       "\n",
       "                                  trackName  msPlayed  \\\n",
       "0         This Charming Man - 2011 Remaster  11196482   \n",
       "1  Sueles Dejarme Solo - Remasterizado 2007   9782937   \n",
       "2                   Supersonic - Remastered   9764319   \n",
       "3                   Mi Genio Amor - En Vivo   9449722   \n",
       "4                Hey Jude - Remastered 2015   8385826   \n",
       "\n",
       "   percentage_of_time_listening  \n",
       "0                          0.45  \n",
       "1                          0.40  \n",
       "2                          0.40  \n",
       "3                          0.38  \n",
       "4                          0.34  "
      ]
     },
     "metadata": {},
     "output_type": "display_data"
    }
   ],
   "source": [
    "total_msPlayed = df['msPlayed'].sum()\n",
    "\n",
    "pct_time_top_tracks = top_tracks\n",
    "\n",
    "pct_time_top_tracks['percentage_of_time_listening'] = round((top_tracks[\"msPlayed\"] / total_msPlayed) * 100, 2)\n",
    "\n",
    "print(\"\\n#### Percentage of time spent listening to the top tracks: ####\\n\")\n",
    "display(pct_time_top_tracks[['artistName',\"trackName\",\"msPlayed\",\"percentage_of_time_listening\"]])"
   ]
  },
  {
   "cell_type": "markdown",
   "metadata": {
    "id": "wVQPfEVfgLvN"
   },
   "source": [
    "### **Performance Of The Most Listened-to Artists Monthly.**\n",
    "\n",
    "To accomplish this, you need to create a grid that includes all top artists for each month. Then, join this grid with the `monthly_charts` data. This will ensure that every top artist has a row for every month, with `msPlayed` set to 0 for those who do not appear in the original monthly data."
   ]
  },
  {
   "cell_type": "code",
   "execution_count": 139,
   "metadata": {
    "colab": {
     "base_uri": "https://localhost:8080/",
     "height": 260
    },
    "id": "zXMZie3NUMrj",
    "outputId": "3a85661b-e2d6-4727-ab4c-e4e1c6fc3a90"
   },
   "outputs": [
    {
     "name": "stdout",
     "output_type": "stream",
     "text": [
      "\n",
      "#### Performance of the top-most listened artists overall in the first month: ####\n",
      "\n"
     ]
    },
    {
     "data": {
      "text/html": [
       "<div>\n",
       "<style scoped>\n",
       "    .dataframe tbody tr th:only-of-type {\n",
       "        vertical-align: middle;\n",
       "    }\n",
       "\n",
       "    .dataframe tbody tr th {\n",
       "        vertical-align: top;\n",
       "    }\n",
       "\n",
       "    .dataframe thead th {\n",
       "        text-align: right;\n",
       "    }\n",
       "</style>\n",
       "<table border=\"1\" class=\"dataframe\">\n",
       "  <thead>\n",
       "    <tr style=\"text-align: right;\">\n",
       "      <th></th>\n",
       "      <th>month</th>\n",
       "      <th>artistName</th>\n",
       "      <th>msPlayed</th>\n",
       "    </tr>\n",
       "  </thead>\n",
       "  <tbody>\n",
       "    <tr>\n",
       "      <td>0</td>\n",
       "      <td>1</td>\n",
       "      <td>Patricio Rey y sus Redonditos de Ricota</td>\n",
       "      <td>32353675</td>\n",
       "    </tr>\n",
       "    <tr>\n",
       "      <td>1</td>\n",
       "      <td>1</td>\n",
       "      <td>Thee Michelle Gun Elephant</td>\n",
       "      <td>20961558</td>\n",
       "    </tr>\n",
       "    <tr>\n",
       "      <td>2</td>\n",
       "      <td>1</td>\n",
       "      <td>The Smiths</td>\n",
       "      <td>4788639</td>\n",
       "    </tr>\n",
       "    <tr>\n",
       "      <td>3</td>\n",
       "      <td>1</td>\n",
       "      <td>The Beatles</td>\n",
       "      <td>2759773</td>\n",
       "    </tr>\n",
       "    <tr>\n",
       "      <td>4</td>\n",
       "      <td>1</td>\n",
       "      <td>Radiohead</td>\n",
       "      <td>944091</td>\n",
       "    </tr>\n",
       "  </tbody>\n",
       "</table>\n",
       "</div>"
      ],
      "text/plain": [
       "   month                               artistName  msPlayed\n",
       "0      1  Patricio Rey y sus Redonditos de Ricota  32353675\n",
       "1      1               Thee Michelle Gun Elephant  20961558\n",
       "2      1                               The Smiths   4788639\n",
       "3      1                              The Beatles   2759773\n",
       "4      1                                Radiohead    944091"
      ]
     },
     "metadata": {},
     "output_type": "display_data"
    }
   ],
   "source": [
    "# 1. Calculate the total listening time for all artists and get the top\n",
    "top_artists_list = df.groupby('artistName')['msPlayed'].sum().nlargest(5).index\n",
    "\n",
    "# 2. Get a list of all unique months\n",
    "all_months = df['month'].unique().tolist()\n",
    "\n",
    "# 3. Create a DataFrame with all combinations of top artists and months\n",
    "full_grid = pd.DataFrame(product(all_months, top_artists_list), columns=['month', 'artistName'])\n",
    "\n",
    "# 2. Filter the monthly charts using this list of top artists\n",
    "monthly_charts = df.groupby(['month', 'artistName']).agg(msPlayed=('msPlayed', 'sum')).reset_index()\n",
    "\n",
    "# 5. Left merge the full grid with the monthly data\n",
    "top_artists_recorded = pd.merge(full_grid, monthly_charts, on=['month', 'artistName'], how='left')\n",
    "\n",
    "# 6. Fill NaN values with 0\n",
    "top_artists_recorded['msPlayed'] = top_artists_recorded['msPlayed'].fillna(0)\n",
    "\n",
    "# 7. Sort the result for better visualization\n",
    "top_artists_recorded = top_artists_recorded.sort_values(by=['month', 'msPlayed'], ascending=[True, False]).reset_index(drop=True)\n",
    "\n",
    "print(\"\\n#### Performance of the top-most listened artists overall in the first month: ####\\n\")\n",
    "display(top_artists_recorded.head())"
   ]
  },
  {
   "cell_type": "markdown",
   "metadata": {
    "id": "sacu2tN9usC8"
   },
   "source": [
    "#### **📈 Visualization: Performance Of The Most Listened-to Artists Monthly.**"
   ]
  },
  {
   "cell_type": "code",
   "execution_count": 140,
   "metadata": {
    "id": "WZ5jL04bzes-"
   },
   "outputs": [],
   "source": [
    "def run_graph(data,hue_data,data_title):\n",
    "    \"\"\"\n",
    "    Create a graph showing the performance of the most listened-to content monthly/weekly.\n",
    "    \"\"\"\n",
    "    # Plotting the data\n",
    "    plt.figure(figsize=(12, 4)) # Further increased figure size\n",
    "    ax = snsv.lineplot(data=data, x='sequential_month', y='msPlayed', marker='o', hue=hue_data, linewidth=1, markersize=3)\n",
    "    plt.title(data_title)\n",
    "    plt.xlabel('Month')\n",
    "    plt.ylabel('MsPlayed')\n",
    "\n",
    "    # Set x-axis ticks to be integers\n",
    "    plt.xticks(sorted(data['sequential_month'].unique()))\n",
    "\n",
    "    plt.xticks(rotation=45, ha='right') # Ensure x-axis labels are aligned correctly\n",
    "    plt.legend(bbox_to_anchor=(1.05, 1), loc='upper left') # Keep legend outside the plot\n",
    "\n",
    "    # Wrap the y-axis labels\n",
    "    wrapped_labels = [textwrap.fill(label.get_text(), width=20) for label in ax.get_yticklabels()]\n",
    "    ax.set_yticks(ax.get_yticks()) # Set the ticks first\n",
    "    ax.set_yticklabels(wrapped_labels)\n",
    "    ax.set_ylim(bottom=0)\n",
    "\n",
    "    plt.tight_layout()\n",
    "    plt.show()"
   ]
  },
  {
   "cell_type": "code",
   "execution_count": 141,
   "metadata": {
    "colab": {
     "base_uri": "https://localhost:8080/",
     "height": 407
    },
    "id": "EUlLZTtVuqH5",
    "outputId": "f9e6eea7-369e-4e42-fe41-4f033837b7de"
   },
   "outputs": [
    {
     "data": {
      "image/png": "[encoded data removed]",
      "text/plain": [
       "<Figure size 864x288 with 1 Axes>"
      ]
     },
     "metadata": {
      "needs_background": "light"
     },
     "output_type": "display_data"
    }
   ],
   "source": [
    "## Graph of the Most-Listened Artists per month ##\n",
    "\n",
    "month_numbers_list = []\n",
    "# Create pairs of (Original Month String, Sequential Number)\n",
    "for month, i in zip(all_months, range(1, len(all_months) + 1)):  month_numbers_list.append([month, i])\n",
    "\n",
    "month_to_number_map = dict(month_numbers_list)\n",
    "\n",
    "top_artists_recorded['sequential_month'] = top_artists_recorded['month'].map(month_to_number_map)\n",
    "\n",
    "run_graph(top_artists_recorded, 'artistName', 'Performance Of The Most Listened-to Artists Monthly.')"
   ]
  },
  {
   "cell_type": "markdown",
   "metadata": {
    "id": "-yuJwnegxll6"
   },
   "source": [
    "### **Performance Of The Most Listened-to Tracks Monthly.**"
   ]
  },
  {
   "cell_type": "code",
   "execution_count": 142,
   "metadata": {
    "colab": {
     "base_uri": "https://localhost:8080/",
     "height": 260
    },
    "id": "ZoQudwKgUKLX",
    "outputId": "68597000-ba97-4853-b067-6bb4d105d488"
   },
   "outputs": [
    {
     "name": "stdout",
     "output_type": "stream",
     "text": [
      "\n",
      "#### Performance of the top-most listened tracks overall in the first month: ####\n",
      "\n"
     ]
    },
    {
     "data": {
      "text/html": [
       "<div>\n",
       "<style scoped>\n",
       "    .dataframe tbody tr th:only-of-type {\n",
       "        vertical-align: middle;\n",
       "    }\n",
       "\n",
       "    .dataframe tbody tr th {\n",
       "        vertical-align: top;\n",
       "    }\n",
       "\n",
       "    .dataframe thead th {\n",
       "        text-align: right;\n",
       "    }\n",
       "</style>\n",
       "<table border=\"1\" class=\"dataframe\">\n",
       "  <thead>\n",
       "    <tr style=\"text-align: right;\">\n",
       "      <th></th>\n",
       "      <th>month</th>\n",
       "      <th>artistName</th>\n",
       "      <th>trackName</th>\n",
       "      <th>msPlayed</th>\n",
       "    </tr>\n",
       "  </thead>\n",
       "  <tbody>\n",
       "    <tr>\n",
       "      <td>0</td>\n",
       "      <td>1</td>\n",
       "      <td>The Smiths</td>\n",
       "      <td>This Charming Man - 2011 Remaster</td>\n",
       "      <td>1974704.0</td>\n",
       "    </tr>\n",
       "    <tr>\n",
       "      <td>1</td>\n",
       "      <td>1</td>\n",
       "      <td>Los Fundamentalistas del Aire Acondicionado</td>\n",
       "      <td>Mi Genio Amor - En Vivo</td>\n",
       "      <td>1767156.0</td>\n",
       "    </tr>\n",
       "    <tr>\n",
       "      <td>2</td>\n",
       "      <td>1</td>\n",
       "      <td>Soda Stereo</td>\n",
       "      <td>Sueles Dejarme Solo - Remasterizado 2007</td>\n",
       "      <td>1632592.0</td>\n",
       "    </tr>\n",
       "    <tr>\n",
       "      <td>3</td>\n",
       "      <td>1</td>\n",
       "      <td>Oasis</td>\n",
       "      <td>Supersonic - Remastered</td>\n",
       "      <td>1566011.0</td>\n",
       "    </tr>\n",
       "    <tr>\n",
       "      <td>4</td>\n",
       "      <td>1</td>\n",
       "      <td>The Beatles</td>\n",
       "      <td>Hey Jude - Remastered 2015</td>\n",
       "      <td>8936.0</td>\n",
       "    </tr>\n",
       "  </tbody>\n",
       "</table>\n",
       "</div>"
      ],
      "text/plain": [
       "   month                                   artistName  \\\n",
       "0      1                                   The Smiths   \n",
       "1      1  Los Fundamentalistas del Aire Acondicionado   \n",
       "2      1                                  Soda Stereo   \n",
       "3      1                                        Oasis   \n",
       "4      1                                  The Beatles   \n",
       "\n",
       "                                  trackName   msPlayed  \n",
       "0         This Charming Man - 2011 Remaster  1974704.0  \n",
       "1                   Mi Genio Amor - En Vivo  1767156.0  \n",
       "2  Sueles Dejarme Solo - Remasterizado 2007  1632592.0  \n",
       "3                   Supersonic - Remastered  1566011.0  \n",
       "4                Hey Jude - Remastered 2015     8936.0  "
      ]
     },
     "metadata": {},
     "output_type": "display_data"
    }
   ],
   "source": [
    "# 1. Calculate the total listening time for all tracks and get the top\n",
    "top_tracks_list = df.groupby(['artistName', \"trackName\"])['msPlayed'].sum().nlargest(5).index\n",
    "\n",
    "# 2. Get a list of all unique months\n",
    "all_months = df['month'].unique().tolist()\n",
    "\n",
    "# 3. Create a DataFrame with all combinations of top tracks and months\n",
    "full_data = []\n",
    "for month in all_months:\n",
    "    for track_name, artist_name in top_tracks_list:\n",
    "        full_data.append((month, track_name, artist_name))\n",
    "\n",
    "full_grid = pd.DataFrame(full_data, columns=['month', 'artistName', \"trackName\"])\n",
    "\n",
    "# 4. Calculate the monthly charts\n",
    "monthly_charts = df.groupby(['month', 'artistName', \"trackName\"]).agg(msPlayed=('msPlayed', 'sum')).reset_index()\n",
    "\n",
    "# 5. Left merge the full grid with the monthly data\n",
    "top_tracks_recorded = pd.merge(full_grid, monthly_charts, on=['month', 'artistName', \"trackName\"], how='left')\n",
    "\n",
    "# 6. Fill NaN values with 0\n",
    "top_tracks_recorded['msPlayed'] = top_tracks_recorded['msPlayed'].fillna(0)\n",
    "\n",
    "# 7. Sort the result for better visualization\n",
    "top_tracks_recorded = top_tracks_recorded.sort_values(by=['month', 'msPlayed', \"trackName\"], ascending=[True, False, True]).reset_index(drop=True)\n",
    "\n",
    "print(\"\\n#### Performance of the top-most listened tracks overall in the first month: ####\\n\")\n",
    "display(top_tracks_recorded.head())"
   ]
  },
  {
   "cell_type": "markdown",
   "metadata": {
    "id": "EnouL07_vf7r"
   },
   "source": [
    "#### **📈 Visualization: Performance Of The Most Listened-to Tracks Monthly.**"
   ]
  },
  {
   "cell_type": "code",
   "execution_count": 143,
   "metadata": {
    "colab": {
     "base_uri": "https://localhost:8080/",
     "height": 407
    },
    "id": "heXacJ4Dvzm8",
    "outputId": "3ab149d4-ea75-4b0a-f346-1f65fcdadc12"
   },
   "outputs": [
    {
     "data": {
      "image/png": "[encoded data removed]",
      "text/plain": [
       "<Figure size 864x288 with 1 Axes>"
      ]
     },
     "metadata": {
      "needs_background": "light"
     },
     "output_type": "display_data"
    }
   ],
   "source": [
    "month_numbers_list = []\n",
    "# Create pairs of (Original Month String, Sequential Number)\n",
    "for month, i in zip(all_months, range(1, len(all_months) + 1)):  month_numbers_list.append([month, i])\n",
    "\n",
    "month_to_number_map = dict(month_numbers_list)\n",
    "\n",
    "top_tracks_recorded['sequential_month'] = top_tracks_recorded['month'].map(month_to_number_map)\n",
    "\n",
    "run_graph(top_tracks_recorded, \"trackName\", 'Performance Of The Most Listened-to Tracks Monthly.')\n",
    "\n"
   ]
  },
  {
   "cell_type": "markdown",
   "metadata": {
    "id": "iNnyBnhdCp4V"
   },
   "source": [
    "#### **What Were The Top Artists For Each Week?**"
   ]
  },
  {
   "cell_type": "code",
   "execution_count": 144,
   "metadata": {},
   "outputs": [],
   "source": [
    "# Group by week and artist to get total count per artist per week\n",
    "agg_artists_monthly = df.groupby(['month', 'artistName']).agg(msPlayed=('msPlayed', 'sum')).reset_index()\n",
    "\n",
    "# Find the top artists by total count for each week\n",
    "top_artists_per_month = agg_artists_monthly.groupby('month', group_keys=False).apply(lambda x: x.nlargest(5, 'msPlayed')).reset_index(drop=True)\n",
    "\n",
    "# for week, group in top_artists_per_week.groupby('week'):\n",
    "#     print(f\"\\n#### Top most-listened artists in week {week}: ####\\n\")\n",
    "#     print(group)"
   ]
  },
  {
   "cell_type": "markdown",
   "metadata": {
    "id": "Gd6y_T3IG25A"
   },
   "source": [
    "#### **How Many Times The Most Listened-to Artists Appeared In The Top Weekly Lists?**"
   ]
  },
  {
   "cell_type": "code",
   "execution_count": 145,
   "metadata": {},
   "outputs": [
    {
     "name": "stdout",
     "output_type": "stream",
     "text": [
      "\n",
      "#### Times the most listened-to artists appeared in the top monthly lists: ####\n",
      "\n"
     ]
    },
    {
     "data": {
      "text/html": [
       "<div>\n",
       "<style scoped>\n",
       "    .dataframe tbody tr th:only-of-type {\n",
       "        vertical-align: middle;\n",
       "    }\n",
       "\n",
       "    .dataframe tbody tr th {\n",
       "        vertical-align: top;\n",
       "    }\n",
       "\n",
       "    .dataframe thead th {\n",
       "        text-align: right;\n",
       "    }\n",
       "</style>\n",
       "<table border=\"1\" class=\"dataframe\">\n",
       "  <thead>\n",
       "    <tr style=\"text-align: right;\">\n",
       "      <th></th>\n",
       "      <th>artistName</th>\n",
       "      <th>count</th>\n",
       "    </tr>\n",
       "  </thead>\n",
       "  <tbody>\n",
       "    <tr>\n",
       "      <td>0</td>\n",
       "      <td>The Beatles</td>\n",
       "      <td>6</td>\n",
       "    </tr>\n",
       "    <tr>\n",
       "      <td>1</td>\n",
       "      <td>Thee Michelle Gun Elephant</td>\n",
       "      <td>5</td>\n",
       "    </tr>\n",
       "    <tr>\n",
       "      <td>2</td>\n",
       "      <td>Radiohead</td>\n",
       "      <td>4</td>\n",
       "    </tr>\n",
       "    <tr>\n",
       "      <td>3</td>\n",
       "      <td>The Smiths</td>\n",
       "      <td>4</td>\n",
       "    </tr>\n",
       "    <tr>\n",
       "      <td>4</td>\n",
       "      <td>Patricio Rey y sus Redonditos de Ricota</td>\n",
       "      <td>3</td>\n",
       "    </tr>\n",
       "  </tbody>\n",
       "</table>\n",
       "</div>"
      ],
      "text/plain": [
       "                                artistName  count\n",
       "0                              The Beatles      6\n",
       "1               Thee Michelle Gun Elephant      5\n",
       "2                                Radiohead      4\n",
       "3                               The Smiths      4\n",
       "4  Patricio Rey y sus Redonditos de Ricota      3"
      ]
     },
     "metadata": {},
     "output_type": "display_data"
    }
   ],
   "source": [
    "top_artists_in_monthly_charts = top_artists_per_month[top_artists_per_month['artistName'].isin(top_artists['artistName'])]\n",
    "top_artists_in_monthly_charts= top_artists_in_monthly_charts.groupby('artistName').size().to_frame('count').sort_values(by=\"count\", ascending=False).reset_index()\n",
    "\n",
    "total_months = len(df['month'].unique())\n",
    "top_artists_in_weekly_charts['percentage_of_months_in_top'] = round((top_artists_in_monthly_charts[\"count\"] / total_months) * 100, 2)\n",
    "\n",
    "print(\"\\n#### Times the most listened-to artists appeared in the top monthly lists: ####\\n\")\n",
    "display(top_artists_in_monthly_charts)"
   ]
  },
  {
   "cell_type": "markdown",
   "metadata": {
    "id": "NgEBK8bsKAoR"
   },
   "source": [
    "#### **Who Were The Most Listened-To Artists On The Weekly Charts?**"
   ]
  },
  {
   "cell_type": "code",
   "execution_count": 146,
   "metadata": {},
   "outputs": [
    {
     "name": "stdout",
     "output_type": "stream",
     "text": [
      "\n",
      "#### The most listened-to artists on the weekly charts: ####\n",
      "\n"
     ]
    },
    {
     "data": {
      "text/html": [
       "<div>\n",
       "<style scoped>\n",
       "    .dataframe tbody tr th:only-of-type {\n",
       "        vertical-align: middle;\n",
       "    }\n",
       "\n",
       "    .dataframe tbody tr th {\n",
       "        vertical-align: top;\n",
       "    }\n",
       "\n",
       "    .dataframe thead th {\n",
       "        text-align: right;\n",
       "    }\n",
       "</style>\n",
       "<table border=\"1\" class=\"dataframe\">\n",
       "  <thead>\n",
       "    <tr style=\"text-align: right;\">\n",
       "      <th></th>\n",
       "      <th>artistName</th>\n",
       "      <th>count</th>\n",
       "      <th>percentage_of_weeks_in_top</th>\n",
       "    </tr>\n",
       "  </thead>\n",
       "  <tbody>\n",
       "    <tr>\n",
       "      <td>0</td>\n",
       "      <td>The Beatles</td>\n",
       "      <td>6</td>\n",
       "      <td>66.67</td>\n",
       "    </tr>\n",
       "    <tr>\n",
       "      <td>1</td>\n",
       "      <td>Thee Michelle Gun Elephant</td>\n",
       "      <td>5</td>\n",
       "      <td>55.56</td>\n",
       "    </tr>\n",
       "    <tr>\n",
       "      <td>2</td>\n",
       "      <td>The Smiths</td>\n",
       "      <td>4</td>\n",
       "      <td>44.44</td>\n",
       "    </tr>\n",
       "    <tr>\n",
       "      <td>3</td>\n",
       "      <td>David Bowie</td>\n",
       "      <td>4</td>\n",
       "      <td>44.44</td>\n",
       "    </tr>\n",
       "    <tr>\n",
       "      <td>4</td>\n",
       "      <td>Radiohead</td>\n",
       "      <td>4</td>\n",
       "      <td>44.44</td>\n",
       "    </tr>\n",
       "  </tbody>\n",
       "</table>\n",
       "</div>"
      ],
      "text/plain": [
       "                   artistName  count  percentage_of_weeks_in_top\n",
       "0                 The Beatles      6                       66.67\n",
       "1  Thee Michelle Gun Elephant      5                       55.56\n",
       "2                  The Smiths      4                       44.44\n",
       "3                 David Bowie      4                       44.44\n",
       "4                   Radiohead      4                       44.44"
      ]
     },
     "metadata": {},
     "output_type": "display_data"
    }
   ],
   "source": [
    "top_artists_from_monthly_charts = top_artists_per_month.groupby(['artistName',]).size().to_frame('count').sort_values(by=\"count\", ascending=False).reset_index()\n",
    "top_artists_from_monthly_charts = top_artists_from_monthly_charts.nlargest(5, 'count').reset_index(drop=True)\n",
    "top_artists_from_monthly_charts['percentage_of_weeks_in_top'] = round((top_artists_from_monthly_charts[\"count\"] / total_months) * 100, 2)\n",
    "\n",
    "print(\"\\n#### The most listened-to artists on the weekly charts: ####\\n\")\n",
    "display(top_artists_from_monthly_charts)"
   ]
  },
  {
   "cell_type": "code",
   "execution_count": null,
   "metadata": {},
   "outputs": [],
   "source": []
  },
  {
   "cell_type": "markdown",
   "metadata": {
    "id": "6q00VVjJcuGV"
   },
   "source": [
    "#### **Differences Between The Top Artists By Listening Time and Weekly Charts.**"
   ]
  },
  {
   "cell_type": "code",
   "execution_count": 147,
   "metadata": {},
   "outputs": [
    {
     "name": "stdout",
     "output_type": "stream",
     "text": [
      "\n",
      "#### Artists that EXITED (Penalized for monthly Volatility): ['Patricio Rey y sus Redonditos de Ricota'] ####\n",
      "\n",
      "\n",
      "#### Artists that ENTERED (Rewarded for monthly Consistency): ['David Bowie'] ####\n",
      "\n"
     ]
    }
   ],
   "source": [
    "# Identify Entrants and Exits\n",
    "\n",
    "# Artists that EXIT: Were in the Top by Listening Time, but fell out after the consistency weekly.\n",
    "artists_exit = list(set(top_artists['artistName']) - set(top_artists_from_monthly_charts['artistName']))\n",
    "\n",
    "# Artists that ENTER: Were outside the Top by Listening Time, but were boosted into the Top by consistency weekly.\n",
    "artists_enter = list(set(top_artists_from_monthly_charts['artistName']) - set(top_artists['artistName']))\n",
    "\n",
    "print(f\"\\n#### Artists that EXITED (Penalized for monthly Volatility): {artists_exit} ####\\n\")\n",
    "print(f\"\\n#### Artists that ENTERED (Rewarded for monthly Consistency): {artists_enter} ####\\n\")"
   ]
  },
  {
   "cell_type": "markdown",
   "metadata": {},
   "source": [
    "#### **📈 Visualization:** Artists Who Entered And Exited The Top After Using Weekly Charts."
   ]
  },
  {
   "cell_type": "markdown",
   "metadata": {},
   "source": [
    "**1. Data Structuring for Plotting**\n",
    "\n",
    "Create a temporary DataFrame containing only the moving artists and assign them a status label for color-coding the chart."
   ]
  },
  {
   "cell_type": "code",
   "execution_count": 148,
   "metadata": {},
   "outputs": [],
   "source": [
    "artists_to_plot = artists_exit + artists_enter\n",
    "\n",
    "# 1. Get a list of all unique months\n",
    "all_months = df['month'].astype(str).unique().tolist()\n",
    "agg_artists_monthly['month'] = agg_artists_monthly['month'].astype(str)\n",
    "\n",
    "# 2. Create a DataFrame with all combinations of top artists and months\n",
    "full_grid = pd.DataFrame(product(all_months, artists_to_plot), columns=['month', 'artistName'])\n",
    "\n",
    "# 3. Left merge the full grid with the monthly data\n",
    "top_artists_monthly_recorded = pd.merge(full_grid, agg_artists_monthly, on=['month', 'artistName'], how='left')\n",
    "\n",
    "# 4. Fill NaN values with 0\n",
    "top_artists_monthly_recorded['msPlayed'] = top_artists_monthly_recorded['msPlayed'].fillna(0)"
   ]
  },
  {
   "cell_type": "markdown",
   "metadata": {},
   "source": [
    "#### **2. Generating the Line Chart**\n",
    "Use a line chart to clearly contrast the penalized and rewarded artists based on weekly lists."
   ]
  },
  {
   "cell_type": "code",
   "execution_count": 180,
   "metadata": {},
   "outputs": [
    {
     "data": {
      "image/png": "[encoded data removed]",
      "text/plain": [
       "<Figure size 749.125x432 with 2 Axes>"
      ]
     },
     "metadata": {
      "needs_background": "light"
     },
     "output_type": "display_data"
    }
   ],
   "source": [
    "# Create a helper column to indicate the status (EXITED/ENTERED) for sorting purposes.\n",
    "def get_classification(artist):\n",
    "    if artist in artists_exit:  \n",
    "        return \"EXITED\"\n",
    "    elif artist in artists_enter:  \n",
    "        return \"ENTERED\"\n",
    "    return \"N/A\"\n",
    "\n",
    "top_artists_monthly_recorded['classification'] = top_artists_monthly_recorded['artistName'].apply(get_classification)\n",
    "\n",
    "# Add a column for the facet_title \n",
    "top_artists_monthly_recorded['facet_title'] = (\n",
    "    top_artists_monthly_recorded['artistName'].astype(str) + \n",
    "    ': ' + \n",
    "    top_artists_monthly_recorded['classification'] + \n",
    "    top_artists_monthly_recorded['classification'].apply(lambda x: ' (Penalized by Volatility)' if x == 'EXITED' else ' (Rewarded for Consistency)')\n",
    ")\n",
    "\n",
    "custom_palette = {\n",
    "    'EXITED': '#D2042D',  \n",
    "    'ENTERED': '#008000'  \n",
    "}\n",
    "\n",
    "# Plotting the data\n",
    "g = snsv.relplot(\n",
    "    data=top_artists_monthly_recorded, \n",
    "    x='month', \n",
    "    y='msPlayed', \n",
    "    col='facet_title', \n",
    "    hue='classification', \n",
    "    palette=custom_palette,        \n",
    "    kind='line',         \n",
    "    marker='o',\n",
    "    col_wrap=1,         # Display one graphic per row to optimize space.\n",
    "    height=3,           # The height of each subplot.\n",
    "    aspect=3          \n",
    ")\n",
    "\n",
    "# Adjust the titles and labels for clarity.\n",
    "g.set_axis_labels(\"Months\", \"MsPlayed\")\n",
    "g.set_titles(\"{col_name}\") \n",
    "plt.suptitle(\"Artists Who Entered And Exited The Top After Using Monthly Charts.\", y=1.02, fontsize=16)\n",
    "\n",
    "# Set up the X-axis for each subchart.\n",
    "for ax in g.axes.flat:\n",
    "    # Make sure that the ticks represent complete week numbers.\n",
    "    ax.set_xticks(sorted(top_artists_monthly_recorded['month'].unique()))\n",
    "    ax.tick_params(axis='x', rotation=45) \n",
    "\n",
    "g._legend.remove() \n",
    "\n",
    "plt.tight_layout(rect=[0, 0, 1, 0.98]) \n",
    "plt.show()"
   ]
  },
  {
   "cell_type": "markdown",
   "metadata": {
    "id": "37JE02z1Ts0H"
   },
   "source": [
    "#### **What Were The Top Tracks For Each Week?**"
   ]
  },
  {
   "cell_type": "code",
   "execution_count": 150,
   "metadata": {
    "colab": {
     "base_uri": "https://localhost:8080/"
    },
    "id": "0blqlT5tT5me",
    "outputId": "676a13b4-b23a-4ea7-cf63-37de6acba1b7"
   },
   "outputs": [],
   "source": [
    "# Group by week and track to get total count per week\n",
    "agg_tracks_weekly = df.groupby(['week', 'artistName',\"trackName\"]).agg(msPlayed=('msPlayed', 'sum')).reset_index()\n",
    "\n",
    "# Find the top tracks by total count for each week\n",
    "top_tracks_per_week = agg_tracks_weekly.groupby('week', group_keys=False).apply(lambda x: x.nlargest(5, 'msPlayed')).reset_index(drop=True)\n",
    "\n",
    "# for week, group in top_tracks_per_week.groupby('week'):\n",
    "#     print(f\"\\n#### Top most-listened tracks in week {week}: ####\\n\")\n",
    "#     print(group)"
   ]
  },
  {
   "cell_type": "markdown",
   "metadata": {
    "id": "ZcWajR3lG-mY"
   },
   "source": [
    "#### **How Many Times The Most Listened-to Tracks Appeared In The Top Weekly Lists?**"
   ]
  },
  {
   "cell_type": "code",
   "execution_count": 151,
   "metadata": {
    "colab": {
     "base_uri": "https://localhost:8080/",
     "height": 260
    },
    "id": "ST-L-BpTUTvG",
    "outputId": "0382b529-9adb-49c4-e53d-5678feac45fc"
   },
   "outputs": [
    {
     "name": "stdout",
     "output_type": "stream",
     "text": [
      "\n",
      "#### Times the most listened-to tracks appeared in the top weekly lists?: ####\n",
      "\n"
     ]
    },
    {
     "data": {
      "text/html": [
       "<div>\n",
       "<style scoped>\n",
       "    .dataframe tbody tr th:only-of-type {\n",
       "        vertical-align: middle;\n",
       "    }\n",
       "\n",
       "    .dataframe tbody tr th {\n",
       "        vertical-align: top;\n",
       "    }\n",
       "\n",
       "    .dataframe thead th {\n",
       "        text-align: right;\n",
       "    }\n",
       "</style>\n",
       "<table border=\"1\" class=\"dataframe\">\n",
       "  <thead>\n",
       "    <tr style=\"text-align: right;\">\n",
       "      <th></th>\n",
       "      <th>artistName</th>\n",
       "      <th>trackName</th>\n",
       "      <th>count</th>\n",
       "      <th>percentage_of_weeks_in_top</th>\n",
       "    </tr>\n",
       "  </thead>\n",
       "  <tbody>\n",
       "    <tr>\n",
       "      <td>0</td>\n",
       "      <td>The Beatles</td>\n",
       "      <td>Hey Jude - Remastered 2015</td>\n",
       "      <td>4</td>\n",
       "      <td>10.81</td>\n",
       "    </tr>\n",
       "    <tr>\n",
       "      <td>1</td>\n",
       "      <td>The Smiths</td>\n",
       "      <td>This Charming Man - 2011 Remaster</td>\n",
       "      <td>3</td>\n",
       "      <td>8.11</td>\n",
       "    </tr>\n",
       "    <tr>\n",
       "      <td>2</td>\n",
       "      <td>Los Fundamentalistas del Aire Acondicionado</td>\n",
       "      <td>Mi Genio Amor - En Vivo</td>\n",
       "      <td>2</td>\n",
       "      <td>5.41</td>\n",
       "    </tr>\n",
       "    <tr>\n",
       "      <td>3</td>\n",
       "      <td>Oasis</td>\n",
       "      <td>Supersonic - Remastered</td>\n",
       "      <td>2</td>\n",
       "      <td>5.41</td>\n",
       "    </tr>\n",
       "    <tr>\n",
       "      <td>4</td>\n",
       "      <td>Soda Stereo</td>\n",
       "      <td>Sueles Dejarme Solo - Remasterizado 2007</td>\n",
       "      <td>2</td>\n",
       "      <td>5.41</td>\n",
       "    </tr>\n",
       "  </tbody>\n",
       "</table>\n",
       "</div>"
      ],
      "text/plain": [
       "                                    artistName  \\\n",
       "0                                  The Beatles   \n",
       "1                                   The Smiths   \n",
       "2  Los Fundamentalistas del Aire Acondicionado   \n",
       "3                                        Oasis   \n",
       "4                                  Soda Stereo   \n",
       "\n",
       "                                  trackName  count  percentage_of_weeks_in_top  \n",
       "0                Hey Jude - Remastered 2015      4                       10.81  \n",
       "1         This Charming Man - 2011 Remaster      3                        8.11  \n",
       "2                   Mi Genio Amor - En Vivo      2                        5.41  \n",
       "3                   Supersonic - Remastered      2                        5.41  \n",
       "4  Sueles Dejarme Solo - Remasterizado 2007      2                        5.41  "
      ]
     },
     "metadata": {},
     "output_type": "display_data"
    }
   ],
   "source": [
    "top_tracks['combined_key'] = list(zip(top_tracks['artistName'], top_tracks['trackName']))\n",
    "top_tracks_per_week['combined_key'] = list(zip(top_tracks_per_week['artistName'], top_tracks_per_week['trackName']))\n",
    "\n",
    "top_tracks_in_weekly_charts = top_tracks_per_week[top_tracks_per_week['combined_key'].isin(top_tracks['combined_key'])]\n",
    "\n",
    "top_tracks_in_weekly_charts = top_tracks_in_weekly_charts.groupby(['artistName',\"trackName\"]).size().to_frame('count').sort_values(by=\"count\", ascending=False).reset_index()\n",
    "\n",
    "total_weeks = len(df['week'].unique())\n",
    "top_tracks_in_weekly_charts['percentage_of_weeks_in_top'] = round((top_tracks_in_weekly_charts[\"count\"] / total_weeks) * 100, 2)\n",
    "\n",
    "print(\"\\n#### Times the most listened-to tracks appeared in the top weekly lists?: ####\\n\")\n",
    "display(top_tracks_in_weekly_charts)"
   ]
  },
  {
   "cell_type": "markdown",
   "metadata": {
    "id": "NPNnPmpyJhdi"
   },
   "source": [
    "#### **Who Were The Most Listened-To Tracks On The Weekly Charts?**"
   ]
  },
  {
   "cell_type": "code",
   "execution_count": 152,
   "metadata": {
    "colab": {
     "base_uri": "https://localhost:8080/",
     "height": 260
    },
    "id": "3FO0zgZoCUpL",
    "outputId": "2d4dbb79-ae2f-4d70-ffd3-d2cd05f32c0d"
   },
   "outputs": [
    {
     "name": "stdout",
     "output_type": "stream",
     "text": [
      "\n",
      "#### The most listened-to tracks on the weekly charts: ####\n",
      "\n"
     ]
    },
    {
     "data": {
      "text/html": [
       "<div>\n",
       "<style scoped>\n",
       "    .dataframe tbody tr th:only-of-type {\n",
       "        vertical-align: middle;\n",
       "    }\n",
       "\n",
       "    .dataframe tbody tr th {\n",
       "        vertical-align: top;\n",
       "    }\n",
       "\n",
       "    .dataframe thead th {\n",
       "        text-align: right;\n",
       "    }\n",
       "</style>\n",
       "<table border=\"1\" class=\"dataframe\">\n",
       "  <thead>\n",
       "    <tr style=\"text-align: right;\">\n",
       "      <th></th>\n",
       "      <th>artistName</th>\n",
       "      <th>trackName</th>\n",
       "      <th>count</th>\n",
       "      <th>percentage_of_weeks_in_top</th>\n",
       "    </tr>\n",
       "  </thead>\n",
       "  <tbody>\n",
       "    <tr>\n",
       "      <td>0</td>\n",
       "      <td>The Beatles</td>\n",
       "      <td>Hey Jude - Remastered 2015</td>\n",
       "      <td>4</td>\n",
       "      <td>10.81</td>\n",
       "    </tr>\n",
       "    <tr>\n",
       "      <td>1</td>\n",
       "      <td>The Beatles</td>\n",
       "      <td>Come Together - 2019 Mix</td>\n",
       "      <td>3</td>\n",
       "      <td>8.11</td>\n",
       "    </tr>\n",
       "    <tr>\n",
       "      <td>2</td>\n",
       "      <td>The Smiths</td>\n",
       "      <td>This Charming Man - 2011 Remaster</td>\n",
       "      <td>3</td>\n",
       "      <td>8.11</td>\n",
       "    </tr>\n",
       "    <tr>\n",
       "      <td>3</td>\n",
       "      <td>David Bowie</td>\n",
       "      <td>Space Oddity - 2015 Remaster</td>\n",
       "      <td>3</td>\n",
       "      <td>8.11</td>\n",
       "    </tr>\n",
       "    <tr>\n",
       "      <td>4</td>\n",
       "      <td>Nujabes</td>\n",
       "      <td>Spiritual State</td>\n",
       "      <td>2</td>\n",
       "      <td>5.41</td>\n",
       "    </tr>\n",
       "  </tbody>\n",
       "</table>\n",
       "</div>"
      ],
      "text/plain": [
       "    artistName                          trackName  count  \\\n",
       "0  The Beatles         Hey Jude - Remastered 2015      4   \n",
       "1  The Beatles           Come Together - 2019 Mix      3   \n",
       "2   The Smiths  This Charming Man - 2011 Remaster      3   \n",
       "3  David Bowie       Space Oddity - 2015 Remaster      3   \n",
       "4      Nujabes                    Spiritual State      2   \n",
       "\n",
       "   percentage_of_weeks_in_top  \n",
       "0                       10.81  \n",
       "1                        8.11  \n",
       "2                        8.11  \n",
       "3                        8.11  \n",
       "4                        5.41  "
      ]
     },
     "metadata": {},
     "output_type": "display_data"
    }
   ],
   "source": [
    "top_tracks_from_weekly_charts = top_tracks_per_week.groupby(['artistName',\"trackName\"]).size().to_frame('count').sort_values(by=\"count\", ascending=False).reset_index()\n",
    "top_tracks_from_weekly_charts = top_tracks_from_weekly_charts.nlargest(5, 'count').reset_index(drop=True)\n",
    "top_tracks_from_weekly_charts['percentage_of_weeks_in_top'] = round((top_tracks_from_weekly_charts[\"count\"] / total_weeks) * 100, 2)\n",
    "\n",
    "\n",
    "print(\"\\n#### The most listened-to tracks on the weekly charts: ####\\n\")\n",
    "display(top_tracks_from_weekly_charts)"
   ]
  },
  {
   "cell_type": "markdown",
   "metadata": {
    "id": "oYFeOBfNaSuW"
   },
   "source": [
    "#### **Differences Between The Top Tracks By Listening Time and Weekly Charts.**"
   ]
  },
  {
   "cell_type": "code",
   "execution_count": 153,
   "metadata": {
    "colab": {
     "base_uri": "https://localhost:8080/"
    },
    "id": "oKGdm1QQF52P",
    "outputId": "ba9ba1ee-1b1d-4343-c239-a49d03f8b737"
   },
   "outputs": [
    {
     "name": "stdout",
     "output_type": "stream",
     "text": [
      "\n",
      "#### Tracks that EXITED (Penalized for Weekly Volatility): [('Oasis', 'Supersonic - Remastered'), ('Los Fundamentalistas del Aire Acondicionado', 'Mi Genio Amor - En Vivo'), ('Soda Stereo', 'Sueles Dejarme Solo - Remasterizado 2007')] ####\n",
      "\n",
      "\n",
      "#### Tracks that ENTERED (Rewarded for Weekly Consistency): [('The Beatles', 'Come Together - 2019 Mix'), ('Nujabes', 'Spiritual State'), ('David Bowie', 'Space Oddity - 2015 Remaster')] ####\n",
      "\n"
     ]
    }
   ],
   "source": [
    "top_tracks_from_weekly_charts_copy = top_tracks_from_weekly_charts.copy()\n",
    "top_tracks_copy = top_tracks.copy()\n",
    "\n",
    "top_tracks_copy[\"combined_key\"] = list(zip(top_tracks['artistName'], top_tracks['trackName']))\n",
    "top_tracks_from_weekly_charts_copy[\"combined_key\"] = list(zip(top_tracks_from_weekly_charts['artistName'], top_tracks_from_weekly_charts['trackName']))\n",
    "\n",
    "# Identify Entrants and Exits\n",
    "\n",
    "# Tracks that EXIT: Were in the Top by Listening Time, but fell out after the consistency weekly.\n",
    "tracks_exit = list(set(top_tracks_copy['combined_key']) - set(top_tracks_from_weekly_charts_copy['combined_key']))\n",
    "\n",
    "# Tracks that ENTER: Were outside the Top by Listening Time, but were boosted into the Top by consistency weekly.\n",
    "tracks_enter = list(set(top_tracks_from_weekly_charts_copy['combined_key']) - set(top_tracks_copy['combined_key']))\n",
    "\n",
    "print(f\"\\n#### Tracks that EXITED (Penalized for Weekly Volatility): {tracks_exit} ####\\n\")\n",
    "print(f\"\\n#### Tracks that ENTERED (Rewarded for Weekly Consistency): {tracks_enter} ####\\n\")"
   ]
  },
  {
   "cell_type": "code",
   "execution_count": 154,
   "metadata": {},
   "outputs": [],
   "source": [
    "tracks_to_plot = tracks_exit + tracks_enter\n",
    "\n",
    "agg_tracks_weekly[\"combined_key\"] = list(zip(agg_tracks_weekly['artistName'], agg_tracks_weekly['trackName'])) \n",
    "\n",
    "# 1. Get a list of all unique months\n",
    "all_weeks = df['week'].astype(str).unique().tolist()\n",
    "agg_tracks_weekly['week'] = agg_tracks_weekly['week'].astype(str)\n",
    "\n",
    "# 2. Create a DataFrame with all combinations of top artists and months\n",
    "full_grid = pd.DataFrame(product(all_weeks, tracks_to_plot), columns=['week', \"combined_key\"])\n",
    "\n",
    "# 3. Left merge the full grid with the monthly data\n",
    "top_tracks_weekly_recorded = pd.merge(full_grid, agg_tracks_weekly, on=['week', \"combined_key\"], how='left')\n",
    "\n",
    "# 4. Fill NaN values with 0\n",
    "top_tracks_weekly_recorded['msPlayed'] = top_tracks_weekly_recorded['msPlayed'].fillna(0)\n",
    "\n",
    "week_numbers_list = []\n",
    "\n",
    "# Create pairs of (Original Week String, Sequential Number)\n",
    "for week, i in zip(all_weeks, range(1, len(all_weeks) + 1)):  week_numbers_list.append([week, i])\n",
    "\n",
    "week_to_number_map = dict(week_numbers_list)\n",
    "\n",
    "top_tracks_weekly_recorded['sequential_week'] = top_tracks_weekly_recorded['week'].map(week_to_number_map)"
   ]
  },
  {
   "cell_type": "code",
   "execution_count": 175,
   "metadata": {},
   "outputs": [
    {
     "data": {
      "image/png": "[encoded data removed]",
      "text/plain": [
       "<Figure size 749.125x1296 with 6 Axes>"
      ]
     },
     "metadata": {
      "needs_background": "light"
     },
     "output_type": "display_data"
    }
   ],
   "source": [
    "# Create a helper column to indicate the status (EXITED/ENTERED) for sorting purposes.\n",
    "def get_classification(track):\n",
    "    if track in tracks_exit:  \n",
    "        return \"EXITED\"\n",
    "    elif track in tracks_enter:  \n",
    "        return \"ENTERED\"\n",
    "    return \"N/A\"\n",
    "\n",
    "top_tracks_weekly_recorded['classification'] = top_tracks_weekly_recorded['combined_key'].apply(get_classification)\n",
    "\n",
    "# Add a column for the facet_title \n",
    "top_tracks_weekly_recorded['facet_title'] = (\n",
    "    top_tracks_weekly_recorded['combined_key'].astype(str) + \n",
    "    ': ' + \n",
    "    top_tracks_weekly_recorded['classification'] + \n",
    "    top_tracks_weekly_recorded['classification'].apply(lambda x: ' (Penalized by Volatility)' if x == 'EXITED' else ' (Rewarded for Consistency)')\n",
    ")\n",
    "\n",
    "custom_palette = {\n",
    "    'EXITED': '#D2042D',  \n",
    "    'ENTERED': '#008000'  \n",
    "}\n",
    "\n",
    "# Plotting the data\n",
    "g = snsv.relplot(\n",
    "    data=top_tracks_weekly_recorded, \n",
    "    x='sequential_week', \n",
    "    y='msPlayed', \n",
    "    col='facet_title', \n",
    "    hue='classification', \n",
    "    palette=custom_palette, \n",
    "    kind='line',        \n",
    "    marker='o',\n",
    "    col_wrap=1,         # Display one graphic per row to optimize space.\n",
    "    height=3,           # The height of each subplot.\n",
    "    aspect=3          \n",
    ")\n",
    "\n",
    "# Adjust the titles and labels for clarity.\n",
    "g.set_axis_labels(\"Weeks\", \"MsPlayed\")\n",
    "g.set_titles(\"{col_name}\") \n",
    "plt.suptitle(\"Tracks Who Entered And Exited The Top After Using Weekly Charts.\", y=1.02, fontsize=16)\n",
    "\n",
    "# Set up the X-axis for each subchart.\n",
    "for ax in g.axes.flat:\n",
    "    # Make sure that the ticks represent complete week numbers.\n",
    "    ax.set_xticks(sorted(top_tracks_weekly_recorded['sequential_week'].unique()))\n",
    "    ax.tick_params(axis='x', rotation=45) \n",
    "\n",
    "\n",
    "g._legend.remove() \n",
    "\n",
    "plt.tight_layout(rect=[0, 0, 1, 0.98]) \n",
    "plt.show()"
   ]
  },
  {
   "cell_type": "code",
   "execution_count": null,
   "metadata": {},
   "outputs": [],
   "source": []
  }
 ],
 "metadata": {
  "colab": {
   "provenance": []
  },
  "kernelspec": {
   "display_name": "Python 3",
   "language": "python",
   "name": "python3"
  },
  "language_info": {
   "codemirror_mode": {
    "name": "ipython",
    "version": 3
   },
   "file_extension": ".py",
   "mimetype": "text/x-python",
   "name": "python",
   "nbconvert_exporter": "python",
   "pygments_lexer": "ipython3",
   "version": "3.7.4"
  }
 },
 "nbformat": 4,
 "nbformat_minor": 1
}
