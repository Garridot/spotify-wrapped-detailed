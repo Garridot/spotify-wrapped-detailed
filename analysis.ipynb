{
 "cells": [
  {
   "cell_type": "markdown",
   "metadata": {
    "id": "Zz5Q3e8PpGiX"
   },
   "source": [
    "## **Spotify Wrapped: Detailed Overview.**\n",
    "\n",
    "\n",
    "---\n",
    "\n"
   ]
  },
  {
   "cell_type": "markdown",
   "metadata": {
    "id": "6726gvm6M67x"
   },
   "source": [
    "**Import the required libraries and modules.**"
   ]
  },
  {
   "cell_type": "code",
   "execution_count": 86,
   "metadata": {
    "id": "jflprvjgp4q_"
   },
   "outputs": [],
   "source": [
    "import pandas as pd\n",
    "import matplotlib.pyplot as plt\n",
    "import seaborn as snsv\n",
    "import numpy as np\n",
    "\n",
    "import textwrap\n",
    "from itertools import product"
   ]
  },
  {
   "cell_type": "markdown",
   "metadata": {
    "id": "TuALv_TeOHxu"
   },
   "source": [
    "#### **Load the files.**\n",
    "\n",
    "The data must be placed in the ```/spotify_data``` in order to be loaded."
   ]
  },
  {
   "cell_type": "code",
   "execution_count": 87,
   "metadata": {
    "id": "ftaT-THvFXN7"
   },
   "outputs": [],
   "source": [
    "import os\n",
    "\n",
    "# Example assuming the folder is in the same directory as your notebook:\n",
    "json_directory = \"spotify_data\" \n",
    "\n",
    "# Get a list of all JSON files in the directory that start with \"Streaming_History_Audio_2025_\"\n",
    "json_files = [os.path.join(json_directory, f) \n",
    "              for f in os.listdir(json_directory) \n",
    "              if f.startswith(\"Streaming_History_Audio_2025_\") and f.endswith(\".json\")]\n",
    "\n",
    "# Read each JSON file into a DataFrame and concatenate them\n",
    "df = pd.concat((pd.read_json(f) for f in json_files), ignore_index=True)"
   ]
  },
  {
   "cell_type": "markdown",
   "metadata": {
    "id": "nh3OKjN3PdNH"
   },
   "source": [
    "#### **Read the data.**"
   ]
  },
  {
   "cell_type": "code",
   "execution_count": 88,
   "metadata": {
    "colab": {
     "base_uri": "https://localhost:8080/",
     "height": 327
    },
    "id": "Lu1yprwEKl5r",
    "outputId": "e09eea79-568e-4d1a-8ee8-34f354d1371f"
   },
   "outputs": [
    {
     "name": "stdout",
     "output_type": "stream",
     "text": [
      "\n",
      "#### First 5 rows of the DataFrame: ####\n",
      "\n"
     ]
    },
    {
     "data": {
      "text/html": [
       "<div>\n",
       "<style scoped>\n",
       "    .dataframe tbody tr th:only-of-type {\n",
       "        vertical-align: middle;\n",
       "    }\n",
       "\n",
       "    .dataframe tbody tr th {\n",
       "        vertical-align: top;\n",
       "    }\n",
       "\n",
       "    .dataframe thead th {\n",
       "        text-align: right;\n",
       "    }\n",
       "</style>\n",
       "<table border=\"1\" class=\"dataframe\">\n",
       "  <thead>\n",
       "    <tr style=\"text-align: right;\">\n",
       "      <th></th>\n",
       "      <th>ts</th>\n",
       "      <th>platform</th>\n",
       "      <th>ms_played</th>\n",
       "      <th>conn_country</th>\n",
       "      <th>ip_addr</th>\n",
       "      <th>master_metadata_track_name</th>\n",
       "      <th>master_metadata_album_artist_name</th>\n",
       "      <th>master_metadata_album_album_name</th>\n",
       "      <th>spotify_track_uri</th>\n",
       "      <th>episode_name</th>\n",
       "      <th>...</th>\n",
       "      <th>audiobook_uri</th>\n",
       "      <th>audiobook_chapter_uri</th>\n",
       "      <th>audiobook_chapter_title</th>\n",
       "      <th>reason_start</th>\n",
       "      <th>reason_end</th>\n",
       "      <th>shuffle</th>\n",
       "      <th>skipped</th>\n",
       "      <th>offline</th>\n",
       "      <th>offline_timestamp</th>\n",
       "      <th>incognito_mode</th>\n",
       "    </tr>\n",
       "  </thead>\n",
       "  <tbody>\n",
       "    <tr>\n",
       "      <td>0</td>\n",
       "      <td>2025-01-06T23:56:34Z</td>\n",
       "      <td>android</td>\n",
       "      <td>4996</td>\n",
       "      <td>AR</td>\n",
       "      <td>2802:8012:536c:5100:8c54:5f92:a320:6b24</td>\n",
       "      <td>Luv (sic) 12\" Remix</td>\n",
       "      <td>Nujabes</td>\n",
       "      <td>Luv(sic) Hexalogy</td>\n",
       "      <td>spotify:track:7GgxAb6nyVReB3FFxtQWkV</td>\n",
       "      <td>NaN</td>\n",
       "      <td>...</td>\n",
       "      <td>NaN</td>\n",
       "      <td>NaN</td>\n",
       "      <td>NaN</td>\n",
       "      <td>clickrow</td>\n",
       "      <td>endplay</td>\n",
       "      <td>True</td>\n",
       "      <td>True</td>\n",
       "      <td>False</td>\n",
       "      <td>1736207789</td>\n",
       "      <td>False</td>\n",
       "    </tr>\n",
       "    <tr>\n",
       "      <td>1</td>\n",
       "      <td>2025-01-06T23:56:44Z</td>\n",
       "      <td>android</td>\n",
       "      <td>9073</td>\n",
       "      <td>AR</td>\n",
       "      <td>2802:8012:536c:5100:8c54:5f92:a320:6b24</td>\n",
       "      <td>Luv (sic) pt6 Uyama Hiroto Remix Instrumentals</td>\n",
       "      <td>Nujabes</td>\n",
       "      <td>Luv(sic) Hexalogy</td>\n",
       "      <td>spotify:track:6bjYPIzpMjFhlYbgPhi8AP</td>\n",
       "      <td>NaN</td>\n",
       "      <td>...</td>\n",
       "      <td>NaN</td>\n",
       "      <td>NaN</td>\n",
       "      <td>NaN</td>\n",
       "      <td>clickrow</td>\n",
       "      <td>endplay</td>\n",
       "      <td>True</td>\n",
       "      <td>True</td>\n",
       "      <td>False</td>\n",
       "      <td>1736207794</td>\n",
       "      <td>False</td>\n",
       "    </tr>\n",
       "    <tr>\n",
       "      <td>2</td>\n",
       "      <td>2025-01-06T23:57:25Z</td>\n",
       "      <td>android</td>\n",
       "      <td>40913</td>\n",
       "      <td>AR</td>\n",
       "      <td>2802:8012:536c:5100:8c54:5f92:a320:6b24</td>\n",
       "      <td>Luv (sic) pt6 Uyama Hiroto Remix</td>\n",
       "      <td>Nujabes</td>\n",
       "      <td>Luv(sic) Hexalogy</td>\n",
       "      <td>spotify:track:16wGHOPaWoat5rkAZkixxk</td>\n",
       "      <td>NaN</td>\n",
       "      <td>...</td>\n",
       "      <td>NaN</td>\n",
       "      <td>NaN</td>\n",
       "      <td>NaN</td>\n",
       "      <td>clickrow</td>\n",
       "      <td>endplay</td>\n",
       "      <td>True</td>\n",
       "      <td>True</td>\n",
       "      <td>False</td>\n",
       "      <td>1736207804</td>\n",
       "      <td>False</td>\n",
       "    </tr>\n",
       "    <tr>\n",
       "      <td>3</td>\n",
       "      <td>2025-01-06T23:57:26Z</td>\n",
       "      <td>android</td>\n",
       "      <td>1029</td>\n",
       "      <td>AR</td>\n",
       "      <td>2802:8012:536c:5100:8c54:5f92:a320:6b24</td>\n",
       "      <td>Jazz presso</td>\n",
       "      <td>re:plus</td>\n",
       "      <td>Prayer</td>\n",
       "      <td>spotify:track:1HrS8TQFRwpo0Y7Xg5JqFv</td>\n",
       "      <td>NaN</td>\n",
       "      <td>...</td>\n",
       "      <td>NaN</td>\n",
       "      <td>NaN</td>\n",
       "      <td>NaN</td>\n",
       "      <td>clickrow</td>\n",
       "      <td>endplay</td>\n",
       "      <td>False</td>\n",
       "      <td>True</td>\n",
       "      <td>False</td>\n",
       "      <td>1736207845</td>\n",
       "      <td>False</td>\n",
       "    </tr>\n",
       "    <tr>\n",
       "      <td>4</td>\n",
       "      <td>2025-01-06T23:57:41Z</td>\n",
       "      <td>android</td>\n",
       "      <td>14673</td>\n",
       "      <td>AR</td>\n",
       "      <td>2802:8012:536c:5100:8c54:5f92:a320:6b24</td>\n",
       "      <td>Migratory birds</td>\n",
       "      <td>re:plus</td>\n",
       "      <td>Prayer</td>\n",
       "      <td>spotify:track:0X58uodvlbESqAMKLnV2A7</td>\n",
       "      <td>NaN</td>\n",
       "      <td>...</td>\n",
       "      <td>NaN</td>\n",
       "      <td>NaN</td>\n",
       "      <td>NaN</td>\n",
       "      <td>clickrow</td>\n",
       "      <td>endplay</td>\n",
       "      <td>False</td>\n",
       "      <td>True</td>\n",
       "      <td>False</td>\n",
       "      <td>1736207846</td>\n",
       "      <td>False</td>\n",
       "    </tr>\n",
       "  </tbody>\n",
       "</table>\n",
       "<p>5 rows × 23 columns</p>\n",
       "</div>"
      ],
      "text/plain": [
       "                     ts platform  ms_played conn_country  \\\n",
       "0  2025-01-06T23:56:34Z  android       4996           AR   \n",
       "1  2025-01-06T23:56:44Z  android       9073           AR   \n",
       "2  2025-01-06T23:57:25Z  android      40913           AR   \n",
       "3  2025-01-06T23:57:26Z  android       1029           AR   \n",
       "4  2025-01-06T23:57:41Z  android      14673           AR   \n",
       "\n",
       "                                   ip_addr  \\\n",
       "0  2802:8012:536c:5100:8c54:5f92:a320:6b24   \n",
       "1  2802:8012:536c:5100:8c54:5f92:a320:6b24   \n",
       "2  2802:8012:536c:5100:8c54:5f92:a320:6b24   \n",
       "3  2802:8012:536c:5100:8c54:5f92:a320:6b24   \n",
       "4  2802:8012:536c:5100:8c54:5f92:a320:6b24   \n",
       "\n",
       "                       master_metadata_track_name  \\\n",
       "0                             Luv (sic) 12\" Remix   \n",
       "1  Luv (sic) pt6 Uyama Hiroto Remix Instrumentals   \n",
       "2                Luv (sic) pt6 Uyama Hiroto Remix   \n",
       "3                                     Jazz presso   \n",
       "4                                 Migratory birds   \n",
       "\n",
       "  master_metadata_album_artist_name master_metadata_album_album_name  \\\n",
       "0                           Nujabes                Luv(sic) Hexalogy   \n",
       "1                           Nujabes                Luv(sic) Hexalogy   \n",
       "2                           Nujabes                Luv(sic) Hexalogy   \n",
       "3                           re:plus                           Prayer   \n",
       "4                           re:plus                           Prayer   \n",
       "\n",
       "                      spotify_track_uri episode_name  ... audiobook_uri  \\\n",
       "0  spotify:track:7GgxAb6nyVReB3FFxtQWkV          NaN  ...           NaN   \n",
       "1  spotify:track:6bjYPIzpMjFhlYbgPhi8AP          NaN  ...           NaN   \n",
       "2  spotify:track:16wGHOPaWoat5rkAZkixxk          NaN  ...           NaN   \n",
       "3  spotify:track:1HrS8TQFRwpo0Y7Xg5JqFv          NaN  ...           NaN   \n",
       "4  spotify:track:0X58uodvlbESqAMKLnV2A7          NaN  ...           NaN   \n",
       "\n",
       "  audiobook_chapter_uri  audiobook_chapter_title  reason_start  reason_end  \\\n",
       "0                   NaN                      NaN      clickrow     endplay   \n",
       "1                   NaN                      NaN      clickrow     endplay   \n",
       "2                   NaN                      NaN      clickrow     endplay   \n",
       "3                   NaN                      NaN      clickrow     endplay   \n",
       "4                   NaN                      NaN      clickrow     endplay   \n",
       "\n",
       "   shuffle skipped offline  offline_timestamp  incognito_mode  \n",
       "0     True    True   False         1736207789           False  \n",
       "1     True    True   False         1736207794           False  \n",
       "2     True    True   False         1736207804           False  \n",
       "3    False    True   False         1736207845           False  \n",
       "4    False    True   False         1736207846           False  \n",
       "\n",
       "[5 rows x 23 columns]"
      ]
     },
     "metadata": {},
     "output_type": "display_data"
    }
   ],
   "source": [
    "print(\"\\n#### First 5 rows of the DataFrame: ####\\n\")\n",
    "display(df.head())"
   ]
  },
  {
   "cell_type": "markdown",
   "metadata": {
    "id": "Zws9DoPawq3P"
   },
   "source": [
    "The following table explains the technical fields required for this analysis:\n",
    "\n",
    "| Technical field | Contains |\n",
    "| :--- | :--- |\n",
    "| **ts** | This field is a timestamp indicating when the track stopped playing in UTC (Coordinated Universal Time). Te order is year, month and day followed by a timestamp in military time |\n",
    "| **ms_played** | This field is the number of milliseconds the stream was played. |\n",
    "| **master_metadata_track_name** | This field is the name of the track. |\n",
    "| **master_metadata_album_artist_name** | This field is the name of the artist, band or podcast. |\n",
    "| **master_metadata_album_album_name** | This field is the name of the album of the track. |"
   ]
  },
  {
   "cell_type": "markdown",
   "metadata": {
    "id": "W8VXR_o2NYhT"
   },
   "source": [
    "####  **Select And Rename The Columns Required For This Analysis.**"
   ]
  },
  {
   "cell_type": "code",
   "execution_count": 89,
   "metadata": {
    "colab": {
     "base_uri": "https://localhost:8080/",
     "height": 260
    },
    "id": "y8sJPybWgu5u",
    "outputId": "a77ea1e2-d64a-4c3b-c009-aaa2e8ac21ae"
   },
   "outputs": [
    {
     "name": "stdout",
     "output_type": "stream",
     "text": [
      "\n",
      "#### Columns required for this analysis: ####\n",
      "\n"
     ]
    },
    {
     "data": {
      "text/html": [
       "<div>\n",
       "<style scoped>\n",
       "    .dataframe tbody tr th:only-of-type {\n",
       "        vertical-align: middle;\n",
       "    }\n",
       "\n",
       "    .dataframe tbody tr th {\n",
       "        vertical-align: top;\n",
       "    }\n",
       "\n",
       "    .dataframe thead th {\n",
       "        text-align: right;\n",
       "    }\n",
       "</style>\n",
       "<table border=\"1\" class=\"dataframe\">\n",
       "  <thead>\n",
       "    <tr style=\"text-align: right;\">\n",
       "      <th></th>\n",
       "      <th>endTime</th>\n",
       "      <th>msPlayed</th>\n",
       "      <th>trackName</th>\n",
       "      <th>artistName</th>\n",
       "      <th>albumName</th>\n",
       "    </tr>\n",
       "  </thead>\n",
       "  <tbody>\n",
       "    <tr>\n",
       "      <td>0</td>\n",
       "      <td>2025-01-06T23:56:34Z</td>\n",
       "      <td>4996</td>\n",
       "      <td>Luv (sic) 12\" Remix</td>\n",
       "      <td>Nujabes</td>\n",
       "      <td>Luv(sic) Hexalogy</td>\n",
       "    </tr>\n",
       "    <tr>\n",
       "      <td>1</td>\n",
       "      <td>2025-01-06T23:56:44Z</td>\n",
       "      <td>9073</td>\n",
       "      <td>Luv (sic) pt6 Uyama Hiroto Remix Instrumentals</td>\n",
       "      <td>Nujabes</td>\n",
       "      <td>Luv(sic) Hexalogy</td>\n",
       "    </tr>\n",
       "    <tr>\n",
       "      <td>2</td>\n",
       "      <td>2025-01-06T23:57:25Z</td>\n",
       "      <td>40913</td>\n",
       "      <td>Luv (sic) pt6 Uyama Hiroto Remix</td>\n",
       "      <td>Nujabes</td>\n",
       "      <td>Luv(sic) Hexalogy</td>\n",
       "    </tr>\n",
       "    <tr>\n",
       "      <td>3</td>\n",
       "      <td>2025-01-06T23:57:26Z</td>\n",
       "      <td>1029</td>\n",
       "      <td>Jazz presso</td>\n",
       "      <td>re:plus</td>\n",
       "      <td>Prayer</td>\n",
       "    </tr>\n",
       "    <tr>\n",
       "      <td>4</td>\n",
       "      <td>2025-01-06T23:57:41Z</td>\n",
       "      <td>14673</td>\n",
       "      <td>Migratory birds</td>\n",
       "      <td>re:plus</td>\n",
       "      <td>Prayer</td>\n",
       "    </tr>\n",
       "  </tbody>\n",
       "</table>\n",
       "</div>"
      ],
      "text/plain": [
       "                endTime  msPlayed  \\\n",
       "0  2025-01-06T23:56:34Z      4996   \n",
       "1  2025-01-06T23:56:44Z      9073   \n",
       "2  2025-01-06T23:57:25Z     40913   \n",
       "3  2025-01-06T23:57:26Z      1029   \n",
       "4  2025-01-06T23:57:41Z     14673   \n",
       "\n",
       "                                        trackName artistName  \\\n",
       "0                             Luv (sic) 12\" Remix    Nujabes   \n",
       "1  Luv (sic) pt6 Uyama Hiroto Remix Instrumentals    Nujabes   \n",
       "2                Luv (sic) pt6 Uyama Hiroto Remix    Nujabes   \n",
       "3                                     Jazz presso    re:plus   \n",
       "4                                 Migratory birds    re:plus   \n",
       "\n",
       "           albumName  \n",
       "0  Luv(sic) Hexalogy  \n",
       "1  Luv(sic) Hexalogy  \n",
       "2  Luv(sic) Hexalogy  \n",
       "3             Prayer  \n",
       "4             Prayer  "
      ]
     },
     "metadata": {},
     "output_type": "display_data"
    }
   ],
   "source": [
    "df = df[[\"ts\",\"ms_played\", \"master_metadata_track_name\", \"master_metadata_album_artist_name\", \"master_metadata_album_album_name\"]]\n",
    "df.rename(columns={\n",
    "    \"ts\": \"endTime\",\n",
    "    \"ms_played\": \"msPlayed\",\n",
    "    \"master_metadata_track_name\": \"trackName\",\n",
    "    \"master_metadata_album_artist_name\": \"artistName\",\n",
    "    \"master_metadata_album_album_name\": \"albumName\"\n",
    "    }, inplace=True)\n",
    "\n",
    "\n",
    "print(\"\\n#### Columns required for this analysis: ####\\n\")\n",
    "display(df.head())"
   ]
  },
  {
   "cell_type": "markdown",
   "metadata": {
    "id": "Uccj3SN2TT8w"
   },
   "source": [
    "#### **Check The Data Types Off The Columns.**"
   ]
  },
  {
   "cell_type": "code",
   "execution_count": 90,
   "metadata": {
    "colab": {
     "base_uri": "https://localhost:8080/",
     "height": 241
    },
    "id": "vpOBH0uwTSTV",
    "outputId": "410a1863-a519-4482-a7ca-32dfa472f446"
   },
   "outputs": [
    {
     "data": {
      "text/plain": [
       "endTime       object\n",
       "msPlayed       int64\n",
       "trackName     object\n",
       "artistName    object\n",
       "albumName     object\n",
       "dtype: object"
      ]
     },
     "metadata": {},
     "output_type": "display_data"
    }
   ],
   "source": [
    "display(df.dtypes)"
   ]
  },
  {
   "cell_type": "markdown",
   "metadata": {
    "id": "ZtHiJfTsTz_4"
   },
   "source": [
    "#### **Convert The `endTime` To a Datetime Format And Add Two New Columns: `month` and `week`.**"
   ]
  },
  {
   "cell_type": "code",
   "execution_count": 91,
   "metadata": {
    "colab": {
     "base_uri": "https://localhost:8080/",
     "height": 296
    },
    "id": "7UhsGwesS4Hf",
    "outputId": "3e17df2a-a41d-45c1-c64e-9ad542bb917b"
   },
   "outputs": [
    {
     "name": "stdout",
     "output_type": "stream",
     "text": [
      "\n",
      "#### Final DataFrame:####\n",
      "\n"
     ]
    },
    {
     "data": {
      "text/html": [
       "<div>\n",
       "<style scoped>\n",
       "    .dataframe tbody tr th:only-of-type {\n",
       "        vertical-align: middle;\n",
       "    }\n",
       "\n",
       "    .dataframe tbody tr th {\n",
       "        vertical-align: top;\n",
       "    }\n",
       "\n",
       "    .dataframe thead th {\n",
       "        text-align: right;\n",
       "    }\n",
       "</style>\n",
       "<table border=\"1\" class=\"dataframe\">\n",
       "  <thead>\n",
       "    <tr style=\"text-align: right;\">\n",
       "      <th></th>\n",
       "      <th>endTime</th>\n",
       "      <th>msPlayed</th>\n",
       "      <th>trackName</th>\n",
       "      <th>artistName</th>\n",
       "      <th>albumName</th>\n",
       "      <th>month</th>\n",
       "      <th>week</th>\n",
       "    </tr>\n",
       "  </thead>\n",
       "  <tbody>\n",
       "    <tr>\n",
       "      <td>0</td>\n",
       "      <td>2025-01-06 23:56:34+00:00</td>\n",
       "      <td>4996</td>\n",
       "      <td>Luv (sic) 12\" Remix</td>\n",
       "      <td>Nujabes</td>\n",
       "      <td>Luv(sic) Hexalogy</td>\n",
       "      <td>1</td>\n",
       "      <td>2025-01-06/2025-01-12</td>\n",
       "    </tr>\n",
       "    <tr>\n",
       "      <td>1</td>\n",
       "      <td>2025-01-06 23:56:44+00:00</td>\n",
       "      <td>9073</td>\n",
       "      <td>Luv (sic) pt6 Uyama Hiroto Remix Instrumentals</td>\n",
       "      <td>Nujabes</td>\n",
       "      <td>Luv(sic) Hexalogy</td>\n",
       "      <td>1</td>\n",
       "      <td>2025-01-06/2025-01-12</td>\n",
       "    </tr>\n",
       "    <tr>\n",
       "      <td>2</td>\n",
       "      <td>2025-01-06 23:57:25+00:00</td>\n",
       "      <td>40913</td>\n",
       "      <td>Luv (sic) pt6 Uyama Hiroto Remix</td>\n",
       "      <td>Nujabes</td>\n",
       "      <td>Luv(sic) Hexalogy</td>\n",
       "      <td>1</td>\n",
       "      <td>2025-01-06/2025-01-12</td>\n",
       "    </tr>\n",
       "    <tr>\n",
       "      <td>3</td>\n",
       "      <td>2025-01-06 23:57:26+00:00</td>\n",
       "      <td>1029</td>\n",
       "      <td>Jazz presso</td>\n",
       "      <td>re:plus</td>\n",
       "      <td>Prayer</td>\n",
       "      <td>1</td>\n",
       "      <td>2025-01-06/2025-01-12</td>\n",
       "    </tr>\n",
       "    <tr>\n",
       "      <td>4</td>\n",
       "      <td>2025-01-06 23:57:41+00:00</td>\n",
       "      <td>14673</td>\n",
       "      <td>Migratory birds</td>\n",
       "      <td>re:plus</td>\n",
       "      <td>Prayer</td>\n",
       "      <td>1</td>\n",
       "      <td>2025-01-06/2025-01-12</td>\n",
       "    </tr>\n",
       "  </tbody>\n",
       "</table>\n",
       "</div>"
      ],
      "text/plain": [
       "                    endTime  msPlayed  \\\n",
       "0 2025-01-06 23:56:34+00:00      4996   \n",
       "1 2025-01-06 23:56:44+00:00      9073   \n",
       "2 2025-01-06 23:57:25+00:00     40913   \n",
       "3 2025-01-06 23:57:26+00:00      1029   \n",
       "4 2025-01-06 23:57:41+00:00     14673   \n",
       "\n",
       "                                        trackName artistName  \\\n",
       "0                             Luv (sic) 12\" Remix    Nujabes   \n",
       "1  Luv (sic) pt6 Uyama Hiroto Remix Instrumentals    Nujabes   \n",
       "2                Luv (sic) pt6 Uyama Hiroto Remix    Nujabes   \n",
       "3                                     Jazz presso    re:plus   \n",
       "4                                 Migratory birds    re:plus   \n",
       "\n",
       "           albumName  month                   week  \n",
       "0  Luv(sic) Hexalogy      1  2025-01-06/2025-01-12  \n",
       "1  Luv(sic) Hexalogy      1  2025-01-06/2025-01-12  \n",
       "2  Luv(sic) Hexalogy      1  2025-01-06/2025-01-12  \n",
       "3             Prayer      1  2025-01-06/2025-01-12  \n",
       "4             Prayer      1  2025-01-06/2025-01-12  "
      ]
     },
     "metadata": {},
     "output_type": "display_data"
    }
   ],
   "source": [
    "df['endTime'] = pd.to_datetime(df['endTime'])\n",
    "df['month'] = df['endTime'].dt.month\n",
    "df['week'] = df['endTime'].dt.to_period('W')\n",
    "\n",
    "print(\"\\n#### Final DataFrame:####\\n\")\n",
    "display(df.head())"
   ]
  },
  {
   "cell_type": "markdown",
   "metadata": {
    "id": "XplY87veXLgV"
   },
   "source": [
    "#### **What Time Frame Does The Information Collected From Spotify Refer To?**"
   ]
  },
  {
   "cell_type": "code",
   "execution_count": 92,
   "metadata": {
    "colab": {
     "base_uri": "https://localhost:8080/"
    },
    "id": "UidIxUqaXNue",
    "outputId": "986037c1-64f0-4105-927d-9d9f1dfea56f"
   },
   "outputs": [
    {
     "name": "stdout",
     "output_type": "stream",
     "text": [
      "The information obtained from Spotify pertains to the period from 2025-01-06, to 2025-09-20.\n"
     ]
    }
   ],
   "source": [
    "first_date = df['endTime'].dt.date.iloc[0]\n",
    "last_date = df['endTime'].dt.date.iloc[-1]\n",
    "print(f\"The information obtained from Spotify pertains to the period from {first_date}, to {last_date}.\")"
   ]
  },
  {
   "cell_type": "markdown",
   "metadata": {
    "id": "shZgfzNrbBNB"
   },
   "source": [
    "#### **How Much Data Does Spotify Collect Every Month?**"
   ]
  },
  {
   "cell_type": "code",
   "execution_count": 93,
   "metadata": {
    "colab": {
     "base_uri": "https://localhost:8080/",
     "height": 363
    },
    "id": "qwfeeO6MbGlu",
    "outputId": "60a9f1ed-26c7-465e-ecd6-29d582d09556"
   },
   "outputs": [
    {
     "data": {
      "text/html": [
       "<div>\n",
       "<style scoped>\n",
       "    .dataframe tbody tr th:only-of-type {\n",
       "        vertical-align: middle;\n",
       "    }\n",
       "\n",
       "    .dataframe tbody tr th {\n",
       "        vertical-align: top;\n",
       "    }\n",
       "\n",
       "    .dataframe thead th {\n",
       "        text-align: right;\n",
       "    }\n",
       "</style>\n",
       "<table border=\"1\" class=\"dataframe\">\n",
       "  <thead>\n",
       "    <tr style=\"text-align: right;\">\n",
       "      <th></th>\n",
       "      <th>artistName</th>\n",
       "      <th>trackName</th>\n",
       "    </tr>\n",
       "    <tr>\n",
       "      <th>month</th>\n",
       "      <th></th>\n",
       "      <th></th>\n",
       "    </tr>\n",
       "  </thead>\n",
       "  <tbody>\n",
       "    <tr>\n",
       "      <td>1</td>\n",
       "      <td>860</td>\n",
       "      <td>2714</td>\n",
       "    </tr>\n",
       "    <tr>\n",
       "      <td>2</td>\n",
       "      <td>916</td>\n",
       "      <td>2515</td>\n",
       "    </tr>\n",
       "    <tr>\n",
       "      <td>3</td>\n",
       "      <td>1410</td>\n",
       "      <td>4098</td>\n",
       "    </tr>\n",
       "    <tr>\n",
       "      <td>4</td>\n",
       "      <td>864</td>\n",
       "      <td>2435</td>\n",
       "    </tr>\n",
       "    <tr>\n",
       "      <td>5</td>\n",
       "      <td>1556</td>\n",
       "      <td>3683</td>\n",
       "    </tr>\n",
       "    <tr>\n",
       "      <td>6</td>\n",
       "      <td>1553</td>\n",
       "      <td>3425</td>\n",
       "    </tr>\n",
       "    <tr>\n",
       "      <td>7</td>\n",
       "      <td>2147</td>\n",
       "      <td>4692</td>\n",
       "    </tr>\n",
       "    <tr>\n",
       "      <td>8</td>\n",
       "      <td>1211</td>\n",
       "      <td>2631</td>\n",
       "    </tr>\n",
       "    <tr>\n",
       "      <td>9</td>\n",
       "      <td>366</td>\n",
       "      <td>815</td>\n",
       "    </tr>\n",
       "  </tbody>\n",
       "</table>\n",
       "</div>"
      ],
      "text/plain": [
       "       artistName  trackName\n",
       "month                       \n",
       "1             860       2714\n",
       "2             916       2515\n",
       "3            1410       4098\n",
       "4             864       2435\n",
       "5            1556       3683\n",
       "6            1553       3425\n",
       "7            2147       4692\n",
       "8            1211       2631\n",
       "9             366        815"
      ]
     },
     "metadata": {},
     "output_type": "display_data"
    }
   ],
   "source": [
    "df_agg = df.groupby(\"month\")\n",
    "agg_artist_monthly = df_agg[['artistName','trackName']].nunique()\n",
    "\n",
    "display(agg_artist_monthly)"
   ]
  },
  {
   "cell_type": "markdown",
   "metadata": {
    "id": "XfEZmStyTHty"
   },
   "source": [
    "Understanding the time period covered and the amount of data collected by Spotify, we can proceed with the analysis.\n"
   ]
  },
  {
   "cell_type": "markdown",
   "metadata": {},
   "source": [
    "**Goals to be Completed:**\n",
    "\n",
    "- Determine the **most listened-to artists/tracks overall** (measured in **minutes listened**).\n",
    "- Analyze the **monthly performance** of the artists and tracks that are most listened to overall.\n",
    "- Identify how many times the most listened-to artists/tracks appeared in the **top monthly/weekly**.\n",
    "- Visualized **how the trends** of the most listened-to artists/tracks **change over the course** of months/weeks.\n",
    "- Compare the **overall top list** with the list of artists/tracks that have been **consistently listened to over** weeks/months. Are there any **outliers** in the overall top list?\n",
    "\n",
    "---"
   ]
  },
  {
   "cell_type": "markdown",
   "metadata": {},
   "source": [
    "#### To avoid repeating code, the following functions generate the graphs needed for analysis."
   ]
  },
  {
   "cell_type": "code",
   "execution_count": 157,
   "metadata": {},
   "outputs": [],
   "source": [
    "def run_line_graph(data,x,hue_data,data_title,xlabel,time):\n",
    "    \"\"\"\n",
    "    Create a Line Graph showing the performance of the most listened-to content monthly/weekly.\n",
    "    \"\"\"\n",
    "    # Plotting the data\n",
    "    plt.figure(figsize=(12, 5)) # Further increased figure size\n",
    "    ax = snsv.lineplot(data=data, x=x, y='msPlayed', marker='o', hue=hue_data, linewidth=1.3, markersize=3)\n",
    "    plt.title(data_title)\n",
    "    plt.xlabel(xlabel)\n",
    "    plt.ylabel('MsPlayed')\n",
    "\n",
    "    # Set x-axis ticks to be integers\n",
    "    plt.xticks(sorted(time.unique()))\n",
    "\n",
    "    plt.xticks(rotation=45, ha='right') # Ensure x-axis labels are aligned correctly\n",
    "#     plt.legend(bbox_to_anchor=(1.05, 1), loc='upper left') # Keep legend outside the plot\n",
    "\n",
    "    # Wrap the y-axis labels\n",
    "    wrapped_labels = [textwrap.fill(label.get_text(), width=20) for label in ax.get_yticklabels()]\n",
    "    ax.set_yticks(ax.get_yticks()) # Set the ticks first\n",
    "    ax.set_yticklabels(wrapped_labels)\n",
    "    ax.set_ylim(bottom=0)\n",
    "\n",
    "    plt.tight_layout()\n",
    "    plt.show()"
   ]
  },
  {
   "cell_type": "code",
   "execution_count": 152,
   "metadata": {},
   "outputs": [],
   "source": [
    "def run_subplots_graph(data, x_data, axis_label, suptitle, xticks):\n",
    "    \"\"\"\n",
    "    Create a separate line chart for each value, ensuring that they do not overlap and making the trend of each value \n",
    "    \"\"\"\n",
    "    custom_palette = {\n",
    "        'EXITED': '#D2042D',  \n",
    "        'ENTERED': '#008000'  \n",
    "    }\n",
    "\n",
    "    # Plotting the data\n",
    "    g = snsv.relplot(\n",
    "        data=data, \n",
    "        x=x_data, \n",
    "        y='msPlayed', \n",
    "        col='facet_title', \n",
    "        hue='classification', \n",
    "        palette=custom_palette,        \n",
    "        kind='line',         \n",
    "        marker='o',\n",
    "        col_wrap=1,         # Display one graphic per row to optimize space.\n",
    "        height=3,           # The height of each subplot.\n",
    "        aspect=3,        \n",
    "    )\n",
    "\n",
    "    # Adjust the titles and labels for clarity.\n",
    "    g.set_axis_labels(axis_label, \"MsPlayed\")\n",
    "    g.set_titles(\"{col_name}\") \n",
    "    plt.suptitle(suptitle, y=1.02, fontsize=16)\n",
    "\n",
    "    # Set up the X-axis for each subchart.\n",
    "    for ax in g.axes.flat:\n",
    "        # Make sure that the ticks represent complete week numbers.\n",
    "        ax.set_xticks(sorted(xticks.unique()))\n",
    "        ax.tick_params(axis='x', rotation=45) \n",
    "\n",
    "    g._legend.remove() \n",
    "\n",
    "    plt.tight_layout(rect=[0, 0, 1, 0.98]) \n",
    "    plt.show()"
   ]
  },
  {
   "cell_type": "markdown",
   "metadata": {
    "id": "lbFuESshThlN"
   },
   "source": [
    "#### **The Most Listened-to Artists Overall (measured in msPlayed).**"
   ]
  },
  {
   "cell_type": "code",
   "execution_count": 138,
   "metadata": {
    "colab": {
     "base_uri": "https://localhost:8080/",
     "height": 260
    },
    "id": "FOBhw1XcTe3m",
    "outputId": "627b5eff-7e50-4e8d-ecff-9b2ee4f84369"
   },
   "outputs": [
    {
     "name": "stdout",
     "output_type": "stream",
     "text": [
      "\n",
      "#### Top most-listened artists overall: ####\n",
      "\n"
     ]
    },
    {
     "data": {
      "text/html": [
       "<div>\n",
       "<style scoped>\n",
       "    .dataframe tbody tr th:only-of-type {\n",
       "        vertical-align: middle;\n",
       "    }\n",
       "\n",
       "    .dataframe tbody tr th {\n",
       "        vertical-align: top;\n",
       "    }\n",
       "\n",
       "    .dataframe thead th {\n",
       "        text-align: right;\n",
       "    }\n",
       "</style>\n",
       "<table border=\"1\" class=\"dataframe\">\n",
       "  <thead>\n",
       "    <tr style=\"text-align: right;\">\n",
       "      <th></th>\n",
       "      <th>artistName</th>\n",
       "      <th>msPlayed</th>\n",
       "    </tr>\n",
       "  </thead>\n",
       "  <tbody>\n",
       "    <tr>\n",
       "      <td>0</td>\n",
       "      <td>The Beatles</td>\n",
       "      <td>328495363</td>\n",
       "    </tr>\n",
       "    <tr>\n",
       "      <td>1</td>\n",
       "      <td>Thee Michelle Gun Elephant</td>\n",
       "      <td>91063035</td>\n",
       "    </tr>\n",
       "    <tr>\n",
       "      <td>2</td>\n",
       "      <td>Patricio Rey y sus Redonditos de Ricota</td>\n",
       "      <td>83118557</td>\n",
       "    </tr>\n",
       "    <tr>\n",
       "      <td>3</td>\n",
       "      <td>Radiohead</td>\n",
       "      <td>56969054</td>\n",
       "    </tr>\n",
       "    <tr>\n",
       "      <td>4</td>\n",
       "      <td>The Smiths</td>\n",
       "      <td>55725821</td>\n",
       "    </tr>\n",
       "  </tbody>\n",
       "</table>\n",
       "</div>"
      ],
      "text/plain": [
       "                                artistName   msPlayed\n",
       "0                              The Beatles  328495363\n",
       "1               Thee Michelle Gun Elephant   91063035\n",
       "2  Patricio Rey y sus Redonditos de Ricota   83118557\n",
       "3                                Radiohead   56969054\n",
       "4                               The Smiths   55725821"
      ]
     },
     "metadata": {},
     "output_type": "display_data"
    }
   ],
   "source": [
    "top_artists = df.groupby(['artistName']).agg(msPlayed=('msPlayed', 'sum')).reset_index()\n",
    "top_artists = top_artists.sort_values(ascending=False, by=\"msPlayed\").reset_index(drop=True).head(5)\n",
    "\n",
    "print(\"\\n#### Top most-listened artists overall: ####\\n\")\n",
    "display(top_artists)"
   ]
  },
  {
   "cell_type": "markdown",
   "metadata": {
    "id": "GZpx6-yyLZVI"
   },
   "source": [
    "#### **Percentage Of Time Spent Listening To The Top Artists**"
   ]
  },
  {
   "cell_type": "code",
   "execution_count": 139,
   "metadata": {
    "colab": {
     "base_uri": "https://localhost:8080/",
     "height": 260
    },
    "id": "l_xOVR6uD0Ag",
    "outputId": "c721eecf-45e8-4169-8394-2f9c17f9eab1"
   },
   "outputs": [
    {
     "name": "stdout",
     "output_type": "stream",
     "text": [
      "\n",
      "#### Percentage of time spent listening to the top artists: ####\n",
      "\n"
     ]
    },
    {
     "data": {
      "text/html": [
       "<div>\n",
       "<style scoped>\n",
       "    .dataframe tbody tr th:only-of-type {\n",
       "        vertical-align: middle;\n",
       "    }\n",
       "\n",
       "    .dataframe tbody tr th {\n",
       "        vertical-align: top;\n",
       "    }\n",
       "\n",
       "    .dataframe thead th {\n",
       "        text-align: right;\n",
       "    }\n",
       "</style>\n",
       "<table border=\"1\" class=\"dataframe\">\n",
       "  <thead>\n",
       "    <tr style=\"text-align: right;\">\n",
       "      <th></th>\n",
       "      <th>artistName</th>\n",
       "      <th>msPlayed</th>\n",
       "      <th>percentage_of_time_listening</th>\n",
       "    </tr>\n",
       "  </thead>\n",
       "  <tbody>\n",
       "    <tr>\n",
       "      <td>0</td>\n",
       "      <td>The Beatles</td>\n",
       "      <td>328495363</td>\n",
       "      <td>13.29</td>\n",
       "    </tr>\n",
       "    <tr>\n",
       "      <td>1</td>\n",
       "      <td>Thee Michelle Gun Elephant</td>\n",
       "      <td>91063035</td>\n",
       "      <td>3.68</td>\n",
       "    </tr>\n",
       "    <tr>\n",
       "      <td>2</td>\n",
       "      <td>Patricio Rey y sus Redonditos de Ricota</td>\n",
       "      <td>83118557</td>\n",
       "      <td>3.36</td>\n",
       "    </tr>\n",
       "    <tr>\n",
       "      <td>3</td>\n",
       "      <td>Radiohead</td>\n",
       "      <td>56969054</td>\n",
       "      <td>2.30</td>\n",
       "    </tr>\n",
       "    <tr>\n",
       "      <td>4</td>\n",
       "      <td>The Smiths</td>\n",
       "      <td>55725821</td>\n",
       "      <td>2.25</td>\n",
       "    </tr>\n",
       "  </tbody>\n",
       "</table>\n",
       "</div>"
      ],
      "text/plain": [
       "                                artistName   msPlayed  \\\n",
       "0                              The Beatles  328495363   \n",
       "1               Thee Michelle Gun Elephant   91063035   \n",
       "2  Patricio Rey y sus Redonditos de Ricota   83118557   \n",
       "3                                Radiohead   56969054   \n",
       "4                               The Smiths   55725821   \n",
       "\n",
       "   percentage_of_time_listening  \n",
       "0                         13.29  \n",
       "1                          3.68  \n",
       "2                          3.36  \n",
       "3                          2.30  \n",
       "4                          2.25  "
      ]
     },
     "metadata": {},
     "output_type": "display_data"
    }
   ],
   "source": [
    "total_msPlayed = df['msPlayed'].sum()\n",
    "\n",
    "pct_time_top_artists = top_artists\n",
    "\n",
    "pct_time_top_artists['percentage_of_time_listening'] = round((top_artists[\"msPlayed\"] / total_msPlayed) * 100, 2)\n",
    "\n",
    "print(\"\\n#### Percentage of time spent listening to the top artists: ####\\n\")\n",
    "display(pct_time_top_artists)"
   ]
  },
  {
   "cell_type": "markdown",
   "metadata": {
    "id": "jJWGlmk3uZXo"
   },
   "source": [
    "#### **📈 Visualization: Most-Listened Artists Overall**"
   ]
  },
  {
   "cell_type": "code",
   "execution_count": 140,
   "metadata": {
    "colab": {
     "base_uri": "https://localhost:8080/",
     "height": 407
    },
    "id": "u5K0jTrxuRcT",
    "outputId": "b892fdb6-bb43-4200-bbbb-165b3fdfa896"
   },
   "outputs": [
    {
     "data": {
      "image/png": "[encoded data removed]",
      "text/plain": [
       "<Figure size 720x288 with 1 Axes>"
      ]
     },
     "metadata": {
      "needs_background": "light"
     },
     "output_type": "display_data"
    }
   ],
   "source": [
    "## Graph of the Most-Listened Artists ##\n",
    "plt.figure(figsize=(10, 4))\n",
    "ax = snsv.barplot(x='msPlayed', y='artistName', data=top_artists, color='#4c72b0')\n",
    "plt.title('Top Most-Listened Artists Overall')\n",
    "plt.xlabel('Total Play Time (ms)')\n",
    "plt.ylabel('Artist Name')\n",
    "\n",
    "# # Wrap the y-axis labels\n",
    "wrapped_labels = [textwrap.fill(label.get_text(), width=20) for label in ax.get_yticklabels()]\n",
    "ax.set_yticks(ax.get_yticks()) # Set the ticks first\n",
    "ax.set_yticklabels(wrapped_labels)\n",
    "\n",
    "ax.set_ylim(top=-0.5, bottom=len(top_artists) - 0.5)\n",
    "\n",
    "plt.tight_layout()\n",
    "plt.show()"
   ]
  },
  {
   "cell_type": "markdown",
   "metadata": {
    "id": "wVQPfEVfgLvN"
   },
   "source": [
    "### **Performance Of The Most Listened-to Artists Monthly.**"
   ]
  },
  {
   "cell_type": "code",
   "execution_count": 141,
   "metadata": {
    "colab": {
     "base_uri": "https://localhost:8080/",
     "height": 260
    },
    "id": "zXMZie3NUMrj",
    "outputId": "3a85661b-e2d6-4727-ab4c-e4e1c6fc3a90"
   },
   "outputs": [
    {
     "name": "stdout",
     "output_type": "stream",
     "text": [
      "\n",
      "#### Performance of the top-most listened artists overall in the first month: ####\n",
      "\n"
     ]
    },
    {
     "data": {
      "text/html": [
       "<div>\n",
       "<style scoped>\n",
       "    .dataframe tbody tr th:only-of-type {\n",
       "        vertical-align: middle;\n",
       "    }\n",
       "\n",
       "    .dataframe tbody tr th {\n",
       "        vertical-align: top;\n",
       "    }\n",
       "\n",
       "    .dataframe thead th {\n",
       "        text-align: right;\n",
       "    }\n",
       "</style>\n",
       "<table border=\"1\" class=\"dataframe\">\n",
       "  <thead>\n",
       "    <tr style=\"text-align: right;\">\n",
       "      <th></th>\n",
       "      <th>month</th>\n",
       "      <th>artistName</th>\n",
       "      <th>msPlayed</th>\n",
       "    </tr>\n",
       "  </thead>\n",
       "  <tbody>\n",
       "    <tr>\n",
       "      <td>516</td>\n",
       "      <td>1</td>\n",
       "      <td>Patricio Rey y sus Redonditos de Ricota</td>\n",
       "      <td>32353675</td>\n",
       "    </tr>\n",
       "    <tr>\n",
       "      <td>551</td>\n",
       "      <td>1</td>\n",
       "      <td>Radiohead</td>\n",
       "      <td>944091</td>\n",
       "    </tr>\n",
       "    <tr>\n",
       "      <td>663</td>\n",
       "      <td>1</td>\n",
       "      <td>The Beatles</td>\n",
       "      <td>2759773</td>\n",
       "    </tr>\n",
       "    <tr>\n",
       "      <td>691</td>\n",
       "      <td>1</td>\n",
       "      <td>The Smiths</td>\n",
       "      <td>4788639</td>\n",
       "    </tr>\n",
       "    <tr>\n",
       "      <td>701</td>\n",
       "      <td>1</td>\n",
       "      <td>Thee Michelle Gun Elephant</td>\n",
       "      <td>20961558</td>\n",
       "    </tr>\n",
       "  </tbody>\n",
       "</table>\n",
       "</div>"
      ],
      "text/plain": [
       "     month                               artistName  msPlayed\n",
       "516      1  Patricio Rey y sus Redonditos de Ricota  32353675\n",
       "551      1                                Radiohead    944091\n",
       "663      1                              The Beatles   2759773\n",
       "691      1                               The Smiths   4788639\n",
       "701      1               Thee Michelle Gun Elephant  20961558"
      ]
     },
     "metadata": {},
     "output_type": "display_data"
    }
   ],
   "source": [
    "# 1. Calculate the total listening time for all artists and get the top\n",
    "top_artists_list = df.groupby('artistName')['msPlayed'].sum().nlargest(5).index\n",
    "\n",
    "# 2. Filter the monthly charts using this list of top artists\n",
    "monthly_charts = df.groupby(['month', 'artistName']).agg(msPlayed=('msPlayed', 'sum')).reset_index()\n",
    "\n",
    "top_artists_recorded = monthly_charts[monthly_charts['artistName'].isin(top_artists_list)]\n",
    "\n",
    "print(\"\\n#### Performance of the top-most listened artists overall in the first month: ####\\n\")\n",
    "display(top_artists_recorded.head())"
   ]
  },
  {
   "cell_type": "markdown",
   "metadata": {
    "id": "sacu2tN9usC8"
   },
   "source": [
    "#### **📈 Visualization: Performance Of The Most Listened-to Artists Overall Per Month.**"
   ]
  },
  {
   "cell_type": "code",
   "execution_count": 165,
   "metadata": {
    "colab": {
     "base_uri": "https://localhost:8080/",
     "height": 407
    },
    "id": "EUlLZTtVuqH5",
    "outputId": "f9e6eea7-369e-4e42-fe41-4f033837b7de"
   },
   "outputs": [
    {
     "data": {
      "image/png": "[encoded data removed]",
      "text/plain": [
       "<Figure size 864x360 with 1 Axes>"
      ]
     },
     "metadata": {
      "needs_background": "light"
     },
     "output_type": "display_data"
    }
   ],
   "source": [
    "## Graph of the Most-Listened Artists per month ##\n",
    "\n",
    "run_line_graph(\n",
    "    data = top_artists_recorded,\n",
    "    x = 'month',\n",
    "    hue_data = 'artistName',\n",
    "    data_title = 'Performance Of The Most Listened Artists Over Time.',\n",
    "    xlabel = \"Months\",\n",
    "    time = top_artists_recorded['month']\n",
    ")\n"
   ]
  },
  {
   "cell_type": "markdown",
   "metadata": {
    "id": "iNnyBnhdCp4V"
   },
   "source": [
    "#### **What Were The Top Artists For Each Month?**"
   ]
  },
  {
   "cell_type": "code",
   "execution_count": 143,
   "metadata": {},
   "outputs": [],
   "source": [
    "# Group by week and artist to get total count per artist per week\n",
    "agg_artists_monthly = df.groupby(['month', 'artistName']).agg(msPlayed=('msPlayed', 'sum')).reset_index()\n",
    "\n",
    "# Find the top artists by total count for each week\n",
    "top_artists_per_month = agg_artists_monthly.groupby('month', group_keys=False).apply(lambda x: x.nlargest(5, 'msPlayed')).reset_index(drop=True)\n",
    "\n",
    "# for month, group in top_artists_per_month.groupby('month'):\n",
    "#     print(f\"\\n#### Top most-listened artists in month {month}: ####\\n\")\n",
    "#     print(group)"
   ]
  },
  {
   "cell_type": "markdown",
   "metadata": {
    "id": "Gd6y_T3IG25A"
   },
   "source": [
    "#### **How Many Times The Most Listened-to Artists Appeared In The Top Weekly Lists?**"
   ]
  },
  {
   "cell_type": "code",
   "execution_count": 144,
   "metadata": {},
   "outputs": [
    {
     "name": "stdout",
     "output_type": "stream",
     "text": [
      "\n",
      "#### Times the most listened-to artists appeared in the top monthly lists: ####\n",
      "\n"
     ]
    },
    {
     "data": {
      "text/html": [
       "<div>\n",
       "<style scoped>\n",
       "    .dataframe tbody tr th:only-of-type {\n",
       "        vertical-align: middle;\n",
       "    }\n",
       "\n",
       "    .dataframe tbody tr th {\n",
       "        vertical-align: top;\n",
       "    }\n",
       "\n",
       "    .dataframe thead th {\n",
       "        text-align: right;\n",
       "    }\n",
       "</style>\n",
       "<table border=\"1\" class=\"dataframe\">\n",
       "  <thead>\n",
       "    <tr style=\"text-align: right;\">\n",
       "      <th></th>\n",
       "      <th>artistName</th>\n",
       "      <th>msPlayed</th>\n",
       "      <th>count</th>\n",
       "      <th>percentage_of_months_in_top</th>\n",
       "    </tr>\n",
       "  </thead>\n",
       "  <tbody>\n",
       "    <tr>\n",
       "      <td>0</td>\n",
       "      <td>The Beatles</td>\n",
       "      <td>314861993</td>\n",
       "      <td>6</td>\n",
       "      <td>66.67</td>\n",
       "    </tr>\n",
       "    <tr>\n",
       "      <td>1</td>\n",
       "      <td>Thee Michelle Gun Elephant</td>\n",
       "      <td>77779598</td>\n",
       "      <td>5</td>\n",
       "      <td>55.56</td>\n",
       "    </tr>\n",
       "    <tr>\n",
       "      <td>2</td>\n",
       "      <td>Radiohead</td>\n",
       "      <td>43928736</td>\n",
       "      <td>4</td>\n",
       "      <td>44.44</td>\n",
       "    </tr>\n",
       "    <tr>\n",
       "      <td>3</td>\n",
       "      <td>The Smiths</td>\n",
       "      <td>34429534</td>\n",
       "      <td>4</td>\n",
       "      <td>44.44</td>\n",
       "    </tr>\n",
       "    <tr>\n",
       "      <td>4</td>\n",
       "      <td>Patricio Rey y sus Redonditos de Ricota</td>\n",
       "      <td>66376090</td>\n",
       "      <td>3</td>\n",
       "      <td>33.33</td>\n",
       "    </tr>\n",
       "  </tbody>\n",
       "</table>\n",
       "</div>"
      ],
      "text/plain": [
       "                                artistName   msPlayed  count  \\\n",
       "0                              The Beatles  314861993      6   \n",
       "1               Thee Michelle Gun Elephant   77779598      5   \n",
       "2                                Radiohead   43928736      4   \n",
       "3                               The Smiths   34429534      4   \n",
       "4  Patricio Rey y sus Redonditos de Ricota   66376090      3   \n",
       "\n",
       "   percentage_of_months_in_top  \n",
       "0                        66.67  \n",
       "1                        55.56  \n",
       "2                        44.44  \n",
       "3                        44.44  \n",
       "4                        33.33  "
      ]
     },
     "metadata": {},
     "output_type": "display_data"
    }
   ],
   "source": [
    "top_artists_in_monthly_charts = top_artists_per_month[top_artists_per_month['artistName'].isin(top_artists['artistName'])]\n",
    "\n",
    "top_artists_in_monthly_charts = top_artists_in_monthly_charts.groupby('artistName').agg(\n",
    "    msPlayed=('msPlayed', 'sum'),\n",
    "    count=('month', 'size') \n",
    ").sort_values(by=['count', 'msPlayed'], ascending=[False, False]).reset_index()\n",
    "\n",
    "total_months = len(df['month'].unique())\n",
    "top_artists_in_monthly_charts['percentage_of_months_in_top'] = round((top_artists_in_monthly_charts[\"count\"] / total_months) * 100, 2)\n",
    "\n",
    "print(\"\\n#### Times the most listened-to artists appeared in the top monthly lists: ####\\n\")\n",
    "display(top_artists_in_monthly_charts)"
   ]
  },
  {
   "cell_type": "markdown",
   "metadata": {
    "id": "NgEBK8bsKAoR"
   },
   "source": [
    "#### **Who Were The Most Listened-To Artists On The Weekly Charts?**"
   ]
  },
  {
   "cell_type": "code",
   "execution_count": 145,
   "metadata": {},
   "outputs": [
    {
     "name": "stdout",
     "output_type": "stream",
     "text": [
      "\n",
      "#### The most listened-to artists on the weekly charts: ####\n",
      "\n"
     ]
    },
    {
     "data": {
      "text/html": [
       "<div>\n",
       "<style scoped>\n",
       "    .dataframe tbody tr th:only-of-type {\n",
       "        vertical-align: middle;\n",
       "    }\n",
       "\n",
       "    .dataframe tbody tr th {\n",
       "        vertical-align: top;\n",
       "    }\n",
       "\n",
       "    .dataframe thead th {\n",
       "        text-align: right;\n",
       "    }\n",
       "</style>\n",
       "<table border=\"1\" class=\"dataframe\">\n",
       "  <thead>\n",
       "    <tr style=\"text-align: right;\">\n",
       "      <th></th>\n",
       "      <th>artistName</th>\n",
       "      <th>msPlayed</th>\n",
       "      <th>count</th>\n",
       "      <th>percentage_of_weeks_in_top</th>\n",
       "    </tr>\n",
       "  </thead>\n",
       "  <tbody>\n",
       "    <tr>\n",
       "      <td>0</td>\n",
       "      <td>The Beatles</td>\n",
       "      <td>314861993</td>\n",
       "      <td>6</td>\n",
       "      <td>66.67</td>\n",
       "    </tr>\n",
       "    <tr>\n",
       "      <td>1</td>\n",
       "      <td>Thee Michelle Gun Elephant</td>\n",
       "      <td>77779598</td>\n",
       "      <td>5</td>\n",
       "      <td>55.56</td>\n",
       "    </tr>\n",
       "    <tr>\n",
       "      <td>2</td>\n",
       "      <td>Radiohead</td>\n",
       "      <td>43928736</td>\n",
       "      <td>4</td>\n",
       "      <td>44.44</td>\n",
       "    </tr>\n",
       "    <tr>\n",
       "      <td>3</td>\n",
       "      <td>David Bowie</td>\n",
       "      <td>37490194</td>\n",
       "      <td>4</td>\n",
       "      <td>44.44</td>\n",
       "    </tr>\n",
       "    <tr>\n",
       "      <td>4</td>\n",
       "      <td>The Smiths</td>\n",
       "      <td>34429534</td>\n",
       "      <td>4</td>\n",
       "      <td>44.44</td>\n",
       "    </tr>\n",
       "  </tbody>\n",
       "</table>\n",
       "</div>"
      ],
      "text/plain": [
       "                   artistName   msPlayed  count  percentage_of_weeks_in_top\n",
       "0                 The Beatles  314861993      6                       66.67\n",
       "1  Thee Michelle Gun Elephant   77779598      5                       55.56\n",
       "2                   Radiohead   43928736      4                       44.44\n",
       "3                 David Bowie   37490194      4                       44.44\n",
       "4                  The Smiths   34429534      4                       44.44"
      ]
     },
     "metadata": {},
     "output_type": "display_data"
    }
   ],
   "source": [
    "top_artists_from_monthly_charts = top_artists_per_month.groupby(['artistName',]).agg(\n",
    "    msPlayed=('msPlayed', 'sum'),\n",
    "    count=('month', 'size') \n",
    ").sort_values(by=['count', 'msPlayed'], ascending=[False, False]).reset_index()\n",
    "\n",
    "top_artists_from_monthly_charts = top_artists_from_monthly_charts.nlargest(5, 'count').reset_index(drop=True)\n",
    "top_artists_from_monthly_charts['percentage_of_weeks_in_top'] = round((top_artists_from_monthly_charts[\"count\"] / total_months) * 100, 2)\n",
    "\n",
    "print(\"\\n#### The most listened-to artists on the weekly charts: ####\\n\")\n",
    "display(top_artists_from_monthly_charts)"
   ]
  },
  {
   "cell_type": "markdown",
   "metadata": {},
   "source": [
    "#### 📈 Visualization: Performance of the most-listened artists by top monthly over time."
   ]
  },
  {
   "cell_type": "code",
   "execution_count": 162,
   "metadata": {},
   "outputs": [
    {
     "data": {
      "image/png": "[encoded data removed]",
      "text/plain": [
       "<Figure size 864x360 with 1 Axes>"
      ]
     },
     "metadata": {
      "needs_background": "light"
     },
     "output_type": "display_data"
    }
   ],
   "source": [
    "res = top_artists_per_month[top_artists_per_month[\"artistName\"].isin(top_artists_from_monthly_charts[\"artistName\"])]\n",
    "\n",
    "run_line_graph(\n",
    "    data = res,\n",
    "    x = 'month',\n",
    "    hue_data = 'artistName',\n",
    "    data_title = 'Performance Of The Most Llistened Artists By Top Monthly Over Time.',\n",
    "    xlabel = \"Months\",\n",
    "    time = res['month']\n",
    ")\n"
   ]
  },
  {
   "cell_type": "markdown",
   "metadata": {
    "id": "6q00VVjJcuGV"
   },
   "source": [
    "#### **Differences Between The Top Artists By Listening Time and Weekly Charts.**"
   ]
  },
  {
   "cell_type": "code",
   "execution_count": 105,
   "metadata": {},
   "outputs": [
    {
     "name": "stdout",
     "output_type": "stream",
     "text": [
      "\n",
      "#### Artists that EXITED (Penalized for monthly Volatility): ['Patricio Rey y sus Redonditos de Ricota'] ####\n",
      "\n",
      "\n",
      "#### Artists that ENTERED (Rewarded for monthly Consistency): ['David Bowie'] ####\n",
      "\n"
     ]
    }
   ],
   "source": [
    "# Identify Entrants and Exits\n",
    "\n",
    "# Artists that EXIT: Were in the Top by Listening Time, but fell out after the consistency weekly.\n",
    "artists_exit = list(set(top_artists['artistName']) - set(top_artists_from_monthly_charts['artistName']))\n",
    "\n",
    "# Artists that ENTER: Were outside the Top by Listening Time, but were boosted into the Top by consistency weekly.\n",
    "artists_enter = list(set(top_artists_from_monthly_charts['artistName']) - set(top_artists['artistName']))\n",
    "\n",
    "print(f\"\\n#### Artists that EXITED (Penalized for monthly Volatility): {artists_exit} ####\\n\")\n",
    "print(f\"\\n#### Artists that ENTERED (Rewarded for monthly Consistency): {artists_enter} ####\\n\")"
   ]
  },
  {
   "cell_type": "markdown",
   "metadata": {},
   "source": [
    "#### **📈 Visualization:** Artists Who Entered And Exited The Top After Using Monthly Charts."
   ]
  },
  {
   "cell_type": "markdown",
   "metadata": {},
   "source": [
    "**1. Data Structuring for Plotting**\n",
    "\n",
    "Create a temporary DataFrame containing only the moving artists and assign them a status label for color-coding the chart."
   ]
  },
  {
   "cell_type": "code",
   "execution_count": 106,
   "metadata": {},
   "outputs": [],
   "source": [
    "artists_to_plot = artists_exit + artists_enter\n",
    "\n",
    "top_artists_monthly_recorded = agg_artists_monthly[agg_artists_monthly[\"artistName\"].isin(artists_to_plot)]"
   ]
  },
  {
   "cell_type": "markdown",
   "metadata": {},
   "source": [
    "#### **2. Generating the Line Chart**\n",
    "Use a line chart to clearly contrast the penalized and rewarded artists based on weekly lists."
   ]
  },
  {
   "cell_type": "code",
   "execution_count": 107,
   "metadata": {},
   "outputs": [
    {
     "name": "stderr",
     "output_type": "stream",
     "text": [
      "C:\\Users\\G3rrido\\Anaconda3\\lib\\site-packages\\ipykernel_launcher.py:9: SettingWithCopyWarning: \n",
      "A value is trying to be set on a copy of a slice from a DataFrame.\n",
      "Try using .loc[row_indexer,col_indexer] = value instead\n",
      "\n",
      "See the caveats in the documentation: http://pandas.pydata.org/pandas-docs/stable/user_guide/indexing.html#returning-a-view-versus-a-copy\n",
      "  if __name__ == '__main__':\n",
      "C:\\Users\\G3rrido\\Anaconda3\\lib\\site-packages\\ipykernel_launcher.py:16: SettingWithCopyWarning: \n",
      "A value is trying to be set on a copy of a slice from a DataFrame.\n",
      "Try using .loc[row_indexer,col_indexer] = value instead\n",
      "\n",
      "See the caveats in the documentation: http://pandas.pydata.org/pandas-docs/stable/user_guide/indexing.html#returning-a-view-versus-a-copy\n",
      "  app.launch_new_instance()\n"
     ]
    },
    {
     "data": {
      "image/png": "[encoded data removed]",
      "text/plain": [
       "<Figure size 749.125x432 with 2 Axes>"
      ]
     },
     "metadata": {
      "needs_background": "light"
     },
     "output_type": "display_data"
    }
   ],
   "source": [
    "# Create a helper column to indicate the status (EXITED/ENTERED) for sorting purposes.\n",
    "def get_classification(artist):\n",
    "    if artist in artists_exit:  \n",
    "        return \"EXITED\"\n",
    "    elif artist in artists_enter:  \n",
    "        return \"ENTERED\"\n",
    "    return \"N/A\"\n",
    "\n",
    "top_artists_monthly_recorded['classification'] = top_artists_monthly_recorded['artistName'].apply(get_classification)\n",
    "\n",
    "# Add a column for the facet_title \n",
    "top_artists_monthly_recorded['facet_title'] = (\n",
    "    top_artists_monthly_recorded['artistName'].astype(str) + \n",
    "    ': ' + \n",
    "    top_artists_monthly_recorded['classification'] + \n",
    "    top_artists_monthly_recorded['classification'].apply(lambda x: ' (Penalized by Volatility)' if x == 'EXITED' else ' (Rewarded for Consistency)')\n",
    ")\n",
    "\n",
    "run_subplots_graph(\n",
    "    data = top_artists_monthly_recorded, \n",
    "    x_data = 'month', \n",
    "    axis_label = \"Months\", \n",
    "    suptitle = \"Artists Who Entered And Exited The Top After Using Monthly Charts.\", \n",
    "    xticks = top_artists_monthly_recorded['month']\n",
    ")"
   ]
  },
  {
   "cell_type": "markdown",
   "metadata": {
    "id": "myxs707azAas"
   },
   "source": [
    "#### **The Most Listened-to Tracks Overall (measured in msPlayed).**"
   ]
  },
  {
   "cell_type": "code",
   "execution_count": 108,
   "metadata": {
    "colab": {
     "base_uri": "https://localhost:8080/",
     "height": 260
    },
    "id": "_Hvga50Py3oG",
    "outputId": "38783163-6294-45cd-9506-976675800466"
   },
   "outputs": [
    {
     "name": "stdout",
     "output_type": "stream",
     "text": [
      "\n",
      "#### Top most-listened tracks overall: ####\n",
      "\n"
     ]
    },
    {
     "data": {
      "text/html": [
       "<div>\n",
       "<style scoped>\n",
       "    .dataframe tbody tr th:only-of-type {\n",
       "        vertical-align: middle;\n",
       "    }\n",
       "\n",
       "    .dataframe tbody tr th {\n",
       "        vertical-align: top;\n",
       "    }\n",
       "\n",
       "    .dataframe thead th {\n",
       "        text-align: right;\n",
       "    }\n",
       "</style>\n",
       "<table border=\"1\" class=\"dataframe\">\n",
       "  <thead>\n",
       "    <tr style=\"text-align: right;\">\n",
       "      <th></th>\n",
       "      <th>artistName</th>\n",
       "      <th>trackName</th>\n",
       "      <th>msPlayed</th>\n",
       "    </tr>\n",
       "  </thead>\n",
       "  <tbody>\n",
       "    <tr>\n",
       "      <td>0</td>\n",
       "      <td>The Smiths</td>\n",
       "      <td>This Charming Man - 2011 Remaster</td>\n",
       "      <td>11196482</td>\n",
       "    </tr>\n",
       "    <tr>\n",
       "      <td>1</td>\n",
       "      <td>Soda Stereo</td>\n",
       "      <td>Sueles Dejarme Solo - Remasterizado 2007</td>\n",
       "      <td>9782937</td>\n",
       "    </tr>\n",
       "    <tr>\n",
       "      <td>2</td>\n",
       "      <td>Oasis</td>\n",
       "      <td>Supersonic - Remastered</td>\n",
       "      <td>9764319</td>\n",
       "    </tr>\n",
       "    <tr>\n",
       "      <td>3</td>\n",
       "      <td>Los Fundamentalistas del Aire Acondicionado</td>\n",
       "      <td>Mi Genio Amor - En Vivo</td>\n",
       "      <td>9449722</td>\n",
       "    </tr>\n",
       "    <tr>\n",
       "      <td>4</td>\n",
       "      <td>The Beatles</td>\n",
       "      <td>Hey Jude - Remastered 2015</td>\n",
       "      <td>8385826</td>\n",
       "    </tr>\n",
       "  </tbody>\n",
       "</table>\n",
       "</div>"
      ],
      "text/plain": [
       "                                    artistName  \\\n",
       "0                                   The Smiths   \n",
       "1                                  Soda Stereo   \n",
       "2                                        Oasis   \n",
       "3  Los Fundamentalistas del Aire Acondicionado   \n",
       "4                                  The Beatles   \n",
       "\n",
       "                                  trackName  msPlayed  \n",
       "0         This Charming Man - 2011 Remaster  11196482  \n",
       "1  Sueles Dejarme Solo - Remasterizado 2007   9782937  \n",
       "2                   Supersonic - Remastered   9764319  \n",
       "3                   Mi Genio Amor - En Vivo   9449722  \n",
       "4                Hey Jude - Remastered 2015   8385826  "
      ]
     },
     "metadata": {},
     "output_type": "display_data"
    }
   ],
   "source": [
    "top_tracks = df.groupby(['artistName',\"trackName\"]).agg(msPlayed=('msPlayed', 'sum')).reset_index()\n",
    "top_tracks = top_tracks.sort_values(ascending=False, by=\"msPlayed\").reset_index(drop=True).head(5)\n",
    "\n",
    "print(\"\\n#### Top most-listened tracks overall: ####\\n\")\n",
    "display(top_tracks)"
   ]
  },
  {
   "cell_type": "markdown",
   "metadata": {
    "id": "zYTWJPoTzSbN"
   },
   "source": [
    "#### **📈 Visualization: Most-Listened Tracks Overall**"
   ]
  },
  {
   "cell_type": "code",
   "execution_count": 109,
   "metadata": {
    "colab": {
     "base_uri": "https://localhost:8080/",
     "height": 407
    },
    "id": "rS3L7gHTzTJY",
    "outputId": "e9a77782-bfa3-4ade-c0ee-2280a740d64d"
   },
   "outputs": [
    {
     "data": {
      "image/png": "[encoded data removed]",
      "text/plain": [
       "<Figure size 864x288 with 1 Axes>"
      ]
     },
     "metadata": {
      "needs_background": "light"
     },
     "output_type": "display_data"
    }
   ],
   "source": [
    "plt.figure(figsize=(12, 4))\n",
    "ax = snsv.barplot(x='msPlayed', y='trackName', data=top_tracks, color='#4c72b0')\n",
    "plt.title('Top Most-Listened Tracks')\n",
    "plt.xlabel('Total Play Time (ms)')\n",
    "plt.ylabel('Track Name')\n",
    "\n",
    "# Wrap the y-axis labels\n",
    "wrapped_labels = [textwrap.fill(label.get_text(), width=20) for label in ax.get_yticklabels()]\n",
    "ax.set_yticks(ax.get_yticks()) # Set the ticks first\n",
    "ax.set_yticklabels(wrapped_labels)\n",
    "\n",
    "ax.set_ylim(top=-0.5, bottom=len(top_tracks) - 0.5)\n",
    "\n",
    "plt.tight_layout()\n",
    "plt.show()"
   ]
  },
  {
   "cell_type": "markdown",
   "metadata": {
    "id": "8kTOdQDPUxUT"
   },
   "source": [
    "#### **Percentage Of Time Spent Listening To The Top Tracks**"
   ]
  },
  {
   "cell_type": "code",
   "execution_count": 110,
   "metadata": {
    "colab": {
     "base_uri": "https://localhost:8080/",
     "height": 260
    },
    "id": "wmABGQhCRX2i",
    "outputId": "c846a0ae-4f7a-4df5-a1e4-7dfadad06856"
   },
   "outputs": [
    {
     "name": "stdout",
     "output_type": "stream",
     "text": [
      "\n",
      "#### Percentage of time spent listening to the top tracks: ####\n",
      "\n"
     ]
    },
    {
     "data": {
      "text/html": [
       "<div>\n",
       "<style scoped>\n",
       "    .dataframe tbody tr th:only-of-type {\n",
       "        vertical-align: middle;\n",
       "    }\n",
       "\n",
       "    .dataframe tbody tr th {\n",
       "        vertical-align: top;\n",
       "    }\n",
       "\n",
       "    .dataframe thead th {\n",
       "        text-align: right;\n",
       "    }\n",
       "</style>\n",
       "<table border=\"1\" class=\"dataframe\">\n",
       "  <thead>\n",
       "    <tr style=\"text-align: right;\">\n",
       "      <th></th>\n",
       "      <th>artistName</th>\n",
       "      <th>trackName</th>\n",
       "      <th>msPlayed</th>\n",
       "      <th>percentage_of_time_listening</th>\n",
       "    </tr>\n",
       "  </thead>\n",
       "  <tbody>\n",
       "    <tr>\n",
       "      <td>0</td>\n",
       "      <td>The Smiths</td>\n",
       "      <td>This Charming Man - 2011 Remaster</td>\n",
       "      <td>11196482</td>\n",
       "      <td>0.45</td>\n",
       "    </tr>\n",
       "    <tr>\n",
       "      <td>1</td>\n",
       "      <td>Soda Stereo</td>\n",
       "      <td>Sueles Dejarme Solo - Remasterizado 2007</td>\n",
       "      <td>9782937</td>\n",
       "      <td>0.40</td>\n",
       "    </tr>\n",
       "    <tr>\n",
       "      <td>2</td>\n",
       "      <td>Oasis</td>\n",
       "      <td>Supersonic - Remastered</td>\n",
       "      <td>9764319</td>\n",
       "      <td>0.40</td>\n",
       "    </tr>\n",
       "    <tr>\n",
       "      <td>3</td>\n",
       "      <td>Los Fundamentalistas del Aire Acondicionado</td>\n",
       "      <td>Mi Genio Amor - En Vivo</td>\n",
       "      <td>9449722</td>\n",
       "      <td>0.38</td>\n",
       "    </tr>\n",
       "    <tr>\n",
       "      <td>4</td>\n",
       "      <td>The Beatles</td>\n",
       "      <td>Hey Jude - Remastered 2015</td>\n",
       "      <td>8385826</td>\n",
       "      <td>0.34</td>\n",
       "    </tr>\n",
       "  </tbody>\n",
       "</table>\n",
       "</div>"
      ],
      "text/plain": [
       "                                    artistName  \\\n",
       "0                                   The Smiths   \n",
       "1                                  Soda Stereo   \n",
       "2                                        Oasis   \n",
       "3  Los Fundamentalistas del Aire Acondicionado   \n",
       "4                                  The Beatles   \n",
       "\n",
       "                                  trackName  msPlayed  \\\n",
       "0         This Charming Man - 2011 Remaster  11196482   \n",
       "1  Sueles Dejarme Solo - Remasterizado 2007   9782937   \n",
       "2                   Supersonic - Remastered   9764319   \n",
       "3                   Mi Genio Amor - En Vivo   9449722   \n",
       "4                Hey Jude - Remastered 2015   8385826   \n",
       "\n",
       "   percentage_of_time_listening  \n",
       "0                          0.45  \n",
       "1                          0.40  \n",
       "2                          0.40  \n",
       "3                          0.38  \n",
       "4                          0.34  "
      ]
     },
     "metadata": {},
     "output_type": "display_data"
    }
   ],
   "source": [
    "total_msPlayed = df['msPlayed'].sum()\n",
    "\n",
    "pct_time_top_tracks = top_tracks\n",
    "\n",
    "pct_time_top_tracks['percentage_of_time_listening'] = round((top_tracks[\"msPlayed\"] / total_msPlayed) * 100, 2)\n",
    "\n",
    "print(\"\\n#### Percentage of time spent listening to the top tracks: ####\\n\")\n",
    "display(pct_time_top_tracks[['artistName',\"trackName\",\"msPlayed\",\"percentage_of_time_listening\"]])"
   ]
  },
  {
   "cell_type": "markdown",
   "metadata": {
    "id": "-yuJwnegxll6"
   },
   "source": [
    "### **Performance Of The Most Listened-to Tracks Weekly.**"
   ]
  },
  {
   "cell_type": "code",
   "execution_count": 111,
   "metadata": {
    "colab": {
     "base_uri": "https://localhost:8080/",
     "height": 260
    },
    "id": "ZoQudwKgUKLX",
    "outputId": "68597000-ba97-4853-b067-6bb4d105d488"
   },
   "outputs": [
    {
     "name": "stdout",
     "output_type": "stream",
     "text": [
      "\n",
      "#### Performance of the top-most listened tracks overall in the first week: ####\n",
      "\n"
     ]
    },
    {
     "data": {
      "text/html": [
       "<div>\n",
       "<style scoped>\n",
       "    .dataframe tbody tr th:only-of-type {\n",
       "        vertical-align: middle;\n",
       "    }\n",
       "\n",
       "    .dataframe tbody tr th {\n",
       "        vertical-align: top;\n",
       "    }\n",
       "\n",
       "    .dataframe thead th {\n",
       "        text-align: right;\n",
       "    }\n",
       "</style>\n",
       "<table border=\"1\" class=\"dataframe\">\n",
       "  <thead>\n",
       "    <tr style=\"text-align: right;\">\n",
       "      <th></th>\n",
       "      <th>week</th>\n",
       "      <th>artistName</th>\n",
       "      <th>trackName</th>\n",
       "      <th>msPlayed</th>\n",
       "    </tr>\n",
       "  </thead>\n",
       "  <tbody>\n",
       "    <tr>\n",
       "      <td>0</td>\n",
       "      <td>2025-01-06/2025-01-12</td>\n",
       "      <td>Oasis</td>\n",
       "      <td>Supersonic - Remastered</td>\n",
       "      <td>1363210</td>\n",
       "    </tr>\n",
       "    <tr>\n",
       "      <td>1</td>\n",
       "      <td>2025-01-06/2025-01-12</td>\n",
       "      <td>The Smiths</td>\n",
       "      <td>This Charming Man - 2011 Remaster</td>\n",
       "      <td>1302654</td>\n",
       "    </tr>\n",
       "    <tr>\n",
       "      <td>2</td>\n",
       "      <td>2025-01-06/2025-01-12</td>\n",
       "      <td>Soda Stereo</td>\n",
       "      <td>Sueles Dejarme Solo - Remasterizado 2007</td>\n",
       "      <td>2032</td>\n",
       "    </tr>\n",
       "    <tr>\n",
       "      <td>3</td>\n",
       "      <td>2025-01-13/2025-01-19</td>\n",
       "      <td>Soda Stereo</td>\n",
       "      <td>Sueles Dejarme Solo - Remasterizado 2007</td>\n",
       "      <td>861999</td>\n",
       "    </tr>\n",
       "    <tr>\n",
       "      <td>4</td>\n",
       "      <td>2025-01-13/2025-01-19</td>\n",
       "      <td>The Smiths</td>\n",
       "      <td>This Charming Man - 2011 Remaster</td>\n",
       "      <td>624326</td>\n",
       "    </tr>\n",
       "  </tbody>\n",
       "</table>\n",
       "</div>"
      ],
      "text/plain": [
       "                    week   artistName  \\\n",
       "0  2025-01-06/2025-01-12        Oasis   \n",
       "1  2025-01-06/2025-01-12   The Smiths   \n",
       "2  2025-01-06/2025-01-12  Soda Stereo   \n",
       "3  2025-01-13/2025-01-19  Soda Stereo   \n",
       "4  2025-01-13/2025-01-19   The Smiths   \n",
       "\n",
       "                                  trackName  msPlayed  \n",
       "0                   Supersonic - Remastered   1363210  \n",
       "1         This Charming Man - 2011 Remaster   1302654  \n",
       "2  Sueles Dejarme Solo - Remasterizado 2007      2032  \n",
       "3  Sueles Dejarme Solo - Remasterizado 2007    861999  \n",
       "4         This Charming Man - 2011 Remaster    624326  "
      ]
     },
     "metadata": {},
     "output_type": "display_data"
    }
   ],
   "source": [
    "# 1. Calculate the total listening time for all tracks and get the top\n",
    "top_tracks_list = df.groupby(['artistName', \"trackName\"])['msPlayed'].sum().nlargest(5).index\n",
    "\n",
    "# 3. Calculate the monthly charts\n",
    "weekly_charts = df.groupby(['week', 'artistName', \"trackName\"]).agg(msPlayed=('msPlayed', 'sum')).reset_index()\n",
    "\n",
    "top_tracks_recorded = weekly_charts[\n",
    "    weekly_charts.set_index(['artistName', 'trackName']).index.isin(top_tracks_list)\n",
    "].reset_index(drop=True)\n",
    "\n",
    "# 4. Sort the result for better visualization\n",
    "top_tracks_recorded = top_tracks_recorded.sort_values(by=['week', 'msPlayed', \"trackName\"], ascending=[True, False, True]).reset_index(drop=True)\n",
    "\n",
    "print(\"\\n#### Performance of the top-most listened tracks overall in the first week: ####\\n\")\n",
    "display(top_tracks_recorded.head())"
   ]
  },
  {
   "cell_type": "markdown",
   "metadata": {
    "id": "EnouL07_vf7r"
   },
   "source": [
    "#### **📈 Visualization: Performance Of The Most Listened-to Tracks Monthly.**"
   ]
  },
  {
   "cell_type": "code",
   "execution_count": 167,
   "metadata": {
    "colab": {
     "base_uri": "https://localhost:8080/",
     "height": 407
    },
    "id": "heXacJ4Dvzm8",
    "outputId": "3ab149d4-ea75-4b0a-f346-1f65fcdadc12"
   },
   "outputs": [
    {
     "data": {
      "image/png": "[encoded data removed]",
      "text/plain": [
       "<Figure size 864x360 with 1 Axes>"
      ]
     },
     "metadata": {
      "needs_background": "light"
     },
     "output_type": "display_data"
    },
    {
     "data": {
      "image/png": "[encoded data removed]",
      "text/plain": [
       "<Figure size 864x360 with 1 Axes>"
      ]
     },
     "metadata": {
      "needs_background": "light"
     },
     "output_type": "display_data"
    },
    {
     "data": {
      "image/png": "[encoded data removed]",
      "text/plain": [
       "<Figure size 864x360 with 1 Axes>"
      ]
     },
     "metadata": {
      "needs_background": "light"
     },
     "output_type": "display_data"
    },
    {
     "data": {
      "image/png": "[encoded data removed]",
      "text/plain": [
       "<Figure size 864x360 with 1 Axes>"
      ]
     },
     "metadata": {
      "needs_background": "light"
     },
     "output_type": "display_data"
    },
    {
     "data": {
      "image/png": "[encoded data removed]",
      "text/plain": [
       "<Figure size 864x360 with 1 Axes>"
      ]
     },
     "metadata": {
      "needs_background": "light"
     },
     "output_type": "display_data"
    }
   ],
   "source": [
    "#  Get a list of all unique weeks\n",
    "all_weeks = df['week'].astype(str).unique().tolist()\n",
    "\n",
    "week_numbers_list = []\n",
    "# Create pairs of (Original Month String, Sequential Number)\n",
    "for week, i in zip(all_weeks, range(1, len(all_weeks) + 1)):  week_numbers_list.append([week, i])\n",
    "\n",
    "week_to_number_map = dict(week_numbers_list)\n",
    "\n",
    "top_tracks_recorded['sequential_week'] = top_tracks_recorded['week'].astype(str).map(week_to_number_map)\n",
    "\n",
    "top_tracks_name = top_tracks_recorded[['artistName',\"trackName\"]].drop_duplicates().values\n",
    "\n",
    "\n",
    "\n",
    "for track_name in top_tracks_name:\n",
    "    \n",
    "    # 1. FILTERED: Get the DataFrame for only the current artist\n",
    "    mask = (top_tracks_recorded['artistName'] == track_name[0]) & \\\n",
    "           (top_tracks_recorded['trackName'] == track_name[1])\n",
    "           \n",
    "    df_target_track = top_tracks_recorded[mask].reset_index(drop=True) \n",
    "    \n",
    "    run_line_graph(\n",
    "      data = df_target_track,\n",
    "       x = 'sequential_week',\n",
    "       hue_data = 'trackName',\n",
    "       data_title = 'Performance Of The Most Listened Tracks Over Time.',\n",
    "       xlabel = \"Weeks\",\n",
    "       time = df_target_track['sequential_week']\n",
    "     )    "
   ]
  },
  {
   "cell_type": "markdown",
   "metadata": {
    "id": "37JE02z1Ts0H"
   },
   "source": [
    "#### **What Were The Top Tracks For Each Week?**"
   ]
  },
  {
   "cell_type": "code",
   "execution_count": 113,
   "metadata": {
    "colab": {
     "base_uri": "https://localhost:8080/"
    },
    "id": "0blqlT5tT5me",
    "outputId": "676a13b4-b23a-4ea7-cf63-37de6acba1b7"
   },
   "outputs": [],
   "source": [
    "# Group by week and track to get total count per week\n",
    "agg_tracks_weekly = df.groupby(['week', 'artistName',\"trackName\"]).agg(msPlayed=('msPlayed', 'sum')).reset_index()\n",
    "\n",
    "# Find the top tracks by total count for each week\n",
    "top_tracks_per_week = agg_tracks_weekly.groupby('week', group_keys=False).apply(lambda x: x.nlargest(5, 'msPlayed')).reset_index(drop=True)\n",
    "\n",
    "# for week, group in top_tracks_per_week.groupby('week'):\n",
    "#     print(f\"\\n#### Top most-listened tracks in week {week}: ####\\n\")\n",
    "#     print(group)"
   ]
  },
  {
   "cell_type": "markdown",
   "metadata": {
    "id": "ZcWajR3lG-mY"
   },
   "source": [
    "#### **How Many Times The Most Listened-to Tracks Appeared In The Top Weekly Lists?**"
   ]
  },
  {
   "cell_type": "code",
   "execution_count": 114,
   "metadata": {
    "colab": {
     "base_uri": "https://localhost:8080/",
     "height": 260
    },
    "id": "ST-L-BpTUTvG",
    "outputId": "0382b529-9adb-49c4-e53d-5678feac45fc"
   },
   "outputs": [
    {
     "name": "stdout",
     "output_type": "stream",
     "text": [
      "\n",
      "#### Times the most listened-to tracks appeared in the top weekly lists?: ####\n",
      "\n"
     ]
    },
    {
     "data": {
      "text/html": [
       "<div>\n",
       "<style scoped>\n",
       "    .dataframe tbody tr th:only-of-type {\n",
       "        vertical-align: middle;\n",
       "    }\n",
       "\n",
       "    .dataframe tbody tr th {\n",
       "        vertical-align: top;\n",
       "    }\n",
       "\n",
       "    .dataframe thead th {\n",
       "        text-align: right;\n",
       "    }\n",
       "</style>\n",
       "<table border=\"1\" class=\"dataframe\">\n",
       "  <thead>\n",
       "    <tr style=\"text-align: right;\">\n",
       "      <th></th>\n",
       "      <th>artistName</th>\n",
       "      <th>trackName</th>\n",
       "      <th>msPlayed</th>\n",
       "      <th>count</th>\n",
       "      <th>percentage_of_weeks_in_top</th>\n",
       "    </tr>\n",
       "  </thead>\n",
       "  <tbody>\n",
       "    <tr>\n",
       "      <td>0</td>\n",
       "      <td>The Beatles</td>\n",
       "      <td>Hey Jude - Remastered 2015</td>\n",
       "      <td>4528894</td>\n",
       "      <td>4</td>\n",
       "      <td>10.81</td>\n",
       "    </tr>\n",
       "    <tr>\n",
       "      <td>1</td>\n",
       "      <td>The Smiths</td>\n",
       "      <td>This Charming Man - 2011 Remaster</td>\n",
       "      <td>3342202</td>\n",
       "      <td>3</td>\n",
       "      <td>8.11</td>\n",
       "    </tr>\n",
       "    <tr>\n",
       "      <td>2</td>\n",
       "      <td>Soda Stereo</td>\n",
       "      <td>Sueles Dejarme Solo - Remasterizado 2007</td>\n",
       "      <td>5429491</td>\n",
       "      <td>2</td>\n",
       "      <td>5.41</td>\n",
       "    </tr>\n",
       "    <tr>\n",
       "      <td>3</td>\n",
       "      <td>Los Fundamentalistas del Aire Acondicionado</td>\n",
       "      <td>Mi Genio Amor - En Vivo</td>\n",
       "      <td>2932279</td>\n",
       "      <td>2</td>\n",
       "      <td>5.41</td>\n",
       "    </tr>\n",
       "    <tr>\n",
       "      <td>4</td>\n",
       "      <td>Oasis</td>\n",
       "      <td>Supersonic - Remastered</td>\n",
       "      <td>2244984</td>\n",
       "      <td>2</td>\n",
       "      <td>5.41</td>\n",
       "    </tr>\n",
       "  </tbody>\n",
       "</table>\n",
       "</div>"
      ],
      "text/plain": [
       "                                    artistName  \\\n",
       "0                                  The Beatles   \n",
       "1                                   The Smiths   \n",
       "2                                  Soda Stereo   \n",
       "3  Los Fundamentalistas del Aire Acondicionado   \n",
       "4                                        Oasis   \n",
       "\n",
       "                                  trackName  msPlayed  count  \\\n",
       "0                Hey Jude - Remastered 2015   4528894      4   \n",
       "1         This Charming Man - 2011 Remaster   3342202      3   \n",
       "2  Sueles Dejarme Solo - Remasterizado 2007   5429491      2   \n",
       "3                   Mi Genio Amor - En Vivo   2932279      2   \n",
       "4                   Supersonic - Remastered   2244984      2   \n",
       "\n",
       "   percentage_of_weeks_in_top  \n",
       "0                       10.81  \n",
       "1                        8.11  \n",
       "2                        5.41  \n",
       "3                        5.41  \n",
       "4                        5.41  "
      ]
     },
     "metadata": {},
     "output_type": "display_data"
    }
   ],
   "source": [
    "top_tracks['combined_key'] = list(zip(top_tracks['artistName'], top_tracks['trackName']))\n",
    "top_tracks_per_week['combined_key'] = list(zip(top_tracks_per_week['artistName'], top_tracks_per_week['trackName']))\n",
    "\n",
    "top_tracks_in_weekly_charts = top_tracks_per_week[top_tracks_per_week['combined_key'].isin(top_tracks['combined_key'])]\n",
    "\n",
    "top_tracks_in_weekly_charts = top_tracks_in_weekly_charts.groupby(['artistName',\"trackName\"]).agg(\n",
    "    msPlayed=('msPlayed', 'sum'),\n",
    "    count=('combined_key', 'size') \n",
    ").sort_values(by=['count', 'msPlayed'], ascending=[False, False]).reset_index()\n",
    "\n",
    "total_weeks = len(df['week'].unique())\n",
    "top_tracks_in_weekly_charts['percentage_of_weeks_in_top'] = round((top_tracks_in_weekly_charts[\"count\"] / total_weeks) * 100, 2)\n",
    "\n",
    "print(\"\\n#### Times the most listened-to tracks appeared in the top weekly lists?: ####\\n\")\n",
    "display(top_tracks_in_weekly_charts)"
   ]
  },
  {
   "cell_type": "markdown",
   "metadata": {
    "id": "NPNnPmpyJhdi"
   },
   "source": [
    "#### **Who Were The Most Listened-To Tracks On The Weekly Charts?**"
   ]
  },
  {
   "cell_type": "code",
   "execution_count": 115,
   "metadata": {
    "colab": {
     "base_uri": "https://localhost:8080/",
     "height": 260
    },
    "id": "3FO0zgZoCUpL",
    "outputId": "2d4dbb79-ae2f-4d70-ffd3-d2cd05f32c0d"
   },
   "outputs": [
    {
     "name": "stdout",
     "output_type": "stream",
     "text": [
      "\n",
      "#### The most listened-to tracks on the weekly charts: ####\n",
      "\n"
     ]
    },
    {
     "data": {
      "text/html": [
       "<div>\n",
       "<style scoped>\n",
       "    .dataframe tbody tr th:only-of-type {\n",
       "        vertical-align: middle;\n",
       "    }\n",
       "\n",
       "    .dataframe tbody tr th {\n",
       "        vertical-align: top;\n",
       "    }\n",
       "\n",
       "    .dataframe thead th {\n",
       "        text-align: right;\n",
       "    }\n",
       "</style>\n",
       "<table border=\"1\" class=\"dataframe\">\n",
       "  <thead>\n",
       "    <tr style=\"text-align: right;\">\n",
       "      <th></th>\n",
       "      <th>artistName</th>\n",
       "      <th>trackName</th>\n",
       "      <th>msPlayed</th>\n",
       "      <th>count</th>\n",
       "      <th>percentage_of_weeks_in_top</th>\n",
       "    </tr>\n",
       "  </thead>\n",
       "  <tbody>\n",
       "    <tr>\n",
       "      <td>0</td>\n",
       "      <td>The Beatles</td>\n",
       "      <td>Hey Jude - Remastered 2015</td>\n",
       "      <td>4528894</td>\n",
       "      <td>4</td>\n",
       "      <td>10.81</td>\n",
       "    </tr>\n",
       "    <tr>\n",
       "      <td>1</td>\n",
       "      <td>David Bowie</td>\n",
       "      <td>Space Oddity - 2015 Remaster</td>\n",
       "      <td>3692385</td>\n",
       "      <td>3</td>\n",
       "      <td>8.11</td>\n",
       "    </tr>\n",
       "    <tr>\n",
       "      <td>2</td>\n",
       "      <td>The Smiths</td>\n",
       "      <td>This Charming Man - 2011 Remaster</td>\n",
       "      <td>3342202</td>\n",
       "      <td>3</td>\n",
       "      <td>8.11</td>\n",
       "    </tr>\n",
       "    <tr>\n",
       "      <td>3</td>\n",
       "      <td>The Beatles</td>\n",
       "      <td>Come Together - 2019 Mix</td>\n",
       "      <td>3190737</td>\n",
       "      <td>3</td>\n",
       "      <td>8.11</td>\n",
       "    </tr>\n",
       "    <tr>\n",
       "      <td>4</td>\n",
       "      <td>Soda Stereo</td>\n",
       "      <td>Sueles Dejarme Solo - Remasterizado 2007</td>\n",
       "      <td>5429491</td>\n",
       "      <td>2</td>\n",
       "      <td>5.41</td>\n",
       "    </tr>\n",
       "  </tbody>\n",
       "</table>\n",
       "</div>"
      ],
      "text/plain": [
       "    artistName                                 trackName  msPlayed  count  \\\n",
       "0  The Beatles                Hey Jude - Remastered 2015   4528894      4   \n",
       "1  David Bowie              Space Oddity - 2015 Remaster   3692385      3   \n",
       "2   The Smiths         This Charming Man - 2011 Remaster   3342202      3   \n",
       "3  The Beatles                  Come Together - 2019 Mix   3190737      3   \n",
       "4  Soda Stereo  Sueles Dejarme Solo - Remasterizado 2007   5429491      2   \n",
       "\n",
       "   percentage_of_weeks_in_top  \n",
       "0                       10.81  \n",
       "1                        8.11  \n",
       "2                        8.11  \n",
       "3                        8.11  \n",
       "4                        5.41  "
      ]
     },
     "metadata": {},
     "output_type": "display_data"
    }
   ],
   "source": [
    "top_tracks_from_weekly_charts = top_tracks_per_week.groupby(['artistName',\"trackName\"]).agg(\n",
    "    msPlayed=('msPlayed', 'sum'),\n",
    "    count=('combined_key', 'size') \n",
    ").sort_values(by=['count', 'msPlayed'], ascending=[False, False]).reset_index()\n",
    "\n",
    "top_tracks_from_weekly_charts = top_tracks_from_weekly_charts.nlargest(5, 'count').reset_index(drop=True)\n",
    "top_tracks_from_weekly_charts['percentage_of_weeks_in_top'] = round((top_tracks_from_weekly_charts[\"count\"] / total_weeks) * 100, 2)\n",
    "\n",
    "\n",
    "print(\"\\n#### The most listened-to tracks on the weekly charts: ####\\n\")\n",
    "display(top_tracks_from_weekly_charts)"
   ]
  },
  {
   "cell_type": "code",
   "execution_count": 166,
   "metadata": {},
   "outputs": [
    {
     "name": "stderr",
     "output_type": "stream",
     "text": [
      "C:\\Users\\G3rrido\\Anaconda3\\lib\\site-packages\\ipykernel_launcher.py:13: SettingWithCopyWarning: \n",
      "A value is trying to be set on a copy of a slice from a DataFrame.\n",
      "Try using .loc[row_indexer,col_indexer] = value instead\n",
      "\n",
      "See the caveats in the documentation: http://pandas.pydata.org/pandas-docs/stable/user_guide/indexing.html#returning-a-view-versus-a-copy\n",
      "  del sys.path[0]\n"
     ]
    },
    {
     "data": {
      "image/png": "[encoded data removed]",
      "text/plain": [
       "<Figure size 864x360 with 1 Axes>"
      ]
     },
     "metadata": {
      "needs_background": "light"
     },
     "output_type": "display_data"
    }
   ],
   "source": [
    "top_tracks_from_weekly_charts['combined_key'] = list(zip(top_tracks_from_weekly_charts['artistName'], top_tracks_from_weekly_charts['trackName']))\n",
    "\n",
    "res = top_tracks_per_week[top_tracks_per_week['combined_key'].isin(top_tracks_from_weekly_charts['combined_key'])]\n",
    "\n",
    "all_weeks = df['week'].astype(str).unique().tolist()\n",
    "\n",
    "week_numbers_list = []\n",
    "# Create pairs of (Original Month String, Sequential Number)\n",
    "for week, i in zip(all_weeks, range(1, len(all_weeks) + 1)):  week_numbers_list.append([week, i])\n",
    "\n",
    "week_to_number_map = dict(week_numbers_list)\n",
    "\n",
    "res['sequential_week'] = res['week'].astype(str).map(week_to_number_map)\n",
    "\n",
    "run_line_graph(\n",
    "      data = res,\n",
    "      x = 'sequential_week',\n",
    "      hue_data = 'trackName',\n",
    "      data_title = 'Performance Of The Most Listened Tracks By Top Weekly Over Time.',\n",
    "      xlabel = \"Weeks\",\n",
    "      time = res['sequential_week']\n",
    ")   "
   ]
  },
  {
   "cell_type": "markdown",
   "metadata": {
    "id": "oYFeOBfNaSuW"
   },
   "source": [
    "#### **Differences Between The Top Tracks By Listening Time and Weekly Charts.**"
   ]
  },
  {
   "cell_type": "code",
   "execution_count": 117,
   "metadata": {
    "colab": {
     "base_uri": "https://localhost:8080/"
    },
    "id": "oKGdm1QQF52P",
    "outputId": "ba9ba1ee-1b1d-4343-c239-a49d03f8b737"
   },
   "outputs": [
    {
     "name": "stdout",
     "output_type": "stream",
     "text": [
      "\n",
      "#### Tracks that EXITED (Penalized for Weekly Volatility): [('Oasis', 'Supersonic - Remastered'), ('Los Fundamentalistas del Aire Acondicionado', 'Mi Genio Amor - En Vivo')] ####\n",
      "\n",
      "\n",
      "#### Tracks that ENTERED (Rewarded for Weekly Consistency): [('The Beatles', 'Come Together - 2019 Mix'), ('David Bowie', 'Space Oddity - 2015 Remaster')] ####\n",
      "\n"
     ]
    }
   ],
   "source": [
    "top_tracks_from_weekly_charts_copy = top_tracks_from_weekly_charts.copy()\n",
    "top_tracks_copy = top_tracks.copy()\n",
    "\n",
    "top_tracks_copy[\"combined_key\"] = list(zip(top_tracks['artistName'], top_tracks['trackName']))\n",
    "top_tracks_from_weekly_charts_copy[\"combined_key\"] = list(zip(top_tracks_from_weekly_charts['artistName'], top_tracks_from_weekly_charts['trackName']))\n",
    "\n",
    "# Identify Entrants and Exits\n",
    "\n",
    "# Tracks that EXIT: Were in the Top by Listening Time, but fell out after the consistency weekly.\n",
    "tracks_exit = list(set(top_tracks_copy['combined_key']) - set(top_tracks_from_weekly_charts_copy['combined_key']))\n",
    "\n",
    "# Tracks that ENTER: Were outside the Top by Listening Time, but were boosted into the Top by consistency weekly.\n",
    "tracks_enter = list(set(top_tracks_from_weekly_charts_copy['combined_key']) - set(top_tracks_copy['combined_key']))\n",
    "\n",
    "print(f\"\\n#### Tracks that EXITED (Penalized for Weekly Volatility): {tracks_exit} ####\\n\")\n",
    "print(f\"\\n#### Tracks that ENTERED (Rewarded for Weekly Consistency): {tracks_enter} ####\\n\")"
   ]
  },
  {
   "cell_type": "code",
   "execution_count": 118,
   "metadata": {},
   "outputs": [
    {
     "name": "stderr",
     "output_type": "stream",
     "text": [
      "C:\\Users\\G3rrido\\Anaconda3\\lib\\site-packages\\ipykernel_launcher.py:16: SettingWithCopyWarning: \n",
      "A value is trying to be set on a copy of a slice from a DataFrame.\n",
      "Try using .loc[row_indexer,col_indexer] = value instead\n",
      "\n",
      "See the caveats in the documentation: http://pandas.pydata.org/pandas-docs/stable/user_guide/indexing.html#returning-a-view-versus-a-copy\n",
      "  app.launch_new_instance()\n",
      "C:\\Users\\G3rrido\\Anaconda3\\lib\\site-packages\\ipykernel_launcher.py:25: SettingWithCopyWarning: \n",
      "A value is trying to be set on a copy of a slice from a DataFrame.\n",
      "Try using .loc[row_indexer,col_indexer] = value instead\n",
      "\n",
      "See the caveats in the documentation: http://pandas.pydata.org/pandas-docs/stable/user_guide/indexing.html#returning-a-view-versus-a-copy\n"
     ]
    }
   ],
   "source": [
    "tracks_to_plot = tracks_exit + tracks_enter\n",
    "\n",
    "agg_tracks_weekly[\"combined_key\"] = list(zip(agg_tracks_weekly['artistName'], agg_tracks_weekly['trackName'])) \n",
    "\n",
    "# 1. Get a list of all unique months\n",
    "all_weeks = df['week'].astype(str).unique().tolist()\n",
    "# agg_tracks_weekly['week'] = agg_tracks_weekly['week'].astype(str)\n",
    "\n",
    "# # 2. Create a DataFrame with all combinations of top artists and months\n",
    "# full_grid = pd.DataFrame(product(all_weeks, tracks_to_plot), columns=['week', \"combined_key\"])\n",
    "\n",
    "# 3. Left merge the full grid with the monthly data\n",
    "top_tracks_weekly_recorded = agg_tracks_weekly[agg_tracks_weekly[\"combined_key\"].isin(tracks_to_plot)]\n",
    "\n",
    "# 4. Fill NaN values with 0\n",
    "top_tracks_weekly_recorded['msPlayed'] = top_tracks_weekly_recorded['msPlayed'].fillna(0)\n",
    "\n",
    "week_numbers_list = []\n",
    "\n",
    "# Create pairs of (Original Week String, Sequential Number)\n",
    "for week, i in zip(all_weeks, range(1, len(all_weeks) + 1)):  week_numbers_list.append([week, i])\n",
    "\n",
    "week_to_number_map = dict(week_numbers_list)\n",
    "\n",
    "top_tracks_weekly_recorded['sequential_week'] = top_tracks_weekly_recorded['week'].astype(str).map(week_to_number_map)"
   ]
  },
  {
   "cell_type": "code",
   "execution_count": 119,
   "metadata": {},
   "outputs": [
    {
     "name": "stderr",
     "output_type": "stream",
     "text": [
      "C:\\Users\\G3rrido\\Anaconda3\\lib\\site-packages\\ipykernel_launcher.py:9: SettingWithCopyWarning: \n",
      "A value is trying to be set on a copy of a slice from a DataFrame.\n",
      "Try using .loc[row_indexer,col_indexer] = value instead\n",
      "\n",
      "See the caveats in the documentation: http://pandas.pydata.org/pandas-docs/stable/user_guide/indexing.html#returning-a-view-versus-a-copy\n",
      "  if __name__ == '__main__':\n",
      "C:\\Users\\G3rrido\\Anaconda3\\lib\\site-packages\\ipykernel_launcher.py:16: SettingWithCopyWarning: \n",
      "A value is trying to be set on a copy of a slice from a DataFrame.\n",
      "Try using .loc[row_indexer,col_indexer] = value instead\n",
      "\n",
      "See the caveats in the documentation: http://pandas.pydata.org/pandas-docs/stable/user_guide/indexing.html#returning-a-view-versus-a-copy\n",
      "  app.launch_new_instance()\n"
     ]
    },
    {
     "data": {
      "image/png": "[encoded data removed]",
      "text/plain": [
       "<Figure size 749.125x864 with 4 Axes>"
      ]
     },
     "metadata": {
      "needs_background": "light"
     },
     "output_type": "display_data"
    }
   ],
   "source": [
    "# Create a helper column to indicate the status (EXITED/ENTERED) for sorting purposes.\n",
    "def get_classification(track):\n",
    "    if track in tracks_exit:  \n",
    "        return \"EXITED\"\n",
    "    elif track in tracks_enter:  \n",
    "        return \"ENTERED\"\n",
    "    return \"N/A\"\n",
    "\n",
    "top_tracks_weekly_recorded['classification'] = top_tracks_weekly_recorded['combined_key'].apply(get_classification)\n",
    "\n",
    "# Add a column for the facet_title \n",
    "top_tracks_weekly_recorded['facet_title'] = (\n",
    "    top_tracks_weekly_recorded['combined_key'].astype(str) + \n",
    "    ': ' + \n",
    "    top_tracks_weekly_recorded['classification'] + \n",
    "    top_tracks_weekly_recorded['classification'].apply(lambda x: ' (Penalized by Volatility)' if x == 'EXITED' else ' (Rewarded for Consistency)')\n",
    ")\n",
    "\n",
    "\n",
    "\n",
    "run_subplots_graph(\n",
    "    data = top_tracks_weekly_recorded, \n",
    "    x_data = 'sequential_week', \n",
    "    axis_label = \"Weeks\", \n",
    "    suptitle = \"Tracks Who Entered And Exited The Top After Using Weekly Charts.\", \n",
    "    xticks = top_tracks_weekly_recorded['sequential_week']\n",
    ")"
   ]
  },
  {
   "cell_type": "markdown",
   "metadata": {},
   "source": [
    "#### Recapitulation\n",
    "---"
   ]
  },
  {
   "cell_type": "markdown",
   "metadata": {},
   "source": [
    "#### The Most Listened-to Artists Overall (measured in msPlayed)."
   ]
  },
  {
   "cell_type": "code",
   "execution_count": 120,
   "metadata": {},
   "outputs": [
    {
     "data": {
      "text/html": [
       "<div>\n",
       "<style scoped>\n",
       "    .dataframe tbody tr th:only-of-type {\n",
       "        vertical-align: middle;\n",
       "    }\n",
       "\n",
       "    .dataframe tbody tr th {\n",
       "        vertical-align: top;\n",
       "    }\n",
       "\n",
       "    .dataframe thead th {\n",
       "        text-align: right;\n",
       "    }\n",
       "</style>\n",
       "<table border=\"1\" class=\"dataframe\">\n",
       "  <thead>\n",
       "    <tr style=\"text-align: right;\">\n",
       "      <th></th>\n",
       "      <th>artistName</th>\n",
       "      <th>msPlayed</th>\n",
       "      <th>percentage_of_time_listening</th>\n",
       "    </tr>\n",
       "  </thead>\n",
       "  <tbody>\n",
       "    <tr>\n",
       "      <td>0</td>\n",
       "      <td>The Beatles</td>\n",
       "      <td>328495363</td>\n",
       "      <td>13.29</td>\n",
       "    </tr>\n",
       "    <tr>\n",
       "      <td>1</td>\n",
       "      <td>Thee Michelle Gun Elephant</td>\n",
       "      <td>91063035</td>\n",
       "      <td>3.68</td>\n",
       "    </tr>\n",
       "    <tr>\n",
       "      <td>2</td>\n",
       "      <td>Patricio Rey y sus Redonditos de Ricota</td>\n",
       "      <td>83118557</td>\n",
       "      <td>3.36</td>\n",
       "    </tr>\n",
       "    <tr>\n",
       "      <td>3</td>\n",
       "      <td>Radiohead</td>\n",
       "      <td>56969054</td>\n",
       "      <td>2.30</td>\n",
       "    </tr>\n",
       "    <tr>\n",
       "      <td>4</td>\n",
       "      <td>The Smiths</td>\n",
       "      <td>55725821</td>\n",
       "      <td>2.25</td>\n",
       "    </tr>\n",
       "  </tbody>\n",
       "</table>\n",
       "</div>"
      ],
      "text/plain": [
       "                                artistName   msPlayed  \\\n",
       "0                              The Beatles  328495363   \n",
       "1               Thee Michelle Gun Elephant   91063035   \n",
       "2  Patricio Rey y sus Redonditos de Ricota   83118557   \n",
       "3                                Radiohead   56969054   \n",
       "4                               The Smiths   55725821   \n",
       "\n",
       "   percentage_of_time_listening  \n",
       "0                         13.29  \n",
       "1                          3.68  \n",
       "2                          3.36  \n",
       "3                          2.30  \n",
       "4                          2.25  "
      ]
     },
     "metadata": {},
     "output_type": "display_data"
    }
   ],
   "source": [
    "display(top_artists)"
   ]
  },
  {
   "cell_type": "markdown",
   "metadata": {},
   "source": [
    "#### Who Were The Most Listened-To Artists On The Monthly Charts? (Consistency Consumption)"
   ]
  },
  {
   "cell_type": "code",
   "execution_count": 121,
   "metadata": {},
   "outputs": [
    {
     "data": {
      "text/html": [
       "<div>\n",
       "<style scoped>\n",
       "    .dataframe tbody tr th:only-of-type {\n",
       "        vertical-align: middle;\n",
       "    }\n",
       "\n",
       "    .dataframe tbody tr th {\n",
       "        vertical-align: top;\n",
       "    }\n",
       "\n",
       "    .dataframe thead th {\n",
       "        text-align: right;\n",
       "    }\n",
       "</style>\n",
       "<table border=\"1\" class=\"dataframe\">\n",
       "  <thead>\n",
       "    <tr style=\"text-align: right;\">\n",
       "      <th></th>\n",
       "      <th>artistName</th>\n",
       "      <th>msPlayed</th>\n",
       "      <th>count</th>\n",
       "      <th>percentage_of_weeks_in_top</th>\n",
       "    </tr>\n",
       "  </thead>\n",
       "  <tbody>\n",
       "    <tr>\n",
       "      <td>0</td>\n",
       "      <td>The Beatles</td>\n",
       "      <td>314861993</td>\n",
       "      <td>6</td>\n",
       "      <td>66.67</td>\n",
       "    </tr>\n",
       "    <tr>\n",
       "      <td>1</td>\n",
       "      <td>Thee Michelle Gun Elephant</td>\n",
       "      <td>77779598</td>\n",
       "      <td>5</td>\n",
       "      <td>55.56</td>\n",
       "    </tr>\n",
       "    <tr>\n",
       "      <td>2</td>\n",
       "      <td>Radiohead</td>\n",
       "      <td>43928736</td>\n",
       "      <td>4</td>\n",
       "      <td>44.44</td>\n",
       "    </tr>\n",
       "    <tr>\n",
       "      <td>3</td>\n",
       "      <td>David Bowie</td>\n",
       "      <td>37490194</td>\n",
       "      <td>4</td>\n",
       "      <td>44.44</td>\n",
       "    </tr>\n",
       "    <tr>\n",
       "      <td>4</td>\n",
       "      <td>The Smiths</td>\n",
       "      <td>34429534</td>\n",
       "      <td>4</td>\n",
       "      <td>44.44</td>\n",
       "    </tr>\n",
       "  </tbody>\n",
       "</table>\n",
       "</div>"
      ],
      "text/plain": [
       "                   artistName   msPlayed  count  percentage_of_weeks_in_top\n",
       "0                 The Beatles  314861993      6                       66.67\n",
       "1  Thee Michelle Gun Elephant   77779598      5                       55.56\n",
       "2                   Radiohead   43928736      4                       44.44\n",
       "3                 David Bowie   37490194      4                       44.44\n",
       "4                  The Smiths   34429534      4                       44.44"
      ]
     },
     "metadata": {},
     "output_type": "display_data"
    }
   ],
   "source": [
    "display(top_artists_from_monthly_charts)"
   ]
  },
  {
   "cell_type": "markdown",
   "metadata": {},
   "source": [
    "#### Differences Between The Top Artists By Listening Time and Weekly Charts. (Consistency vs. Atypical Consumption)"
   ]
  },
  {
   "cell_type": "code",
   "execution_count": 122,
   "metadata": {},
   "outputs": [
    {
     "name": "stdout",
     "output_type": "stream",
     "text": [
      "Artists that EXITED (Penalized for monthly Volatility): ['Patricio Rey y sus Redonditos de Ricota']\n",
      "\n",
      "Artists that ENTERED (Rewarded for monthly Consistency): ['David Bowie']\n"
     ]
    }
   ],
   "source": [
    "print(f\"Artists that EXITED (Penalized for monthly Volatility): {artists_exit}\")\n",
    "print(f\"\\nArtists that ENTERED (Rewarded for monthly Consistency): {artists_enter}\")"
   ]
  },
  {
   "cell_type": "markdown",
   "metadata": {},
   "source": [
    "#### The Most Listened-to Tracks Overall (measured in msPlayed)."
   ]
  },
  {
   "cell_type": "code",
   "execution_count": 123,
   "metadata": {},
   "outputs": [
    {
     "data": {
      "text/html": [
       "<div>\n",
       "<style scoped>\n",
       "    .dataframe tbody tr th:only-of-type {\n",
       "        vertical-align: middle;\n",
       "    }\n",
       "\n",
       "    .dataframe tbody tr th {\n",
       "        vertical-align: top;\n",
       "    }\n",
       "\n",
       "    .dataframe thead th {\n",
       "        text-align: right;\n",
       "    }\n",
       "</style>\n",
       "<table border=\"1\" class=\"dataframe\">\n",
       "  <thead>\n",
       "    <tr style=\"text-align: right;\">\n",
       "      <th></th>\n",
       "      <th>artistName</th>\n",
       "      <th>trackName</th>\n",
       "      <th>msPlayed</th>\n",
       "      <th>percentage_of_time_listening</th>\n",
       "    </tr>\n",
       "  </thead>\n",
       "  <tbody>\n",
       "    <tr>\n",
       "      <td>0</td>\n",
       "      <td>The Smiths</td>\n",
       "      <td>This Charming Man - 2011 Remaster</td>\n",
       "      <td>11196482</td>\n",
       "      <td>0.45</td>\n",
       "    </tr>\n",
       "    <tr>\n",
       "      <td>1</td>\n",
       "      <td>Soda Stereo</td>\n",
       "      <td>Sueles Dejarme Solo - Remasterizado 2007</td>\n",
       "      <td>9782937</td>\n",
       "      <td>0.40</td>\n",
       "    </tr>\n",
       "    <tr>\n",
       "      <td>2</td>\n",
       "      <td>Oasis</td>\n",
       "      <td>Supersonic - Remastered</td>\n",
       "      <td>9764319</td>\n",
       "      <td>0.40</td>\n",
       "    </tr>\n",
       "    <tr>\n",
       "      <td>3</td>\n",
       "      <td>Los Fundamentalistas del Aire Acondicionado</td>\n",
       "      <td>Mi Genio Amor - En Vivo</td>\n",
       "      <td>9449722</td>\n",
       "      <td>0.38</td>\n",
       "    </tr>\n",
       "    <tr>\n",
       "      <td>4</td>\n",
       "      <td>The Beatles</td>\n",
       "      <td>Hey Jude - Remastered 2015</td>\n",
       "      <td>8385826</td>\n",
       "      <td>0.34</td>\n",
       "    </tr>\n",
       "  </tbody>\n",
       "</table>\n",
       "</div>"
      ],
      "text/plain": [
       "                                    artistName  \\\n",
       "0                                   The Smiths   \n",
       "1                                  Soda Stereo   \n",
       "2                                        Oasis   \n",
       "3  Los Fundamentalistas del Aire Acondicionado   \n",
       "4                                  The Beatles   \n",
       "\n",
       "                                  trackName  msPlayed  \\\n",
       "0         This Charming Man - 2011 Remaster  11196482   \n",
       "1  Sueles Dejarme Solo - Remasterizado 2007   9782937   \n",
       "2                   Supersonic - Remastered   9764319   \n",
       "3                   Mi Genio Amor - En Vivo   9449722   \n",
       "4                Hey Jude - Remastered 2015   8385826   \n",
       "\n",
       "   percentage_of_time_listening  \n",
       "0                          0.45  \n",
       "1                          0.40  \n",
       "2                          0.40  \n",
       "3                          0.38  \n",
       "4                          0.34  "
      ]
     },
     "metadata": {},
     "output_type": "display_data"
    }
   ],
   "source": [
    "display(top_tracks[[\"artistName\",\"trackName\",\"msPlayed\",\"percentage_of_time_listening\"]])"
   ]
  },
  {
   "cell_type": "markdown",
   "metadata": {},
   "source": [
    "#### Who Were The Most Listened-To Tracks On The Weekly Charts? (Consistency Consumption)"
   ]
  },
  {
   "cell_type": "code",
   "execution_count": 124,
   "metadata": {},
   "outputs": [
    {
     "data": {
      "text/html": [
       "<div>\n",
       "<style scoped>\n",
       "    .dataframe tbody tr th:only-of-type {\n",
       "        vertical-align: middle;\n",
       "    }\n",
       "\n",
       "    .dataframe tbody tr th {\n",
       "        vertical-align: top;\n",
       "    }\n",
       "\n",
       "    .dataframe thead th {\n",
       "        text-align: right;\n",
       "    }\n",
       "</style>\n",
       "<table border=\"1\" class=\"dataframe\">\n",
       "  <thead>\n",
       "    <tr style=\"text-align: right;\">\n",
       "      <th></th>\n",
       "      <th>artistName</th>\n",
       "      <th>trackName</th>\n",
       "      <th>msPlayed</th>\n",
       "      <th>count</th>\n",
       "      <th>percentage_of_weeks_in_top</th>\n",
       "    </tr>\n",
       "  </thead>\n",
       "  <tbody>\n",
       "    <tr>\n",
       "      <td>0</td>\n",
       "      <td>The Beatles</td>\n",
       "      <td>Hey Jude - Remastered 2015</td>\n",
       "      <td>4528894</td>\n",
       "      <td>4</td>\n",
       "      <td>10.81</td>\n",
       "    </tr>\n",
       "    <tr>\n",
       "      <td>1</td>\n",
       "      <td>David Bowie</td>\n",
       "      <td>Space Oddity - 2015 Remaster</td>\n",
       "      <td>3692385</td>\n",
       "      <td>3</td>\n",
       "      <td>8.11</td>\n",
       "    </tr>\n",
       "    <tr>\n",
       "      <td>2</td>\n",
       "      <td>The Smiths</td>\n",
       "      <td>This Charming Man - 2011 Remaster</td>\n",
       "      <td>3342202</td>\n",
       "      <td>3</td>\n",
       "      <td>8.11</td>\n",
       "    </tr>\n",
       "    <tr>\n",
       "      <td>3</td>\n",
       "      <td>The Beatles</td>\n",
       "      <td>Come Together - 2019 Mix</td>\n",
       "      <td>3190737</td>\n",
       "      <td>3</td>\n",
       "      <td>8.11</td>\n",
       "    </tr>\n",
       "    <tr>\n",
       "      <td>4</td>\n",
       "      <td>Soda Stereo</td>\n",
       "      <td>Sueles Dejarme Solo - Remasterizado 2007</td>\n",
       "      <td>5429491</td>\n",
       "      <td>2</td>\n",
       "      <td>5.41</td>\n",
       "    </tr>\n",
       "  </tbody>\n",
       "</table>\n",
       "</div>"
      ],
      "text/plain": [
       "    artistName                                 trackName  msPlayed  count  \\\n",
       "0  The Beatles                Hey Jude - Remastered 2015   4528894      4   \n",
       "1  David Bowie              Space Oddity - 2015 Remaster   3692385      3   \n",
       "2   The Smiths         This Charming Man - 2011 Remaster   3342202      3   \n",
       "3  The Beatles                  Come Together - 2019 Mix   3190737      3   \n",
       "4  Soda Stereo  Sueles Dejarme Solo - Remasterizado 2007   5429491      2   \n",
       "\n",
       "   percentage_of_weeks_in_top  \n",
       "0                       10.81  \n",
       "1                        8.11  \n",
       "2                        8.11  \n",
       "3                        8.11  \n",
       "4                        5.41  "
      ]
     },
     "metadata": {},
     "output_type": "display_data"
    }
   ],
   "source": [
    "display(top_tracks_from_weekly_charts[[\"artistName\",\"trackName\",\"msPlayed\",\"count\",\"percentage_of_weeks_in_top\"]])"
   ]
  },
  {
   "cell_type": "markdown",
   "metadata": {},
   "source": [
    "#### Differences Between The Top Tracks By Listening Time and Weekly Charts. (Consistency vs. Atypical Consumption)"
   ]
  },
  {
   "cell_type": "code",
   "execution_count": 125,
   "metadata": {},
   "outputs": [
    {
     "name": "stdout",
     "output_type": "stream",
     "text": [
      "Tracks that EXITED (Penalized for Weekly Volatility): [('Oasis', 'Supersonic - Remastered'), ('Los Fundamentalistas del Aire Acondicionado', 'Mi Genio Amor - En Vivo')]\n",
      "\n",
      "Tracks that ENTERED (Rewarded for Weekly Consistency): [('The Beatles', 'Come Together - 2019 Mix'), ('David Bowie', 'Space Oddity - 2015 Remaster')]\n"
     ]
    }
   ],
   "source": [
    "print(f\"Tracks that EXITED (Penalized for Weekly Volatility): {tracks_exit}\")\n",
    "print(f\"\\nTracks that ENTERED (Rewarded for Weekly Consistency): {tracks_enter}\")"
   ]
  },
  {
   "cell_type": "markdown",
   "metadata": {},
   "source": [
    "#### **First Impressions:**"
   ]
  },
  {
   "cell_type": "markdown",
   "metadata": {},
   "source": [
    "- The top **five artists** were responsible for **approximately 25%** of the **total listening time this year to date.**\n",
    "- In **contrast**, the **top five most-listened tracks** accounted for **only 2%** of the **overall listening time year to date.**\n",
    "- The dataframe includes **37 weeks** of listening history; however, **only two or three weeks** in the **weekly top chart** are **necessary** to **rank tracks consistently.**"
   ]
  },
  {
   "cell_type": "markdown",
   "metadata": {},
   "source": [
    "Initial conclusion: \n",
    "- **More reliable methods are necessary** to identify the \"*most consistently played*\" tracks rather than just counting their appearances in weekly or monthly top charts."
   ]
  },
  {
   "cell_type": "markdown",
   "metadata": {},
   "source": [
    "### **First Model: Simple Exponential Smoothing (SES)**\n",
    "\n",
    "1. **Why SES?**  because it functions as a **Long Memory Filter**, assigning **less weight** to the **current month** and **more weight** to historical data. This approach enables the model to disregard impulsive spikes and measure an artist's **momentum** and long-term loyalty."
   ]
  },
  {
   "cell_type": "code",
   "execution_count": 126,
   "metadata": {},
   "outputs": [
    {
     "name": "stdout",
     "output_type": "stream",
     "text": [
      "\n",
      "#### Top 5 Constant Tracks (using SES) ####\n"
     ]
    },
    {
     "data": {
      "text/html": [
       "<div>\n",
       "<style scoped>\n",
       "    .dataframe tbody tr th:only-of-type {\n",
       "        vertical-align: middle;\n",
       "    }\n",
       "\n",
       "    .dataframe tbody tr th {\n",
       "        vertical-align: top;\n",
       "    }\n",
       "\n",
       "    .dataframe thead th {\n",
       "        text-align: right;\n",
       "    }\n",
       "</style>\n",
       "<table border=\"1\" class=\"dataframe\">\n",
       "  <thead>\n",
       "    <tr style=\"text-align: right;\">\n",
       "      <th></th>\n",
       "      <th>artistName</th>\n",
       "      <th>trackName</th>\n",
       "      <th>msPlayed</th>\n",
       "      <th>Avg_Smoothed_Level</th>\n",
       "      <th>Weeks_Present</th>\n",
       "    </tr>\n",
       "  </thead>\n",
       "  <tbody>\n",
       "    <tr>\n",
       "      <td>0</td>\n",
       "      <td>The Smiths</td>\n",
       "      <td>This Charming Man - 2011 Remaster</td>\n",
       "      <td>11196482</td>\n",
       "      <td>383330.059667</td>\n",
       "      <td>32</td>\n",
       "    </tr>\n",
       "    <tr>\n",
       "      <td>1</td>\n",
       "      <td>Oasis</td>\n",
       "      <td>Supersonic - Remastered</td>\n",
       "      <td>9764319</td>\n",
       "      <td>346910.464769</td>\n",
       "      <td>27</td>\n",
       "    </tr>\n",
       "    <tr>\n",
       "      <td>2</td>\n",
       "      <td>Blur</td>\n",
       "      <td>Girls &amp; Boys - 2012 Remaster</td>\n",
       "      <td>6230004</td>\n",
       "      <td>289091.148501</td>\n",
       "      <td>21</td>\n",
       "    </tr>\n",
       "    <tr>\n",
       "      <td>3</td>\n",
       "      <td>Soda Stereo</td>\n",
       "      <td>Sueles Dejarme Solo - Remasterizado 2007</td>\n",
       "      <td>9782937</td>\n",
       "      <td>264492.205377</td>\n",
       "      <td>13</td>\n",
       "    </tr>\n",
       "    <tr>\n",
       "      <td>4</td>\n",
       "      <td>Los Fundamentalistas del Aire Acondicionado</td>\n",
       "      <td>Mi Genio Amor - En Vivo</td>\n",
       "      <td>9449722</td>\n",
       "      <td>253190.675885</td>\n",
       "      <td>23</td>\n",
       "    </tr>\n",
       "  </tbody>\n",
       "</table>\n",
       "</div>"
      ],
      "text/plain": [
       "                                    artistName  \\\n",
       "0                                   The Smiths   \n",
       "1                                        Oasis   \n",
       "2                                         Blur   \n",
       "3                                  Soda Stereo   \n",
       "4  Los Fundamentalistas del Aire Acondicionado   \n",
       "\n",
       "                                  trackName  msPlayed  Avg_Smoothed_Level  \\\n",
       "0         This Charming Man - 2011 Remaster  11196482       383330.059667   \n",
       "1                   Supersonic - Remastered   9764319       346910.464769   \n",
       "2              Girls & Boys - 2012 Remaster   6230004       289091.148501   \n",
       "3  Sueles Dejarme Solo - Remasterizado 2007   9782937       264492.205377   \n",
       "4                   Mi Genio Amor - En Vivo   9449722       253190.675885   \n",
       "\n",
       "   Weeks_Present  \n",
       "0             32  \n",
       "1             27  \n",
       "2             21  \n",
       "3             13  \n",
       "4             23  "
      ]
     },
     "metadata": {},
     "output_type": "display_data"
    }
   ],
   "source": [
    "agg_track_weekly = df.groupby(['week', 'artistName', 'trackName']).agg(\n",
    "    msPlayed=('msPlayed', 'sum')\n",
    ").reset_index()\n",
    "\n",
    "all_weeks = df['week'].astype(str).unique().tolist()\n",
    "\n",
    "week_numbers_list = []\n",
    "\n",
    "# Create pairs of (Original Month String, Sequential Number)\n",
    "for week, i in zip(all_weeks, range(1, len(all_weeks) + 1)):  week_numbers_list.append([week, i])\n",
    "\n",
    "week_to_number_map = dict(week_numbers_list)\n",
    "\n",
    "agg_track_weekly['sequential_week'] = agg_track_weekly['week'].astype(str).map(week_to_number_map)\n",
    "\n",
    "# 1. Pivotear la data para crear la Serie Temporal Completa\n",
    "#   - Índice: Tracks (Canción y Artista)\n",
    "#   - Columnas: Semanas (37)\n",
    "#   - .fillna(0) es CRUCIAL: Convierte las semanas de AUSENCIA en 0 msPlayed,\n",
    "#     penalizando la falta de constancia en el suavizado.\n",
    "track_time_series = agg_track_weekly.pivot_table(\n",
    "    index=['artistName', 'trackName'],\n",
    "    columns='sequential_week',\n",
    "    values='msPlayed'\n",
    ").fillna(0)\n",
    "\n",
    "\n",
    "# 2. Apply the Exponential Weighted Moving Average (SES) row-wise\n",
    "# Assign 30% weight to the current week and 70% weight to history.\n",
    "alpha = 0.3\n",
    "\n",
    "# Transpose the table so that the weeks serve as the index, and calculate the smoothing sequentially over time.\n",
    "smoothed_time_series = track_time_series.T.ewm(\n",
    "    alpha=alpha,\n",
    "    adjust=False\n",
    ").mean().T # Transpose back to the original format\n",
    "\n",
    "# 3. Consolidate the Consistency Ranking\n",
    "\n",
    "# Calculate the average smoothed level over the weeks.\n",
    "final_ranking = smoothed_time_series.mean(axis=1).reset_index(name='Avg_Smoothed_Level')\n",
    "\n",
    "# 4. Add metrics for comparison (Total msPlayed and Weeks Presented)\n",
    "\n",
    "# Total msPlayed (for comparison with the global top)\n",
    "total_minutes = agg_track_weekly.groupby(['artistName', 'trackName']).agg(\n",
    "    msPlayed=('msPlayed', 'sum')\n",
    ").reset_index()\n",
    "\n",
    "final_ranking = pd.merge(\n",
    "    final_ranking,\n",
    "    total_minutes,\n",
    "    on=['artistName', 'trackName']\n",
    ")\n",
    "\n",
    "# Present Weeks (to verify consistency)\n",
    "weeks_present = agg_track_weekly.groupby(['artistName', 'trackName'])['week'].count().reset_index(name='Weeks_Present')\n",
    "final_ranking = pd.merge(final_ranking, weeks_present, on=['artistName', 'trackName'])\n",
    "\n",
    "top_constant_tracks = final_ranking.sort_values(\n",
    "    by='Avg_Smoothed_Level',\n",
    "    ascending=False\n",
    ").head(5).reset_index()\n",
    "\n",
    "\n",
    "print(\"\\n#### Top 5 Constant Tracks (using SES) ####\")\n",
    "display(top_constant_tracks[\n",
    "    ['artistName', 'trackName', 'msPlayed', 'Avg_Smoothed_Level', 'Weeks_Present']\n",
    "])"
   ]
  },
  {
   "cell_type": "markdown",
   "metadata": {},
   "source": [
    "#### Is \"Sueles Dejarme Solo\" one of my most consistently listened to tracks?"
   ]
  },
  {
   "cell_type": "code",
   "execution_count": 127,
   "metadata": {},
   "outputs": [
    {
     "data": {
      "image/png": "[encoded data removed]",
      "text/plain": [
       "<Figure size 1008x360 with 1 Axes>"
      ]
     },
     "metadata": {
      "needs_background": "light"
     },
     "output_type": "display_data"
    },
    {
     "name": "stdout",
     "output_type": "stream",
     "text": [
      "\n",
      "Is 'Sueles Dejarme Solo' one of my most consistently listened to tracks?\n",
      "'Sueles Dejarme Solo' completely disappears from weekly listeners after week 13.\n"
     ]
    }
   ],
   "source": [
    "# a) Extract the smoothed series of the track\n",
    "soda_stereo_smoothed = smoothed_time_series.loc[('Soda Stereo', 'Sueles Dejarme Solo - Remasterizado 2007')]\n",
    "\n",
    "soda_stereo_df = soda_stereo_smoothed.reset_index()\n",
    "soda_stereo_df.columns = ['sequential_week', 'Smoothed_Level']\n",
    "soda_stereo_df[\"artistName\"] = \"Soda Stereo\"\n",
    "\n",
    "# b) Extract the weekly playback history of the track\n",
    "soda_stereo_weekly = agg_track_weekly[\n",
    "    (agg_track_weekly[\"artistName\"] == \"Soda Stereo\") & \n",
    "    (agg_track_weekly[\"trackName\"] == \"Sueles Dejarme Solo - Remasterizado 2007\")]\n",
    "\n",
    "soda_stereo_weekly = soda_stereo_weekly[['sequential_week', 'msPlayed']]\n",
    "\n",
    "# c) Merge the series \n",
    "combined_soda_stereo = pd.merge(\n",
    "    soda_stereo_df,\n",
    "    soda_stereo_weekly,\n",
    "    on='sequential_week',\n",
    "    how='left'  # Ensure all rows in soda_stereo_df are preserved\n",
    ")\n",
    "\n",
    "# d) Fill missing values (NaN) in the 'msPlayed' column with zero for the weeks without any listening activity\n",
    "combined_soda_stereo['msPlayed_Real'] = combined_soda_stereo['msPlayed'].fillna(0)\n",
    "\n",
    "# Convert msPlayed to minutes\n",
    "combined_soda_stereo['Min_Real'] = combined_soda_stereo['msPlayed_Real'] / 60000\n",
    "combined_soda_stereo['Min_Smoothed'] = combined_soda_stereo['Smoothed_Level'] / 60000\n",
    "\n",
    "\n",
    "\n",
    "## Chart Weekly Listening Trend ##\n",
    "\n",
    "plt.figure(figsize=(14, 5))\n",
    "\n",
    "# Listening Line (Volatility and Spikes)\n",
    "snsv.lineplot(x='sequential_week', y='Min_Real', data=combined_soda_stereo, \n",
    "             label='Minutes Played (Peak Listening)', \n",
    "             color='red', \n",
    "             alpha=0.4, \n",
    "             linewidth=2)\n",
    "\n",
    "# Smoothing Level Line (Constancy/Inertia)\n",
    "snsv.lineplot(x='sequential_week', y='Min_Smoothed', data=combined_soda_stereo, \n",
    "             label=f'Smoothing Level (Constancy,  $\\\\alpha=0.3$)', \n",
    "             color='darkblue', \n",
    "             linewidth=3)\n",
    "\n",
    "title_text = f'Weekly Listening Trend: Soda Stereo - Sueles Dejarme Solo - Remasterizado 2007'\n",
    "plt.title(title_text)\n",
    "plt.xlabel(\"Weeks\")\n",
    "plt.ylabel(\"Minutes Listened\")\n",
    "plt.xticks(np.arange(1, 38, 4)) # Marks every 4 weeks\n",
    "plt.grid(True, linestyle='--', alpha=0.6)\n",
    "plt.legend(loc='upper right')\n",
    "plt.tight_layout()\n",
    "\n",
    "\n",
    "plt.show()\n",
    "\n",
    "\n",
    "print(\"\\nIs 'Sueles Dejarme Solo' one of my most consistently listened to tracks?\")\n",
    "print(\"'Sueles Dejarme Solo' completely disappears from weekly listeners after week 13.\")"
   ]
  },
  {
   "cell_type": "markdown",
   "metadata": {},
   "source": [
    "The track \"Sueles Dejarme Solo\" sees a nearly complete drop in my weekly listeners after week 13. The total number of streams over those weeks creates a pronounced **\"tail\" in the smoothed average**, which surpasses many songs that have been listened to more consistently throughout the year. So, it stands out as an **outlier** at the top of the list of consistently popular songs.\n",
    "\n",
    "In **conclusion**, when using only the SES model, **outliers continue to drop out of the top constant listened rankings**."
   ]
  },
  {
   "cell_type": "markdown",
   "metadata": {},
   "source": [
    "After several attempts, it was decided to use a model to measure and rank **consistency, volatility, and relevance:**\n",
    "\n",
    "$$\\mathbf{P_{Final}} = S_{t_{\\text{norm}}} \\times \\left( \\frac{1}{1 + \\sigma_{\\text{norm}}} \\right) \\times (\\text{Total}_{\\text{norm}}) \\times \\text{Decay}_{\\text{Factor}}$$\n",
    "\n",
    "The steps outlined below explain the implementation process and provide the rationale for each model parameter."
   ]
  },
  {
   "cell_type": "markdown",
   "metadata": {},
   "source": [
    "#### 1. Constructing the Weekly Time Series\n",
    "\n",
    "This step is necessary for calculating the Volatility ($\\sigma$) and the Decay Factor."
   ]
  },
  {
   "cell_type": "code",
   "execution_count": 128,
   "metadata": {},
   "outputs": [],
   "source": [
    "# 1. Unpivot and create the Weekly Listening Time Series (including weeks without listening)\n",
    "real_time_series_long = track_time_series.reset_index().melt(\n",
    "    id_vars=['artistName', 'trackName'],\n",
    "    var_name='sequential_week',\n",
    "    value_name='msPlayed'\n",
    ")\n",
    "\n",
    "# 2. Unpivot and create the Smoothed Time Series\n",
    "smoothed_time_series_long = smoothed_time_series.reset_index().melt(\n",
    "    id_vars=['artistName', 'trackName'],\n",
    "    var_name='sequential_week',\n",
    "    value_name='Smoothed_Level'\n",
    ")\n",
    "\n",
    "# 3. Join both series in the dataframe\n",
    "ranking_by_inertia = pd.merge(\n",
    "    real_time_series_long,\n",
    "    smoothed_time_series_long,\n",
    "    on=['artistName', 'trackName', 'sequential_week']\n",
    ")"
   ]
  },
  {
   "cell_type": "markdown",
   "metadata": {},
   "source": [
    "#### 2. Calculation of the Volatility (Sigma)\n",
    "\n",
    "In this step, you need to calculate the standard deviation of weekly listening time (msPlayed) for each song.\n",
    "\n",
    "**What is standard deviation?**\n",
    "\n",
    "The standard deviation measures **how far individual values** in a data set typically deviate from the mean (average).\n",
    "\n",
    "- A **high standard deviation** (σ) indicates that the data points are widely dispersed and far from the average, suggesting **high volatility** or inconsistent patterns.\n",
    "- A **low standard deviation** (σ) shows that the data points are close to the average, indicating **low volatility** or consistent patterns.\n",
    "\n",
    "**In this case, a low standard deviation is desirable because it reflects a regular consumption pattern.**\n",
    "\n",
    "**Summary:** This step assesses **how inconsistently** each song is listened to every week."
   ]
  },
  {
   "cell_type": "code",
   "execution_count": 129,
   "metadata": {},
   "outputs": [],
   "source": [
    "# 1. Calculate the standard deviation (Sigma) of actual listening\n",
    "volatility_df = ranking_by_inertia.groupby(['artistName', 'trackName']).agg(\n",
    "    Sigma=('msPlayed', 'std')\n",
    ").reset_index()\n",
    "\n",
    "# 2. Join this metric to the main dataframe\n",
    "final_ranking = pd.merge(\n",
    "    final_ranking,\n",
    "    volatility_df,\n",
    "    on=['artistName', 'trackName'],\n",
    "    how='left'\n",
    ")"
   ]
  },
  {
   "cell_type": "markdown",
   "metadata": {},
   "source": [
    "**3. Calculate the Decay Factor**\n",
    "\n",
    "This calculation is used to penalize a sustained decrease in consumption toward the end of the analysis period.\n",
    "\n",
    "The decay factor is determined by comparing the maximum level of stability a song has reached (its smoothed peak) with its current level of stability (its value from the last week).\n",
    "\n",
    "**How does the penalty work?**\n",
    "\n",
    "- If consumption remains constant and has not decreased, the final value ($St_{final}$) will be very close to its peak ($St_{peak}$). In this case, the decay factor will be close to 1, meaning the final score is not penalized.\n",
    "\n",
    "- Conversely, if a song experienced high consumption at the beginning but was completely abandoned later (resulting in the final value being almost zero or very low), the decay factor will be very small, leading to a significant penalty on the final score. \n",
    "\n",
    "This calculation should penalize songs like the Soda Stereo song, where consumption peaked early, and the final value dropped close to zero."
   ]
  },
  {
   "cell_type": "code",
   "execution_count": 130,
   "metadata": {},
   "outputs": [],
   "source": [
    "# --- Calculate the Decay Factor ---\n",
    "\n",
    "# 1. Determine the final and peak values for each track (St_final and St_peak).\n",
    "decay_metrics = ranking_by_inertia.groupby(['artistName', 'trackName']).agg(\n",
    "    St_final=('Smoothed_Level', 'last'),\n",
    "    St_peak=('Smoothed_Level', 'max')\n",
    ").reset_index()\n",
    "\n",
    "# 2. Calculate the Decay Factor and apply a lower bound to clip the values.\n",
    "decay_metrics['Decay_Factor'] = (\n",
    "    decay_metrics['St_final'] / decay_metrics['St_peak']\n",
    ").clip(lower=0.1) # avoid division by zero\n",
    "\n",
    "# 3. Merge the Decay Factor into the main data frame.\n",
    "final_ranking = pd.merge(\n",
    "    final_ranking,\n",
    "    decay_metrics[['artistName', 'trackName', 'Decay_Factor']],\n",
    "    on=['artistName', 'trackName'],\n",
    "    how='left'\n",
    ")"
   ]
  },
  {
   "cell_type": "markdown",
   "metadata": {},
   "source": [
    "#### 4. Normalization####\n",
    "\n",
    "Normalization converts the original values—such as \"msPlayed\" in milliseconds, which can range from 0 to 1,000,000—into a new scale that ranges from **0 to 1.**\n",
    "\n",
    "Without normalization, the metric with the largest absolute value (likely msPlayed) **would overshadow the others**, rendering SES and σ irrelevant.\n",
    "\n",
    "The **Min-Max Scaling** technique will be used.\n",
    "\n",
    "**Normalization Logic:**\n",
    "\n",
    "- A value of 1 indicates the **highest stability** in habits or the **loudest listening volume** across the entire data frame.\n",
    "\n",
    "- A value of 0 signifies the **highest volatility**, representing the most erratic pattern in the entire data frame."
   ]
  },
  {
   "cell_type": "code",
   "execution_count": 131,
   "metadata": {},
   "outputs": [],
   "source": [
    "# --- Normalization ---\n",
    "\n",
    "# 1. Normalize SES (Quality Base) - Maximum is better\n",
    "final_ranking['St_norm'] = (\n",
    "    final_ranking['Avg_Smoothed_Level'] - final_ranking['Avg_Smoothed_Level'].min()\n",
    ") / (\n",
    "    final_ranking['Avg_Smoothed_Level'].max() - final_ranking['Avg_Smoothed_Level'].min()\n",
    ")\n",
    "\n",
    "# 1. Normalize Total (Relevance Factor) - Máximum is better\n",
    "final_ranking['Total_norm'] = (\n",
    "    final_ranking['msPlayed'] - final_ranking['msPlayed'].min()\n",
    ") / (\n",
    "    final_ranking['msPlayed'].max() - final_ranking['msPlayed'].min()\n",
    ")\n",
    "\n",
    "# 2. Normalize Sigma (Volatility) - Minimum is better\n",
    "final_ranking['Sigma_norm'] = (\n",
    "    final_ranking['Sigma'] - final_ranking['Sigma'].min()\n",
    ") / (\n",
    "    final_ranking['Sigma'].max() - final_ranking['Sigma'].min()\n",
    ")\n",
    "\n",
    "# The penalty logic will be applied in the final formula, not in this section."
   ]
  },
  {
   "cell_type": "markdown",
   "metadata": {},
   "source": [
    "#### Calculation of the Final Score ($P_{Final}$)\n",
    "\n",
    "\n",
    "$$\\mathbf{P_{Final}} = S_{t_{\\text{norm}}} \\times \\left( \\frac{1}{1 + \\sigma_{\\text{norm}}} \\right) \\times (\\text{Total}_{\\text{norm}}) \\times \\text{Decay}_{\\text{Factor}}$$\n",
    "\n",
    "#### Formula explanation:\n",
    "\n",
    "| Symbol | Component | Function in the Model |\n",
    "| :--- | :--- | :--- |\n",
    "| $\\mathbf{P_{Final}}$ | Final Score | The **Adjusted Ranking** for Sustained Consistency. |\n",
    "| $S_{t_{\\text{norm}}}$ | **Quality Base (SES)** | Measures **Inertia** and **Habit Stability** (the quality of the pattern). |\n",
    "| $\\sigma_{\\text{norm}}$ | **Volatility (Standard Deviation)** | Measures the **Risk** that consumption was impulsive or erratic. |\n",
    "| $\\left( \\frac{1}{1 + \\sigma_{\\text{norm}}} \\right)$ | **Risk Factor** | The **Discount** that directly penalizes the volatile artist. |\n",
    "| $\\text{Total}_{\\text{norm}}$ | **Relevance Factor** | Ensures the artist has the **Minimum Volume** necessary to compete.\n",
    "| $\\text{Decay}_{\\text{Factor}}$ | **Decay Penalty Factor** | Penalizes the habit's sustained **abandonment**.\n",
    "\n",
    "The result of this calculation will reward only songs that demonstrate **high pattern quality** ($S_t$), **low volatility** (low $\\sigma$), **high consumption** (total), and **no sustained dropout** (High $Decay_{Factor}$)."
   ]
  },
  {
   "cell_type": "code",
   "execution_count": 132,
   "metadata": {},
   "outputs": [],
   "source": [
    "# --- Final Calculation ---\n",
    "\n",
    "# P_Final = St_norm * (1 / (1 + Sigma_norm)) * Total_norm * Decay_Factor\n",
    "final_ranking['P_Final'] = (\n",
    "    final_ranking['St_norm'] *                 # Quality Base (Inertia)\n",
    "    (1 / (1 + final_ranking['Sigma_norm'])) *  # Risk Factor (Volatility Penalty)\n",
    "    final_ranking['Total_norm'] *              # Relevance Factor (Minimum Volume) \n",
    "    final_ranking['Decay_Factor']              # Decay Penalty (Recent Abandonment)\n",
    ")\n",
    "\n",
    "# Generate the Final Ranking\n",
    "top_triple_filter_tracks = final_ranking.sort_values(\n",
    "    by=['P_Final',\"Total_norm\"],\n",
    "    ascending=[False,False]\n",
    ")"
   ]
  },
  {
   "cell_type": "code",
   "execution_count": 133,
   "metadata": {},
   "outputs": [
    {
     "name": "stdout",
     "output_type": "stream",
     "text": [
      "\n",
      "#### Final Ranking: Top Tracks Based on Sustained Habit Score ####\n"
     ]
    },
    {
     "data": {
      "text/html": [
       "<div>\n",
       "<style scoped>\n",
       "    .dataframe tbody tr th:only-of-type {\n",
       "        vertical-align: middle;\n",
       "    }\n",
       "\n",
       "    .dataframe tbody tr th {\n",
       "        vertical-align: top;\n",
       "    }\n",
       "\n",
       "    .dataframe thead th {\n",
       "        text-align: right;\n",
       "    }\n",
       "</style>\n",
       "<table border=\"1\" class=\"dataframe\">\n",
       "  <thead>\n",
       "    <tr style=\"text-align: right;\">\n",
       "      <th></th>\n",
       "      <th>artistName</th>\n",
       "      <th>trackName</th>\n",
       "      <th>Weeks_Present</th>\n",
       "      <th>P_Final</th>\n",
       "      <th>St_norm</th>\n",
       "      <th>Sigma_norm</th>\n",
       "      <th>Decay_Factor</th>\n",
       "      <th>msPlayed</th>\n",
       "    </tr>\n",
       "  </thead>\n",
       "  <tbody>\n",
       "    <tr>\n",
       "      <td>0</td>\n",
       "      <td>The Smiths</td>\n",
       "      <td>This Charming Man - 2011 Remaster</td>\n",
       "      <td>32</td>\n",
       "      <td>0.066627</td>\n",
       "      <td>1.000000</td>\n",
       "      <td>0.500896</td>\n",
       "      <td>0.100000</td>\n",
       "      <td>11196482</td>\n",
       "    </tr>\n",
       "    <tr>\n",
       "      <td>1</td>\n",
       "      <td>Oasis</td>\n",
       "      <td>Supersonic - Remastered</td>\n",
       "      <td>27</td>\n",
       "      <td>0.053205</td>\n",
       "      <td>0.904992</td>\n",
       "      <td>0.483381</td>\n",
       "      <td>0.100000</td>\n",
       "      <td>9764319</td>\n",
       "    </tr>\n",
       "    <tr>\n",
       "      <td>2</td>\n",
       "      <td>The Beatles</td>\n",
       "      <td>I Saw Her Standing There - 2023 Mix</td>\n",
       "      <td>21</td>\n",
       "      <td>0.042241</td>\n",
       "      <td>0.510018</td>\n",
       "      <td>0.378753</td>\n",
       "      <td>0.171333</td>\n",
       "      <td>7462351</td>\n",
       "    </tr>\n",
       "    <tr>\n",
       "      <td>3</td>\n",
       "      <td>The Beatles</td>\n",
       "      <td>Hey Jude - Remastered 2015</td>\n",
       "      <td>21</td>\n",
       "      <td>0.040858</td>\n",
       "      <td>0.573903</td>\n",
       "      <td>0.548469</td>\n",
       "      <td>0.147188</td>\n",
       "      <td>8385826</td>\n",
       "    </tr>\n",
       "    <tr>\n",
       "      <td>4</td>\n",
       "      <td>Los Fundamentalistas del Aire Acondicionado</td>\n",
       "      <td>Mi Genio Amor - En Vivo</td>\n",
       "      <td>23</td>\n",
       "      <td>0.035644</td>\n",
       "      <td>0.660503</td>\n",
       "      <td>0.563972</td>\n",
       "      <td>0.100000</td>\n",
       "      <td>9449722</td>\n",
       "    </tr>\n",
       "  </tbody>\n",
       "</table>\n",
       "</div>"
      ],
      "text/plain": [
       "                                    artistName  \\\n",
       "0                                   The Smiths   \n",
       "1                                        Oasis   \n",
       "2                                  The Beatles   \n",
       "3                                  The Beatles   \n",
       "4  Los Fundamentalistas del Aire Acondicionado   \n",
       "\n",
       "                             trackName  Weeks_Present   P_Final   St_norm  \\\n",
       "0    This Charming Man - 2011 Remaster             32  0.066627  1.000000   \n",
       "1              Supersonic - Remastered             27  0.053205  0.904992   \n",
       "2  I Saw Her Standing There - 2023 Mix             21  0.042241  0.510018   \n",
       "3           Hey Jude - Remastered 2015             21  0.040858  0.573903   \n",
       "4              Mi Genio Amor - En Vivo             23  0.035644  0.660503   \n",
       "\n",
       "   Sigma_norm  Decay_Factor  msPlayed  \n",
       "0    0.500896      0.100000  11196482  \n",
       "1    0.483381      0.100000   9764319  \n",
       "2    0.378753      0.171333   7462351  \n",
       "3    0.548469      0.147188   8385826  \n",
       "4    0.563972      0.100000   9449722  "
      ]
     },
     "metadata": {},
     "output_type": "display_data"
    }
   ],
   "source": [
    "print(\"\\n#### Final Ranking: Top Tracks Based on Sustained Habit Score ####\")\n",
    "display(top_triple_filter_tracks[\n",
    "    ['artistName',\n",
    "     'trackName',\n",
    "     'Weeks_Present',\n",
    "     'P_Final',\n",
    "     'St_norm',\n",
    "     'Sigma_norm',\n",
    "     'Decay_Factor',\n",
    "     'msPlayed',\n",
    "    ]\n",
    "].head(5).reset_index(drop=True))"
   ]
  },
  {
   "cell_type": "markdown",
   "metadata": {},
   "source": [
    "**Why were these parameters used in the calculation?**\n",
    "\n",
    "**Simple Exponential Smoothing (SES)**:\n",
    "- **Disadvantage**: While SES smooths out peaks, it does not penalize them adequately. This means that a track known for its volatility may still exhibit a pronounced historical trend in cumulative consumption.\n",
    "\n",
    "**Penalizing Volatility with Standard Deviation (σ)**:\n",
    "- **Advantage**: The standard deviation is a direct measure of volatility.\n",
    "- **Disadvantage**: Consistency does not equal relevance. Using the standard deviation alone does not ensure that a track is genuinely significant. For instance, a track with a perfectly consistent pattern, even if it has very low consumption levels, could still rank highly.\n",
    "\n",
    "**Total (Sum of msPlayed)**:\n",
    "- **Advantage**: This metric helps ensure that consistency remains at a relevant level.\n",
    "\n",
    "Although the parameters addressed issues of **volatility** (σ) and **irrelevance** (total), an unresolved problem emerged: **Abandonment**.\n",
    "\n",
    "For example, a song that had consistent consumption early in the year (like Soda Stereo's \"Sueles Dejarme Solo\") could rank highly because:\n",
    "- It cultivated a **strong initial habit** ($S_t$ high).\n",
    "- Its decline was **smooth** and non-volatile, resulting in a **low risk factor** (σ).\n",
    "\n",
    "The previous parameters rewarded the recall of habits without penalizing prolonged abandonment, which indicates a lack of relevance. \n",
    "\n",
    "To address this, a **decay penalty factor** has been introduced. \n",
    "\n",
    "This adjustment ensures that the maximum score is awarded only to those who demonstrate **high consistency**, **low volatility**, and **no extended periods of abandonment.**"
   ]
  },
  {
   "cell_type": "markdown",
   "metadata": {},
   "source": [
    "#### 📈 Visualization:  Representation of the contribution of the factors to the Sustained Habit Score."
   ]
  },
  {
   "cell_type": "code",
   "execution_count": 134,
   "metadata": {},
   "outputs": [
    {
     "data": {
      "image/png": "[encoded data removed]",
      "text/plain": [
       "<Figure size 864x288 with 1 Axes>"
      ]
     },
     "metadata": {
      "needs_background": "light"
     },
     "output_type": "display_data"
    }
   ],
   "source": [
    "top_tracks = top_triple_filter_tracks.head(5).copy()\n",
    "\n",
    "# Create a column representing the 'Risk Factor' to graph\n",
    "top_tracks['Risk_Factor'] = 1 / (1 + top_tracks['Sigma_norm'])\n",
    "\n",
    "# Select the main factors columns for the chart\n",
    "plot_data = top_tracks[[\n",
    "    'artistName',\n",
    "    'trackName',\n",
    "    'St_norm',        \n",
    "    'Risk_Factor',    \n",
    "    'Decay_Factor'    \n",
    "]].copy()\n",
    "\n",
    "# # Remove redundant columns and prepare \"long\" format for sns.barplot\n",
    "plot_data = plot_data.melt(\n",
    "    id_vars='trackName',\n",
    "    value_vars=['St_norm', 'Risk_Factor', 'Decay_Factor'],\n",
    "    var_name='Factor',\n",
    "    value_name='Normalized_Value'\n",
    ")\n",
    "\n",
    "\n",
    "# --- Visualization ---\n",
    "\n",
    "\n",
    "plt.figure(figsize=(12, 4))\n",
    "\n",
    "# Map the factor names to the legend\n",
    "factor_mapping = {\n",
    "    'St_norm': '1. Inertia (Pattern Quality)',\n",
    "    'Risk_Factor': '2. Risk (Low Volatility)',\n",
    "    'Decay_Factor': '3. Abandonment (Current Status)'\n",
    "}\n",
    "plot_data['Factor'] = plot_data['Factor'].map(factor_mapping)\n",
    "\n",
    "\n",
    "ax = snsv.barplot(\n",
    "    x='Normalized_Value',\n",
    "    y='trackName',\n",
    "    hue='Factor',\n",
    "    data=plot_data,\n",
    "    palette='viridis',  \n",
    "    dodge=False         \n",
    ")\n",
    "\n",
    "plt.title('Contribution of Factors to the Sustained Habit Score.')\n",
    "plt.xlabel(\"Standardized Value of Each Contribution.\")\n",
    "plt.ylabel(\"Tracks\")\n",
    "plt.legend(title='Model Component', loc='lower right')\n",
    "plt.grid(axis='x', linestyle='--', alpha=0.6)\n",
    "\n",
    "\n",
    "plt.tight_layout()\n",
    "plt.show()"
   ]
  },
  {
   "cell_type": "markdown",
   "metadata": {},
   "source": [
    "#### Analysis of the Contributions of  Factors to the Final Rankings by Tracks:\n",
    "\n",
    "- This Charming Man - 2011 Remaster:\n",
    "\n",
    "| Factor| Normalized Value| Interpretation |   \n",
    "|:---|:---|:--- |\n",
    "| Inertia ($S_t$) |\t1.000 |\tIndicates maximum stability, representing the strongest habit in the data set. |\n",
    "| Risk Factor (Baja σ)| 0.666 | Reflects low risk, suggesting very stable consumption patterns. |\n",
    "| Decay Factor (No Abandonment)| 0.100\t| **Maximum Penalty:** Indicates that the habit was abandoned or was not active at the end. |\n",
    "\n",
    "- Supersonic - Remastered:  \n",
    "\n",
    "| Factor| Normalized Value| Interpretation |     \n",
    "|:---|:---|:--- |\n",
    "| Inertia ($S_t$) |\t0.905 |\tIndicates a very strong habit, slightly weaker than the first one. |\n",
    "| Risk Factor (Low σ)| 0.674 | Represents very low risk; reflects a highly consistent listening pattern. | \n",
    "| Decay Factor (No Abandonment)| 0.100\t| **Maximum Penalty:** This indicates that the habit was either abandoned or not active at the end. |\n",
    "\n",
    "- I Saw Her Standing There - 2023 Mix: \n",
    "\n",
    "| Factor| Normalized Value| Interpretation | \n",
    "|:---|:---|:--- |\n",
    "| Inertia ($S_t$) |\t0.510 |\tIndicates moderate listening habits in terms of volume. |\n",
    "| Risk Factor (Low σ)| 0.725 | **Most consistent.** Demonstrates the **least volatility** (most uniform) in listening patterns among all the songs. |\n",
    "| Decay Factor (No Abandonment)| 0.171\t| Reflects a high penalty; however, it is **slightly better** than the previous two factors due to lower abandonment rates. |\n",
    "\n",
    "- Hey Jude - Remastered 2015:  \n",
    "\n",
    "| Factor| Normalized Value| Interpretation |  \n",
    "|:---|:---|:--- |\n",
    "| Inertia ($S_t$) |\t0.574 |\t Indicates a moderate to strong habit. | \n",
    "| Risk Factor (Low σ)| 0.646 | Represents low risk and a stable pattern. |\n",
    "| Decay Factor (No Abandonment)| 0.147\t| Reflects a high penalty for obvious abandonment. |\n",
    "\n",
    "- Mi Genio Amor - En Vivo:  \n",
    "\n",
    "| Factor| Normalized Value| Interpretation | \n",
    "|:---|:---|:--- |\n",
    "| Inertia ($S_t$) |\t0.661 |\tIndicates a strong habit, surpassing the previous two in terms of volume and inertia. |\n",
    "| Risk Factor (Low σ)| 0.639 | Represents low risk and a stable pattern. |\n",
    "| Decay Factor (No Abandonment)| 0.100\t| **Maximum Penalty:** This indicates that the habit was either abandoned or not active at the end. |"
   ]
  },
  {
   "cell_type": "markdown",
   "metadata": {},
   "source": [
    "#### Key Findings from the Contribution of Factors to the Final Ranking by Tracks.\n",
    "\n",
    "**The Decay Factor is Dominant**\n",
    "- Among the five songs analyzed, the ${Decay}_{Factor}$ is the component significantly **decreasing the** ${P}_{Final}$.\n",
    "- The values of **0.10** (the lower bound set to avoid a total penalty) indicate that these songs were **nearly abandoned** by the end of the weeks.\n",
    "\n",
    "**The Song with the Best Risk Pattern**\n",
    "\n",
    "- **'I Saw Her Standing There'** has the highest $Risk_{Factor}$ of **0.725**, indicating it has the **most consistent and least volatile** weekly listening pattern among the five songs.\n",
    "\n",
    "**The Correlation Problem**\n",
    "\n",
    "- The fact that \"This Charming Man\" and \"Supersonic\" have $S_{t \\text{ norm}}$ values of 1.0 and 0.9, respectively, shows they exhibited a strong habit inertia. However, the level of abandonment was so complete that they both fell to the minimum penalty value."
   ]
  },
  {
   "cell_type": "markdown",
   "metadata": {},
   "source": [
    "#### Apply Sustained Habit Score to the Artists"
   ]
  },
  {
   "cell_type": "code",
   "execution_count": 135,
   "metadata": {},
   "outputs": [],
   "source": [
    "# --- Simple Exponential Smoothing (SES) ---\n",
    "\n",
    "\n",
    "agg_artist_weekly = df.groupby(['week', 'artistName']).agg(\n",
    "    msPlayed=('msPlayed', 'sum')\n",
    ").reset_index()\n",
    "\n",
    "all_weeks = df['week'].astype(str).unique().tolist()\n",
    "\n",
    "week_numbers_list = []\n",
    "\n",
    "# Create pairs of (Original Month String, Sequential Number)\n",
    "for week, i in zip(all_weeks, range(1, len(all_weeks) + 1)):  week_numbers_list.append([week, i])\n",
    "\n",
    "week_to_number_map = dict(week_numbers_list)\n",
    "\n",
    "agg_artist_weekly['sequential_week'] = agg_artist_weekly['week'].astype(str).map(week_to_number_map)\n",
    "\n",
    "# 1. Pivotear la data para crear la Serie Temporal Completa\n",
    "artist_time_series = agg_artist_weekly.pivot_table(\n",
    "    index='artistName',\n",
    "    columns='sequential_week',\n",
    "    values='msPlayed'\n",
    ").fillna(0)\n",
    "\n",
    "\n",
    "# 2. Apply the Exponential Weighted Moving Average (SES) row-wise\n",
    "# Assign 30% weight to the current week and 70% weight to history.\n",
    "alpha = 0.3\n",
    "\n",
    "# Transpose the table so that the weeks serve as the index, and calculate the smoothing sequentially over time.\n",
    "smoothed_time_series = artist_time_series.T.ewm(\n",
    "    alpha=alpha,\n",
    "    adjust=False\n",
    ").mean().T # Transpose back to the original format\n",
    "\n",
    "# 3. Consolidate the Consistency Ranking\n",
    "\n",
    "# Calculate the average smoothed level over the weeks.\n",
    "final_ranking = smoothed_time_series.mean(axis=1).reset_index(name='Avg_Smoothed_Level')\n",
    "\n",
    "# 4. Add metrics for comparison (Total msPlayed and Weeks Presented)\n",
    "\n",
    "# Total msPlayed (for comparison with the global top)\n",
    "total_minutes = agg_artist_weekly.groupby(['artistName']).agg(\n",
    "    msPlayed=('msPlayed', 'sum')\n",
    ").reset_index()\n",
    "\n",
    "final_ranking = pd.merge(\n",
    "    final_ranking,\n",
    "    total_minutes,\n",
    "    on=['artistName']\n",
    ")\n",
    "\n",
    "# Present Weeks (to verify consistency)\n",
    "weeks_present = agg_artist_weekly.groupby(['artistName'])['week'].count().reset_index(name='Weeks_Present')\n",
    "final_ranking = pd.merge(final_ranking, weeks_present, on=['artistName'])\n",
    "\n",
    "\n",
    "# --- Constructing the Weekly Time Series --- \n",
    "\n",
    "\n",
    "# 1. Unpivot and create the Weekly Listening Time Series (including weeks without listening)\n",
    "real_time_series_long = artist_time_series.reset_index().melt(\n",
    "    id_vars='artistName',\n",
    "    var_name='sequential_week',\n",
    "    value_name='msPlayed'\n",
    ")\n",
    "\n",
    "# 2. Unpivot and create the Smoothed Time Series\n",
    "smoothed_time_series_long = smoothed_time_series.reset_index().melt(\n",
    "    id_vars='artistName',\n",
    "    var_name='sequential_week',\n",
    "    value_name='Smoothed_Level'\n",
    ")\n",
    "\n",
    "# 3. Join both series in the dataframe\n",
    "ranking_by_inertia = pd.merge(\n",
    "    real_time_series_long,\n",
    "    smoothed_time_series_long,\n",
    "    on=['artistName','sequential_week']\n",
    ")\n",
    "\n",
    "\n",
    "# --- Calculation of the Volatility --- \n",
    "\n",
    "\n",
    "# 1. Calculate the standard deviation (Sigma) of actual listening\n",
    "volatility_df = ranking_by_inertia.groupby(['artistName']).agg(\n",
    "    Sigma=('msPlayed', 'std')\n",
    ").reset_index()\n",
    "\n",
    "# 2. Join this metric to the main dataframe\n",
    "final_ranking = pd.merge(\n",
    "    final_ranking,\n",
    "    volatility_df,\n",
    "    on=['artistName'],\n",
    "    how='left'\n",
    ")\n",
    "\n",
    "\n",
    "# --- Calculate the Decay Factor ---\n",
    "\n",
    "\n",
    "# 1. Determine the final and peak values for each track (St_final and St_peak).\n",
    "decay_metrics = ranking_by_inertia.groupby(['artistName']).agg(\n",
    "    St_final=('Smoothed_Level', 'last'),\n",
    "    St_peak=('Smoothed_Level', 'max')\n",
    ").reset_index()\n",
    "\n",
    "# 2. Calculate the Decay Factor and apply a lower bound to clip the values.\n",
    "decay_metrics['Decay_Factor'] = (\n",
    "    decay_metrics['St_final'] / decay_metrics['St_peak']\n",
    ").clip(lower=0.1) # avoid division by zero\n",
    "\n",
    "# 3. Merge the Decay Factor into the main data frame.\n",
    "final_ranking = pd.merge(\n",
    "    final_ranking,\n",
    "    decay_metrics[['artistName', 'Decay_Factor']],\n",
    "    on=['artistName'],\n",
    "    how='left'\n",
    ")\n",
    "\n",
    "\n",
    "# --- Normalization ---\n",
    "\n",
    "\n",
    "# 1. Normalize SES (Quality Base) - Maximum is better\n",
    "final_ranking['St_norm'] = (\n",
    "    final_ranking['Avg_Smoothed_Level'] - final_ranking['Avg_Smoothed_Level'].min()\n",
    ") / (\n",
    "    final_ranking['Avg_Smoothed_Level'].max() - final_ranking['Avg_Smoothed_Level'].min()\n",
    ")\n",
    "\n",
    "# 1. Normalize Total (Relevance Factor) - Máximum is better\n",
    "final_ranking['Total_norm'] = (\n",
    "    final_ranking['msPlayed'] - final_ranking['msPlayed'].min()\n",
    ") / (\n",
    "    final_ranking['msPlayed'].max() - final_ranking['msPlayed'].min()\n",
    ")\n",
    "\n",
    "# 2. Normalize Sigma (Volatility) - Minimum is better\n",
    "final_ranking['Sigma_norm'] = (\n",
    "    final_ranking['Sigma'] - final_ranking['Sigma'].min()\n",
    ") / (\n",
    "    final_ranking['Sigma'].max() - final_ranking['Sigma'].min()\n",
    ")\n",
    "\n",
    "# The penalty logic will be applied in the final formula, not in this section.\n",
    "\n",
    "\n",
    "# --- Final Calculation ---\n",
    "\n",
    "\n",
    "# P_Final = St_norm * (1 / (1 + Sigma_norm)) * Total_norm * Decay_Factor\n",
    "final_ranking['P_Final'] = (\n",
    "    final_ranking['St_norm'] *                 # Quality Base (Inertia)\n",
    "    (1 / (1 + final_ranking['Sigma_norm'])) *  # Risk Factor (Volatility Penalty)\n",
    "    final_ranking['Total_norm'] *              # Relevance Factor (Minimum Volume) \n",
    "    final_ranking['Decay_Factor']              # Decay Penalty (Recent Abandonment)\n",
    ")\n",
    "\n",
    "# Generate the Final Ranking\n",
    "top_triple_filter_artists = final_ranking.sort_values(\n",
    "    by=['P_Final',\"Total_norm\"],\n",
    "    ascending=[False,False]\n",
    ")"
   ]
  },
  {
   "cell_type": "markdown",
   "metadata": {},
   "source": [
    "#### How do the lists of top artists by msPlayed and top artists by Sustained Habit Score differ?\n",
    "Compare the differences between the two lists."
   ]
  },
  {
   "cell_type": "code",
   "execution_count": 150,
   "metadata": {},
   "outputs": [
    {
     "name": "stdout",
     "output_type": "stream",
     "text": [
      "\n",
      "#### Top Artist Based on msPlayed  ####\n"
     ]
    },
    {
     "data": {
      "text/html": [
       "<div>\n",
       "<style scoped>\n",
       "    .dataframe tbody tr th:only-of-type {\n",
       "        vertical-align: middle;\n",
       "    }\n",
       "\n",
       "    .dataframe tbody tr th {\n",
       "        vertical-align: top;\n",
       "    }\n",
       "\n",
       "    .dataframe thead th {\n",
       "        text-align: right;\n",
       "    }\n",
       "</style>\n",
       "<table border=\"1\" class=\"dataframe\">\n",
       "  <thead>\n",
       "    <tr style=\"text-align: right;\">\n",
       "      <th></th>\n",
       "      <th>artistName</th>\n",
       "      <th>msPlayed</th>\n",
       "    </tr>\n",
       "  </thead>\n",
       "  <tbody>\n",
       "    <tr>\n",
       "      <td>0</td>\n",
       "      <td>The Beatles</td>\n",
       "      <td>328495363</td>\n",
       "    </tr>\n",
       "    <tr>\n",
       "      <td>1</td>\n",
       "      <td>Thee Michelle Gun Elephant</td>\n",
       "      <td>91063035</td>\n",
       "    </tr>\n",
       "    <tr>\n",
       "      <td>2</td>\n",
       "      <td>Patricio Rey y sus Redonditos de Ricota</td>\n",
       "      <td>83118557</td>\n",
       "    </tr>\n",
       "    <tr>\n",
       "      <td>3</td>\n",
       "      <td>Radiohead</td>\n",
       "      <td>56969054</td>\n",
       "    </tr>\n",
       "    <tr>\n",
       "      <td>4</td>\n",
       "      <td>The Smiths</td>\n",
       "      <td>55725821</td>\n",
       "    </tr>\n",
       "  </tbody>\n",
       "</table>\n",
       "</div>"
      ],
      "text/plain": [
       "                                artistName   msPlayed\n",
       "0                              The Beatles  328495363\n",
       "1               Thee Michelle Gun Elephant   91063035\n",
       "2  Patricio Rey y sus Redonditos de Ricota   83118557\n",
       "3                                Radiohead   56969054\n",
       "4                               The Smiths   55725821"
      ]
     },
     "metadata": {},
     "output_type": "display_data"
    },
    {
     "name": "stdout",
     "output_type": "stream",
     "text": [
      "\n",
      "#### Top Artists Based on Sustained Habit Score ####\n"
     ]
    },
    {
     "data": {
      "text/html": [
       "<div>\n",
       "<style scoped>\n",
       "    .dataframe tbody tr th:only-of-type {\n",
       "        vertical-align: middle;\n",
       "    }\n",
       "\n",
       "    .dataframe tbody tr th {\n",
       "        vertical-align: top;\n",
       "    }\n",
       "\n",
       "    .dataframe thead th {\n",
       "        text-align: right;\n",
       "    }\n",
       "</style>\n",
       "<table border=\"1\" class=\"dataframe\">\n",
       "  <thead>\n",
       "    <tr style=\"text-align: right;\">\n",
       "      <th></th>\n",
       "      <th>artistName</th>\n",
       "      <th>Weeks_Present</th>\n",
       "      <th>P_Final</th>\n",
       "      <th>St_norm</th>\n",
       "      <th>Sigma_norm</th>\n",
       "      <th>Decay_Factor</th>\n",
       "      <th>msPlayed</th>\n",
       "    </tr>\n",
       "  </thead>\n",
       "  <tbody>\n",
       "    <tr>\n",
       "      <td>0</td>\n",
       "      <td>The Beatles</td>\n",
       "      <td>34</td>\n",
       "      <td>0.112674</td>\n",
       "      <td>1.000000</td>\n",
       "      <td>1.000000</td>\n",
       "      <td>0.225348</td>\n",
       "      <td>328495363</td>\n",
       "    </tr>\n",
       "    <tr>\n",
       "      <td>1</td>\n",
       "      <td>Thee Michelle Gun Elephant</td>\n",
       "      <td>35</td>\n",
       "      <td>0.005668</td>\n",
       "      <td>0.299245</td>\n",
       "      <td>0.463597</td>\n",
       "      <td>0.100000</td>\n",
       "      <td>91063035</td>\n",
       "    </tr>\n",
       "    <tr>\n",
       "      <td>2</td>\n",
       "      <td>Patricio Rey y sus Redonditos de Ricota</td>\n",
       "      <td>33</td>\n",
       "      <td>0.004750</td>\n",
       "      <td>0.263328</td>\n",
       "      <td>0.402809</td>\n",
       "      <td>0.100000</td>\n",
       "      <td>83118557</td>\n",
       "    </tr>\n",
       "    <tr>\n",
       "      <td>3</td>\n",
       "      <td>The Smiths</td>\n",
       "      <td>34</td>\n",
       "      <td>0.002892</td>\n",
       "      <td>0.197478</td>\n",
       "      <td>0.158528</td>\n",
       "      <td>0.100000</td>\n",
       "      <td>55725821</td>\n",
       "    </tr>\n",
       "    <tr>\n",
       "      <td>4</td>\n",
       "      <td>Radiohead</td>\n",
       "      <td>31</td>\n",
       "      <td>0.002483</td>\n",
       "      <td>0.181294</td>\n",
       "      <td>0.266145</td>\n",
       "      <td>0.100000</td>\n",
       "      <td>56969054</td>\n",
       "    </tr>\n",
       "  </tbody>\n",
       "</table>\n",
       "</div>"
      ],
      "text/plain": [
       "                                artistName  Weeks_Present   P_Final   St_norm  \\\n",
       "0                              The Beatles             34  0.112674  1.000000   \n",
       "1               Thee Michelle Gun Elephant             35  0.005668  0.299245   \n",
       "2  Patricio Rey y sus Redonditos de Ricota             33  0.004750  0.263328   \n",
       "3                               The Smiths             34  0.002892  0.197478   \n",
       "4                                Radiohead             31  0.002483  0.181294   \n",
       "\n",
       "   Sigma_norm  Decay_Factor   msPlayed  \n",
       "0    1.000000      0.225348  328495363  \n",
       "1    0.463597      0.100000   91063035  \n",
       "2    0.402809      0.100000   83118557  \n",
       "3    0.158528      0.100000   55725821  \n",
       "4    0.266145      0.100000   56969054  "
      ]
     },
     "metadata": {},
     "output_type": "display_data"
    }
   ],
   "source": [
    "print(\"\\n#### Top Artist Based on msPlayed  ####\")\n",
    "display(top_artists[[\"artistName\",\"msPlayed\"]])\n",
    "\n",
    "print(\"\\n#### Top Artists Based on Sustained Habit Score ####\")\n",
    "display(top_triple_filter_artists[\n",
    "    ['artistName',     \n",
    "     'Weeks_Present',\n",
    "     'P_Final',\n",
    "     'St_norm',\n",
    "     'Sigma_norm',\n",
    "     'Decay_Factor',\n",
    "     'msPlayed',\n",
    "    ]\n",
    "].head(5).reset_index(drop=True))"
   ]
  },
  {
   "cell_type": "markdown",
   "metadata": {},
   "source": [
    "#### Visualization: Representation of the contribution of the factors to the Sustained Habit Score."
   ]
  },
  {
   "cell_type": "code",
   "execution_count": null,
   "metadata": {},
   "outputs": [],
   "source": [
    "top_triple_artists = top_triple_filter_artists.head(5).copy()\n",
    "\n",
    "# Create a column representing the 'Risk Factor' to graph\n",
    "top_triple_artists['Risk_Factor'] = 1 / (1 + top_triple_artists['Sigma_norm'])\n",
    "\n",
    "# Select the main factors columns for the chart\n",
    "plot_data = top_triple_artists[[\n",
    "    'artistName',    \n",
    "    'St_norm',        \n",
    "    'Risk_Factor',    \n",
    "    'Decay_Factor'    \n",
    "]].copy()\n",
    "\n",
    "# # Remove redundant columns and prepare \"long\" format for sns.barplot\n",
    "plot_data = plot_data.melt(\n",
    "    id_vars='artistName',\n",
    "    value_vars=['St_norm', 'Risk_Factor', 'Decay_Factor'],\n",
    "    var_name='Factor',\n",
    "    value_name='Normalized_Value'\n",
    ")\n",
    "\n",
    "\n",
    "# --- Visualization ---\n",
    "\n",
    "\n",
    "plt.figure(figsize=(12, 4))\n",
    "\n",
    "# Map the factor names to the legend\n",
    "factor_mapping = {\n",
    "    'St_norm': '1. Inertia (Pattern Quality)',\n",
    "    'Risk_Factor': '2. Risk (Low Volatility)',\n",
    "    'Decay_Factor': '3. Abandonment (Current Status)'\n",
    "}\n",
    "plot_data['Factor'] = plot_data['Factor'].map(factor_mapping)\n",
    "\n",
    "\n",
    "ax = snsv.barplot(\n",
    "    x='Normalized_Value',\n",
    "    y='artistName',\n",
    "    hue='Factor',\n",
    "    data=plot_data,\n",
    "    palette='viridis',  \n",
    "    dodge=False         \n",
    ")\n",
    "\n",
    "plt.title('Contribution of Factors to the Sustained Habit Score.')\n",
    "plt.xlabel(\"Standardized Value of Each Contribution.\")\n",
    "plt.ylabel(\"Artists\")\n",
    "plt.legend(title='Model Component', loc='lower right')\n",
    "plt.grid(axis='x', linestyle='--', alpha=0.6)\n",
    "\n",
    "\n",
    "plt.tight_layout()\n",
    "plt.show()"
   ]
  },
  {
   "cell_type": "markdown",
   "metadata": {},
   "source": [
    "#### Analysis of the Contributions of Various Factors to the Final Rankings by Artists:\n",
    "\n",
    "- The Beatles:\n",
    "\n",
    "| Factor| Normalized Value| Interpretation |   \n",
    "|:---|:---|:--- |\n",
    "| Inertia ($S_t$) |\t1.000 |\t**Maximal Habit Quality.** This is the artist with the strongest, most consistent long-term listening pattern. |\n",
    "| Risk Factor (Baja σ)| 0.500 | **Moderate Volatility.** Their listening pattern is somewhat erratic, indicating spikes in consumption. |\n",
    "| Decay Factor (No Abandonment)| 0.225\t| **Significant Abandonment.** The habit was strong but has significantly decayed or was not active towards the end of the analysis period. |\n",
    "\n",
    "- Thee Michelle Gun Elephant:  \n",
    "\n",
    "| Factor| Normalized Value| Interpretation  |    \n",
    "|:---|:---|:--- |\n",
    "| Inertia ($S_t$) |\t0.299 |\t**Low Habit Quality.** Their overall listening level is relatively low compared to the top artist. |\n",
    "| Risk Factor (Low σ)| 0.683 | **Low Risk.** Highly stable listening pattern, much more uniform and less volatile than The Beatles. |\n",
    "| Decay Factor (No Abandonment)| 0.100\t| **Maximum Penalization.** The habit has been almost completely abandoned.|\n",
    "\n",
    "- Patricio Rey y sus Redonditos de Ricota: \n",
    "\n",
    "| Factor| Normalized Value| Interpretation | \n",
    "|:---|:---|:--- |\n",
    "| Inertia ($S_t$) |\t0.263 |\t**Low Habit Quality.** |\n",
    "| Risk Factor (Low σ)| 0.713 | **Lowest Risk.** This artist has the most uniform and consistent weekly listening pattern of all five. |\n",
    "| Decay Factor (No Abandonment)| 0.100\t| **Maximum Penalization.** The habit has been almost completely abandoned. |\n",
    "\n",
    "- The Smiths:  \n",
    "\n",
    "| Factor| Normalized Value| Interpretation |  \n",
    "|:---|:---|:--- |\n",
    "| Inertia ($S_t$) |\t0.197 |\t **Lowest Habit Quality.** Relatively low overall long-term consumption. | \n",
    "| Risk Factor (Low σ)| 0.863 | **Very Low Risk.** Exceptionally stable and uniform listening pattern. This is a highly reliable background or consistent rotation artist. |\n",
    "| Decay Factor (No Abandonment)| 0.100\t| **Maximum Penalization.** The habit has been almost completely abandoned. |\n",
    "\n",
    "- Radiohead:  \n",
    "\n",
    "| Factor| Normalized Value| Interpretation | \n",
    "|:---|:---|:--- |\n",
    "| Inertia ($S_t$) |\t0.181 |\t**Lowest Habit Quality.**  | \n",
    "| Risk Factor (Low σ)| 0.790 | **Low Risk.** Highly stable listening pattern. |\n",
    "| Decay Factor (No Abandonment)| 0.100\t| **Maximum Penalization.** The habit has been almost completely abandoned. |"
   ]
  },
  {
   "cell_type": "markdown",
   "metadata": {},
   "source": [
    "#### Key Findings from the Contribution of Factors to the Final Ranking by Artists.\n",
    "\n",
    "**Abandonment is Universal**\n",
    "- The most striking observation is that the **Decay Factor** is the **limiting factor** for almost every artist, holding their $P_{Final}$ scores down.\n",
    "- **Four out of five artists** are at the minimum decay score of **0.100**, indicating a complete or sustained abandonment of their listening habit by the end of the analysis period.\n",
    "- **The Beatles** have the highest Decay Factor, suggesting they were the least abandoned, but still heavily penalized.\n",
    "\n",
    "**The Dominance of Volatility for The Beatles**\n",
    "- **The Beatles** lead the Inertia rank but have the lowest **Risk Factor** among the group, meaning their habit is the **most volatile**. This is consistent with an artist having massive, but somewhat erratic, listening events.\n",
    "- In contrast, *The Smiths*, *Radiohead*, and *Patricio Rey*  all show significantly smoother, **less volatile listening patterns**.\n",
    "\n",
    "**Final Ranking Implications**\n",
    "The final artist ranking is a balance of all factors, and in this case, the **Final Score** will be dominated by the least penalized Decay Factor, combined with high Inertia.\n",
    "- **The Beatles** will likely win: Their **perfect Inertia** combined with a **Decay Factor** that is more than double the others is mathematically overpowering.\n",
    "- *The Smiths and Radiohead*, **despite their perfect Volatility scores** (very stable listening patterns), will fall to the bottom due to their **low Inertia** and maximum **Abandonment penalty**."
   ]
  }
 ],
 "metadata": {
  "colab": {
   "provenance": []
  },
  "kernelspec": {
   "display_name": "Python 3",
   "language": "python",
   "name": "python3"
  },
  "language_info": {
   "codemirror_mode": {
    "name": "ipython",
    "version": 3
   },
   "file_extension": ".py",
   "mimetype": "text/x-python",
   "name": "python",
   "nbconvert_exporter": "python",
   "pygments_lexer": "ipython3",
   "version": "3.7.4"
  }
 },
 "nbformat": 4,
 "nbformat_minor": 1
}
